{
  "nbformat": 4,
  "nbformat_minor": 0,
  "metadata": {
    "colab": {
      "name": "split_Q1.ipynb",
      "provenance": [],
      "collapsed_sections": []
    },
    "kernelspec": {
      "name": "python3",
      "display_name": "Python 3"
    },
    "language_info": {
      "name": "python"
    }
  },
  "cells": [
    {
      "cell_type": "code",
      "execution_count": 1,
      "metadata": {
        "colab": {
          "base_uri": "https://localhost:8080/"
        },
        "id": "Qwn39Yngw3xc",
        "outputId": "9564e51f-2eb7-4cc0-b999-bf573b9a2bdc"
      },
      "outputs": [
        {
          "output_type": "stream",
          "name": "stdout",
          "text": [
            "Mounted at /content/drive\n"
          ]
        }
      ],
      "source": [
        "from google.colab import drive\n",
        "drive.mount('/content/drive')"
      ]
    },
    {
      "cell_type": "code",
      "source": [
        "!unzip /content/drive/MyDrive/MV_HW04_dataset/dataset.zip -d /content/drive/MyDrive/MV_HW04_dataset"
      ],
      "metadata": {
        "id": "5HOY76OhyXbK"
      },
      "execution_count": null,
      "outputs": []
    },
    {
      "cell_type": "code",
      "source": [
        "import os \n",
        "import shutil\n",
        "import random\n",
        "\n",
        "images = os.listdir('/content/drive/MyDrive/MV_HW04_dataset/dataset')\n",
        "random.shuffle(images)\n",
        "\n",
        "split_rate = 0.8"
      ],
      "metadata": {
        "id": "UqYLXXmW84c9"
      },
      "execution_count": 2,
      "outputs": []
    },
    {
      "cell_type": "code",
      "source": [
        "images[0:10]"
      ],
      "metadata": {
        "colab": {
          "base_uri": "https://localhost:8080/"
        },
        "id": "oujvwSnlKoOX",
        "outputId": "a4d73492-46e7-47bf-f596-e6a4e052b0a0"
      },
      "execution_count": 3,
      "outputs": [
        {
          "output_type": "execute_result",
          "data": {
            "text/plain": [
              "['00687.ppm',\n",
              " '00571.ppm',\n",
              " '00492.ppm',\n",
              " '00156.ppm',\n",
              " '00227.ppm',\n",
              " '00561.ppm',\n",
              " '00456.ppm',\n",
              " '00129.ppm',\n",
              " '00233.ppm',\n",
              " '00430.ppm']"
            ]
          },
          "metadata": {},
          "execution_count": 3
        }
      ]
    },
    {
      "cell_type": "code",
      "source": [
        "number = split_rate * len(images)\n",
        "train_data = images[:int(number)]\n",
        "test_data = images[int(number):]"
      ],
      "metadata": {
        "id": "sOLen3FaKqmc"
      },
      "execution_count": 4,
      "outputs": []
    },
    {
      "cell_type": "code",
      "source": [
        "print('number of train data: ',len(train_data))\n",
        "print('number of test data: ',len(test_data))"
      ],
      "metadata": {
        "colab": {
          "base_uri": "https://localhost:8080/"
        },
        "id": "J0Rs8HorL71m",
        "outputId": "b0b12f54-66f6-41ca-dc1a-99dbd8fb7b9e"
      },
      "execution_count": 5,
      "outputs": [
        {
          "output_type": "stream",
          "name": "stdout",
          "text": [
            "number of train data:  720\n",
            "number of test data:  180\n"
          ]
        }
      ]
    },
    {
      "cell_type": "code",
      "source": [
        "text = open('/content/dataset.txt').read()\n",
        "text = text.split('\\n')"
      ],
      "metadata": {
        "id": "a9vtJSTqM3Lx"
      },
      "execution_count": 6,
      "outputs": []
    },
    {
      "cell_type": "code",
      "source": [
        "train_text = open(\"/content/train_text.txt\", \"w\")\n",
        "for i in range(len(train_data)) :\n",
        "  for j in range(len(text)):\n",
        "    if (train_data[i] in text[j]) == 1:\n",
        "     s = text[j]+'\\n'\n",
        "     train_text.write(s)\n",
        "train_text.close()"
      ],
      "metadata": {
        "id": "lts1dvufPatm"
      },
      "execution_count": 7,
      "outputs": []
    },
    {
      "cell_type": "code",
      "source": [
        "test_text = open(\"/content/test_text.txt\", \"w\")\n",
        "for i in range(len(test_data)) :\n",
        "  for j in range(len(text)):\n",
        "    if (test_data[i] in text[j]) == 1:\n",
        "     s = text[j]+'\\n'\n",
        "     test_text.write(s)\n",
        "test_text.close()"
      ],
      "metadata": {
        "id": "bNRQPcbyU3LM"
      },
      "execution_count": 8,
      "outputs": []
    }
  ]
}