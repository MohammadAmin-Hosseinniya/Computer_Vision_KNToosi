{
  "cells": [
    {
      "cell_type": "code",
      "execution_count": 1,
      "metadata": {
        "colab": {
          "base_uri": "https://localhost:8080/"
        },
        "id": "_vtevGVBdjuY",
        "outputId": "8d0d9d84-0ad0-4a37-cecb-b57ef5ac67bf"
      },
      "outputs": [
        {
          "output_type": "stream",
          "name": "stdout",
          "text": [
            "Mounted at /content/drive\n"
          ]
        }
      ],
      "source": [
        "from google.colab import drive\n",
        "drive.mount('/content/drive')"
      ]
    },
    {
      "cell_type": "code",
      "execution_count": 2,
      "metadata": {
        "id": "TYl7i1ZHdkNL"
      },
      "outputs": [],
      "source": [
        "import tensorflow as tf\n",
        "import numpy as np\n",
        "import cv2\n",
        "import os\n",
        "from sklearn.model_selection import train_test_split\n",
        "import matplotlib.pyplot as plt\n",
        "from keras.preprocessing.image import ImageDataGenerator\n",
        "from keras.utils.np_utils import to_categorical\n",
        "from keras.models import Sequential\n",
        "from keras.layers import Dense\n",
        "from tensorflow.keras.optimizers import Adam\n",
        "from keras.layers import Dropout,Flatten\n",
        "from keras.layers.convolutional import Conv2D,MaxPooling2D"
      ]
    },
    {
      "cell_type": "code",
      "execution_count": 9,
      "metadata": {
        "id": "ncQvotTPeAsl"
      },
      "outputs": [],
      "source": [
        "train_path =\"/content/drive/MyDrive/Machine_Vision_Project/Phase2/Dataset/OCT2017 /train\"\n",
        "test_path =\"/content/drive/MyDrive/Machine_Vision_Project/Phase2/Dataset/OCT2017 /test\"\n",
        "val_path =\"/content/drive/MyDrive/Machine_Vision_Project/Phase2/Dataset/OCT2017 /val\"\n",
        "test_ratio=0.2\n",
        "val_ratio=0.2\n",
        "image_size=(128,128,3)"
      ]
    },
    {
      "cell_type": "code",
      "execution_count": 5,
      "metadata": {
        "colab": {
          "base_uri": "https://localhost:8080/"
        },
        "id": "zowntCv4eWDX",
        "outputId": "22f88645-9d74-44d5-dd17-3e0d74d9c520"
      },
      "outputs": [
        {
          "output_type": "stream",
          "name": "stdout",
          "text": [
            "Total Number of Classes Detected : 4\n",
            "['CNV', 'DME', 'DRUSEN', 'NORMAL']\n"
          ]
        }
      ],
      "source": [
        "myList = os.listdir(train_path)\n",
        "print(\"Total Number of Classes Detected :\",len(myList))\n",
        "print(myList)\n",
        "noOfclasses= len(myList)"
      ]
    },
    {
      "cell_type": "code",
      "execution_count": 10,
      "metadata": {
        "colab": {
          "base_uri": "https://localhost:8080/"
        },
        "id": "e56Om7APecaM",
        "outputId": "e1cdc220-ed95-4701-fa5e-264d73690b9c"
      },
      "outputs": [
        {
          "output_type": "stream",
          "name": "stdout",
          "text": [
            "CNV DME DRUSEN NORMAL "
          ]
        }
      ],
      "source": [
        "images=[]\n",
        "classNo=[]\n",
        "CATEGORIES = ['NORMAL',\"CNV\",\"DME\",\"DRUSEN\"]\n",
        "for x in myList:\n",
        "    myPicList = os.listdir(train_path+\"/\"+str(x))\n",
        "    for y in myPicList:\n",
        "        curImg = cv2.imread(train_path+\"/\"+str(x)+\"/\"+y)\n",
        "        curImg = cv2.resize(curImg,(image_size[0],image_size[1]))\n",
        "        images.append(curImg)\n",
        "        classNo.append(CATEGORIES.index(x))\n",
        "    print(x,end=\" \")"
      ]
    },
    {
      "cell_type": "code",
      "execution_count": 6,
      "metadata": {
        "colab": {
          "base_uri": "https://localhost:8080/"
        },
        "id": "NNgL2x55ew5Q",
        "outputId": "9ea8d839-79ed-4b36-e88e-f926fbed5822"
      },
      "outputs": [
        {
          "output_type": "stream",
          "name": "stdout",
          "text": [
            "CNV DME DRUSEN NORMAL "
          ]
        }
      ],
      "source": [
        "x_test=[]\n",
        "y_test=[]\n",
        "CATEGORIES = ['NORMAL',\"CNV\",\"DME\",\"DRUSEN\"]\n",
        "for x in myList:\n",
        "    myPicList = os.listdir(test_path+\"/\"+str(x))\n",
        "    for y in myPicList:\n",
        "        curImg = cv2.imread(test_path+\"/\"+str(x)+\"/\"+y)\n",
        "        curImg = cv2.resize(curImg,(image_size[0],image_size[1]))\n",
        "        x_test.append(curImg)\n",
        "        y_test.append(CATEGORIES.index(x))\n",
        "    print(x,end=\" \")"
      ]
    },
    {
      "cell_type": "code",
      "execution_count": 7,
      "metadata": {
        "colab": {
          "base_uri": "https://localhost:8080/"
        },
        "id": "WVVl377ufAI9",
        "outputId": "06b7771f-c559-4595-c9c3-bd7cec4bf760"
      },
      "outputs": [
        {
          "output_type": "stream",
          "name": "stdout",
          "text": [
            "CNV DME DRUSEN NORMAL "
          ]
        }
      ],
      "source": [
        "x_val=[]\n",
        "y_val=[]\n",
        "CATEGORIES = ['NORMAL',\"CNV\",\"DME\",\"DRUSEN\"]\n",
        "for x in myList:\n",
        "    myPicList = os.listdir(val_path+\"/\"+str(x))\n",
        "    for y in myPicList:\n",
        "        curImg = cv2.imread(val_path+\"/\"+str(x)+\"/\"+y)\n",
        "        curImg = cv2.resize(curImg,(image_size[0],image_size[1]))\n",
        "        x_val.append(curImg)\n",
        "        y_val.append(CATEGORIES.index(x))\n",
        "    print(x,end=\" \")"
      ]
    },
    {
      "cell_type": "code",
      "execution_count": 11,
      "metadata": {
        "colab": {
          "base_uri": "https://localhost:8080/"
        },
        "id": "fc8B91oyfWpz",
        "outputId": "6fd49d23-fccd-4bbd-f197-37237b380a29"
      },
      "outputs": [
        {
          "output_type": "stream",
          "name": "stdout",
          "text": [
            "83484\n",
            "83484\n"
          ]
        }
      ],
      "source": [
        "print(len(images))\n",
        "print(len(classNo))"
      ]
    },
    {
      "cell_type": "code",
      "execution_count": 12,
      "metadata": {
        "id": "IcsupN1CfhX4"
      },
      "outputs": [],
      "source": [
        "x_train = np.array(images)\n",
        "y_train = np.array(classNo)"
      ]
    },
    {
      "cell_type": "code",
      "execution_count": 13,
      "metadata": {
        "id": "Xip3rpmgf0Zv"
      },
      "outputs": [],
      "source": [
        "x_test = np.array(x_test)\n",
        "y_test = np.array(y_test)\n",
        "x_val = np.array(x_val)\n",
        "y_val = np.array(y_val)"
      ]
    },
    {
      "cell_type": "code",
      "execution_count": 14,
      "metadata": {
        "colab": {
          "base_uri": "https://localhost:8080/"
        },
        "id": "PVjZhutIf3Y1",
        "outputId": "dce2c143-fb04-422c-9804-624ea359f306"
      },
      "outputs": [
        {
          "output_type": "stream",
          "name": "stdout",
          "text": [
            "(83484, 128, 128, 3)\n",
            "(968, 128, 128, 3)\n"
          ]
        }
      ],
      "source": [
        "print(x_train.shape)\n",
        "print(x_test.shape)"
      ]
    },
    {
      "cell_type": "code",
      "execution_count": 15,
      "metadata": {
        "id": "Ono7a0oCf5Iq"
      },
      "outputs": [],
      "source": [
        "del images\n",
        "del classNo"
      ]
    },
    {
      "cell_type": "code",
      "execution_count": 16,
      "metadata": {
        "colab": {
          "base_uri": "https://localhost:8080/"
        },
        "id": "OJP6ki7Mf9V9",
        "outputId": "77bef1de-eb2d-4c25-dfd0-6510a2467e17"
      },
      "outputs": [
        {
          "output_type": "stream",
          "name": "stdout",
          "text": [
            "(83484, 128, 128, 3)\n",
            "(968, 128, 128, 3)\n",
            "(32, 128, 128, 3)\n"
          ]
        }
      ],
      "source": [
        "print(x_train.shape)\n",
        "print(x_test.shape)\n",
        "print(x_val.shape)"
      ]
    },
    {
      "cell_type": "code",
      "execution_count": 17,
      "metadata": {
        "colab": {
          "base_uri": "https://localhost:8080/"
        },
        "id": "qm750500gQV6",
        "outputId": "60a32515-575a-476a-980d-aa3a2aa94462"
      },
      "outputs": [
        {
          "output_type": "stream",
          "name": "stdout",
          "text": [
            "[26315, 37205, 11348, 8616]\n"
          ]
        }
      ],
      "source": [
        "numofSamples=[]\n",
        "for x in range(0,noOfclasses):\n",
        "    numofSamples.append(len(np.where(y_train==x)[0]))\n",
        "print(numofSamples)"
      ]
    },
    {
      "cell_type": "code",
      "execution_count": 18,
      "metadata": {
        "colab": {
          "base_uri": "https://localhost:8080/",
          "height": 350
        },
        "id": "KNb0j7wOgWx0",
        "outputId": "427111a0-8930-4561-8aa1-821547fef236"
      },
      "outputs": [
        {
          "output_type": "display_data",
          "data": {
            "text/plain": [
              "<Figure size 720x360 with 1 Axes>"
            ],
            "image/png": "[encoded data removed]"
          },
          "metadata": {
            "needs_background": "light"
          }
        }
      ],
      "source": [
        "plt.figure(figsize=(10,5))\n",
        "plt.bar(range(0,noOfclasses),numofSamples)\n",
        "plt.title('No of Images for each Class')\n",
        "plt.xlabel(\"Class ID\")\n",
        "plt.ylabel(\"No of Images\")\n",
        "plt.show()"
      ]
    },
    {
      "cell_type": "code",
      "execution_count": 19,
      "metadata": {
        "colab": {
          "base_uri": "https://localhost:8080/",
          "height": 351
        },
        "id": "zT2sahd0gbau",
        "outputId": "2b71f5b5-1e4a-4679-b9cd-0a0f76db2cf5"
      },
      "outputs": [
        {
          "output_type": "stream",
          "name": "stderr",
          "text": [
            "/usr/local/lib/python3.7/dist-packages/seaborn/_decorators.py:43: FutureWarning: Pass the following variable as a keyword arg: x. From version 0.12, the only valid positional argument will be `data`, and passing other arguments without an explicit keyword will result in an error or misinterpretation.\n",
            "  FutureWarning\n"
          ]
        },
        {
          "output_type": "execute_result",
          "data": {
            "text/plain": [
              "<matplotlib.axes._subplots.AxesSubplot at 0x7fc3b84dc590>"
            ]
          },
          "metadata": {},
          "execution_count": 19
        },
        {
          "output_type": "display_data",
          "data": {
            "text/plain": [
              "<Figure size 432x288 with 1 Axes>"
            ],
            "image/png": "[encoded data removed]"
          },
          "metadata": {
            "needs_background": "light"
          }
        }
      ],
      "source": [
        "from imblearn.under_sampling import RandomUnderSampler\n",
        "import pandas as pd\n",
        "import seaborn as sns\n",
        "X_trainShape = x_train.shape[1]*x_train.shape[2]*x_train.shape[3]\n",
        "X_trainFlat = x_train.reshape(x_train.shape[0], X_trainShape)\n",
        "Y_train = y_train\n",
        "ros = RandomUnderSampler()\n",
        "X_trainRos, Y_trainRos = ros.fit_resample(X_trainFlat, Y_train)\n",
        "# Encode labels to hot vectors (ex : 2 -> [0,0,1,0,0,0,0,0,0,0])\n",
        "Y_trainRosHot = to_categorical(Y_trainRos, num_classes = 4)\n",
        "# Make Data 2D again\n",
        "for i in range(len(X_trainRos)):\n",
        "    height, width, channels = image_size[0],image_size[1],3\n",
        "    X_trainRosReshaped = X_trainRos.reshape(len(X_trainRos),height,width,channels)\n",
        "# Plot Label Distribution\n",
        "dfRos = pd.DataFrame()\n",
        "dfRos[\"labels\"]=Y_trainRos\n",
        "labRos = dfRos['labels']\n",
        "sns.countplot(labRos)"
      ]
    },
    {
      "cell_type": "code",
      "execution_count": 20,
      "metadata": {
        "id": "NX9EpuY9gtAT"
      },
      "outputs": [],
      "source": [
        "def preProcessing(img):\n",
        "    img = cv2.cvtColor(img,cv2.COLOR_BGR2GRAY)\n",
        "    return img"
      ]
    },
    {
      "cell_type": "code",
      "execution_count": 21,
      "metadata": {
        "colab": {
          "base_uri": "https://localhost:8080/"
        },
        "id": "0Mhdocs-g0X1",
        "outputId": "9baa9295-715e-434e-f312-2c395fc298ee"
      },
      "outputs": [
        {
          "output_type": "stream",
          "name": "stdout",
          "text": [
            "(128, 128)\n"
          ]
        }
      ],
      "source": [
        "x_train = np.array(list(map(preProcessing,X_trainRosReshaped)))\n",
        "print(x_train[0].shape)\n"
      ]
    },
    {
      "cell_type": "code",
      "execution_count": 22,
      "metadata": {
        "colab": {
          "base_uri": "https://localhost:8080/"
        },
        "id": "PDwPo2zzg-P7",
        "outputId": "2c2684e6-a69c-4c6d-aabb-a6fdc30f18b7"
      },
      "outputs": [
        {
          "output_type": "stream",
          "name": "stdout",
          "text": [
            "(128, 128)\n"
          ]
        }
      ],
      "source": [
        "x_test = np.array(list(map(preProcessing,x_test)))\n",
        "print(x_test[0].shape)"
      ]
    },
    {
      "cell_type": "code",
      "execution_count": 23,
      "metadata": {
        "colab": {
          "base_uri": "https://localhost:8080/"
        },
        "id": "xMTscC7ShBAl",
        "outputId": "f8ffe599-6def-4016-9510-2ae8b3b46d25"
      },
      "outputs": [
        {
          "output_type": "stream",
          "name": "stdout",
          "text": [
            "(128, 128)\n"
          ]
        }
      ],
      "source": [
        "x_validation = np.array(list(map(preProcessing,x_val)))\n",
        "print(x_validation[0].shape)"
      ]
    },
    {
      "cell_type": "code",
      "execution_count": 24,
      "metadata": {
        "colab": {
          "base_uri": "https://localhost:8080/"
        },
        "id": "iJeRxKKChEAC",
        "outputId": "83b8343d-ec49-479b-d258-a8e6102a6a38"
      },
      "outputs": [
        {
          "output_type": "stream",
          "name": "stdout",
          "text": [
            "(34464, 128, 128, 1)\n"
          ]
        }
      ],
      "source": [
        "X_train = x_train.reshape(x_train.shape[0],x_train.shape[1],x_train.shape[2],1)\n",
        "print(X_train.shape)"
      ]
    },
    {
      "cell_type": "code",
      "execution_count": 25,
      "metadata": {
        "id": "p-UN6AhPhH9W"
      },
      "outputs": [],
      "source": [
        "X_test = x_test.reshape(x_test.shape[0],x_test.shape[1],x_test.shape[2],1)\n",
        "X_validation = x_validation.reshape(x_validation.shape[0],x_validation.shape[1],x_validation.shape[2],1)"
      ]
    },
    {
      "cell_type": "code",
      "execution_count": 26,
      "metadata": {
        "id": "wdmqHzRrhK_3"
      },
      "outputs": [],
      "source": [
        "del x_test\n",
        "del x_train\n",
        "del x_validation"
      ]
    },
    {
      "cell_type": "code",
      "execution_count": 27,
      "metadata": {
        "id": "hodo6kEEhOoI"
      },
      "outputs": [],
      "source": [
        "y_train = to_categorical(Y_trainRos,noOfclasses)\n",
        "y_test = to_categorical(y_test,noOfclasses)\n",
        "y_validation = to_categorical(y_val,noOfclasses)"
      ]
    },
    {
      "cell_type": "code",
      "execution_count": 28,
      "metadata": {
        "id": "_gOThc9RhZML"
      },
      "outputs": [],
      "source": [
        "class CustomCallback(tf.keras.callbacks.Callback):\n",
        "    def __init__(self,fraction):\n",
        "        super(CustomCallback,self).__init__()\n",
        "        self.fraction = fraction\n",
        "        self.train_a = [];\n",
        "        self.val_a =[];\n",
        "\n",
        "        with open('log.txt','w') as f:\n",
        "            f.write('Starting of logging..\\n')\n",
        "\n",
        "        self.fig = plt.figure(figsize=(4,3))\n",
        "        self.ax = plt.subplot(1,1,1)\n",
        "        plt.ion()\n",
        "\n",
        "    def on_train_begin(self,logs=None):\n",
        "        self.fig.show()\n",
        "        self.fig.canvas.draw()\n",
        "  \n",
        "    def on_train_end(self,logs=None):\n",
        "        with open('log.txt','a') as f:\n",
        "            f.write('End of logging..\\n')\n",
        "    def on_epoch_begin(self,epoch,logs=None):\n",
        "        lr= tf.keras.backend.get_value(self.model.optimizer.lr)\n",
        "        lr *= self.fraction\n",
        "        tf.keras.backend.set_value(self.model.optimizer.lr,lr)\n",
        "        with open('log.txt','a') as f:\n",
        "            f.write('At epoch {:02d}, learning rate changed to {:.4f}\\n'.format(epoch,lr))\n",
        "    def on_epoch_end(self,epoch,logs=None):\n",
        "        val_acc = logs.get('val_accuracy')\n",
        "        train_acc = logs.get('accuracy')\n",
        "        self.train_a.append(train_acc)\n",
        "        self.val_a.append(val_acc)\n",
        "        with open('log.txt','a') as f:\n",
        "            f.write('At epoch {:02d}, training accuracy: {:.3f}, validation accuracy: {:.3f}\\n'.format(epoch,train_acc,val_acc))\n",
        "        self.ax.clear()\n",
        "        self.ax.plot(range(1+epoch),self.train_a,label=\"Training\")\n",
        "        self.ax.plot(range(1+epoch),self.val_a,label=\"Validation\")\n",
        "        self.ax.set_xlabel('Epochs')\n",
        "        self.ax.set_ylabel('Accuracy')\n",
        "        self.ax.legend()\n",
        "        self.fig.canvas.draw()\n",
        "        self.fig.show()"
      ]
    },
    {
      "cell_type": "code",
      "execution_count": 29,
      "metadata": {
        "id": "nAoKUXA4hdJQ"
      },
      "outputs": [],
      "source": [
        "\n",
        "def model():\n",
        "    model = Sequential();\n",
        "    model.add((Conv2D(80,(5,5),input_shape=(image_size[0],image_size[1],1)\n",
        "    ,activation=\"relu\")))\n",
        "\n",
        "    model.add((Conv2D(80,(5,5),activation=\"relu\")))\n",
        "    model.add((Conv2D(80//2,(4,4),activation=\"relu\")))\n",
        "    model.add((Conv2D(80//2,(4,4),activation=\"relu\")))\n",
        "    model.add(MaxPooling2D(pool_size=(2,2)))\n",
        "    model.add(Dropout(0.2))\n",
        "\n",
        "    model.add((Conv2D(80,(5,5),activation=\"relu\")))\n",
        "    model.add((Conv2D(80//2,(4,4),activation=\"relu\")))\n",
        "    model.add((Conv2D(80//2,(4,4),activation=\"relu\")))\n",
        "    model.add(MaxPooling2D(pool_size=(2,2)))\n",
        "    model.add(Dropout(0.2))\n",
        "    \n",
        "    model.add((Conv2D(80,(4,4),activation=\"relu\")))\n",
        "    model.add(MaxPooling2D(pool_size=(2,2)))\n",
        "    model.add((Conv2D(80//2,(3,3),activation=\"relu\")))\n",
        "    model.add((Conv2D(80//2,(3,3),activation=\"relu\")))\n",
        "    model.add(MaxPooling2D(pool_size=(2,2)))\n",
        "    model.add(Dropout(0.2))\n",
        "\n",
        "    model.add(Flatten())\n",
        "    model.add(Dense(6000,activation=\"relu\"))\n",
        "    model.add(Dropout(0.2))\n",
        "    model.add(Dense(noOfclasses,activation=\"softmax\"))\n",
        "\n",
        "    model.compile(Adam(learning_rate=0.001),loss=\"categorical_crossentropy\",metrics=['accuracy'])\n",
        "\n",
        "    return model\n",
        "  \n",
        "model=model()"
      ]
    },
    {
      "cell_type": "code",
      "execution_count": 30,
      "metadata": {
        "colab": {
          "base_uri": "https://localhost:8080/"
        },
        "id": "wg5I70gdhhJx",
        "outputId": "5da16827-fcba-479c-be8e-c0ada513c9aa"
      },
      "outputs": [
        {
          "output_type": "stream",
          "name": "stdout",
          "text": [
            "Model: \"sequential\"\n",
            "_________________________________________________________________\n",
            " Layer (type)                Output Shape              Param #   \n",
            "=================================================================\n",
            " conv2d (Conv2D)             (None, 124, 124, 80)      2080      \n",
            "                                                                 \n",
            " conv2d_1 (Conv2D)           (None, 120, 120, 80)      160080    \n",
            "                                                                 \n",
            " conv2d_2 (Conv2D)           (None, 117, 117, 40)      51240     \n",
            "                                                                 \n",
            " conv2d_3 (Conv2D)           (None, 114, 114, 40)      25640     \n",
            "                                                                 \n",
            " max_pooling2d (MaxPooling2D  (None, 57, 57, 40)       0         \n",
            " )                                                               \n",
            "                                                                 \n",
            " dropout (Dropout)           (None, 57, 57, 40)        0         \n",
            "                                                                 \n",
            " conv2d_4 (Conv2D)           (None, 53, 53, 80)        80080     \n",
            "                                                                 \n",
            " conv2d_5 (Conv2D)           (None, 50, 50, 40)        51240     \n",
            "                                                                 \n",
            " conv2d_6 (Conv2D)           (None, 47, 47, 40)        25640     \n",
            "                                                                 \n",
            " max_pooling2d_1 (MaxPooling  (None, 23, 23, 40)       0         \n",
            " 2D)                                                             \n",
            "                                                                 \n",
            " dropout_1 (Dropout)         (None, 23, 23, 40)        0         \n",
            "                                                                 \n",
            " conv2d_7 (Conv2D)           (None, 20, 20, 80)        51280     \n",
            "                                                                 \n",
            " max_pooling2d_2 (MaxPooling  (None, 10, 10, 80)       0         \n",
            " 2D)                                                             \n",
            "                                                                 \n",
            " conv2d_8 (Conv2D)           (None, 8, 8, 40)          28840     \n",
            "                                                                 \n",
            " conv2d_9 (Conv2D)           (None, 6, 6, 40)          14440     \n",
            "                                                                 \n",
            " max_pooling2d_3 (MaxPooling  (None, 3, 3, 40)         0         \n",
            " 2D)                                                             \n",
            "                                                                 \n",
            " dropout_2 (Dropout)         (None, 3, 3, 40)          0         \n",
            "                                                                 \n",
            " flatten (Flatten)           (None, 360)               0         \n",
            "                                                                 \n",
            " dense (Dense)               (None, 6000)              2166000   \n",
            "                                                                 \n",
            " dropout_3 (Dropout)         (None, 6000)              0         \n",
            "                                                                 \n",
            " dense_1 (Dense)             (None, 4)                 24004     \n",
            "                                                                 \n",
            "=================================================================\n",
            "Total params: 2,680,564\n",
            "Trainable params: 2,680,564\n",
            "Non-trainable params: 0\n",
            "_________________________________________________________________\n"
          ]
        }
      ],
      "source": [
        "model.summary()"
      ]
    },
    {
      "cell_type": "code",
      "execution_count": 31,
      "metadata": {
        "id": "DJ80Sy83hmWF"
      },
      "outputs": [],
      "source": [
        "os.environ[\"CUDA_VISIBLE_DEVICES\"]=\"0\""
      ]
    },
    {
      "cell_type": "code",
      "execution_count": 32,
      "metadata": {
        "colab": {
          "base_uri": "https://localhost:8080/",
          "height": 1000
        },
        "id": "6k-3vbFFiHnn",
        "outputId": "7ebb612a-e461-4c96-b694-51330679b974"
      },
      "outputs": [
        {
          "output_type": "stream",
          "name": "stdout",
          "text": [
            "Epoch 1/25\n",
            "  6/135 [>.............................] - ETA: 3:22 - loss: 2.0423 - accuracy: 0.2507WARNING:tensorflow:Callback method `on_train_batch_end` is slow compared to the batch time (batch time: 0.3483s vs `on_train_batch_end` time: 1.0193s). Check your callbacks.\n",
            "135/135 [==============================] - 270s 2s/step - loss: 1.1933 - accuracy: 0.4579 - val_loss: 0.5086 - val_accuracy: 0.8125\n",
            "Epoch 2/25\n",
            "135/135 [==============================] - 215s 2s/step - loss: 0.7703 - accuracy: 0.6993 - val_loss: 0.3276 - val_accuracy: 0.9375\n",
            "Epoch 3/25\n",
            "135/135 [==============================] - 215s 2s/step - loss: 0.6091 - accuracy: 0.7713 - val_loss: 0.3325 - val_accuracy: 0.8750\n",
            "Epoch 4/25\n",
            "135/135 [==============================] - 215s 2s/step - loss: 0.4648 - accuracy: 0.8309 - val_loss: 0.0883 - val_accuracy: 1.0000\n",
            "Epoch 5/25\n",
            "135/135 [==============================] - 215s 2s/step - loss: 0.3876 - accuracy: 0.8642 - val_loss: 0.1475 - val_accuracy: 0.9688\n",
            "Epoch 6/25\n",
            "135/135 [==============================] - 215s 2s/step - loss: 0.3417 - accuracy: 0.8800 - val_loss: 0.0503 - val_accuracy: 1.0000\n",
            "Epoch 7/25\n",
            "135/135 [==============================] - 215s 2s/step - loss: 0.3034 - accuracy: 0.8946 - val_loss: 0.0490 - val_accuracy: 1.0000\n",
            "Epoch 8/25\n",
            "135/135 [==============================] - 215s 2s/step - loss: 0.2900 - accuracy: 0.9006 - val_loss: 0.0979 - val_accuracy: 0.9375\n",
            "Epoch 9/25\n",
            "135/135 [==============================] - 216s 2s/step - loss: 0.2679 - accuracy: 0.9077 - val_loss: 0.0714 - val_accuracy: 1.0000\n",
            "Epoch 10/25\n",
            "135/135 [==============================] - 216s 2s/step - loss: 0.2599 - accuracy: 0.9109 - val_loss: 0.0419 - val_accuracy: 1.0000\n",
            "Epoch 11/25\n",
            "135/135 [==============================] - 215s 2s/step - loss: 0.2381 - accuracy: 0.9180 - val_loss: 0.0406 - val_accuracy: 1.0000\n",
            "Epoch 12/25\n",
            "135/135 [==============================] - 216s 2s/step - loss: 0.2223 - accuracy: 0.9208 - val_loss: 0.0426 - val_accuracy: 1.0000\n",
            "Epoch 13/25\n",
            "135/135 [==============================] - 216s 2s/step - loss: 0.2119 - accuracy: 0.9264 - val_loss: 0.0301 - val_accuracy: 1.0000\n",
            "Epoch 14/25\n",
            "135/135 [==============================] - 216s 2s/step - loss: 0.2058 - accuracy: 0.9294 - val_loss: 0.0258 - val_accuracy: 1.0000\n",
            "Epoch 15/25\n",
            "135/135 [==============================] - 216s 2s/step - loss: 0.1972 - accuracy: 0.9318 - val_loss: 0.0224 - val_accuracy: 1.0000\n",
            "Epoch 16/25\n",
            "135/135 [==============================] - 216s 2s/step - loss: 0.1821 - accuracy: 0.9365 - val_loss: 0.0336 - val_accuracy: 1.0000\n",
            "Epoch 17/25\n",
            "135/135 [==============================] - 216s 2s/step - loss: 0.1776 - accuracy: 0.9386 - val_loss: 0.0247 - val_accuracy: 1.0000\n",
            "Epoch 18/25\n",
            "135/135 [==============================] - 216s 2s/step - loss: 0.1700 - accuracy: 0.9411 - val_loss: 0.0255 - val_accuracy: 1.0000\n",
            "Epoch 19/25\n",
            "135/135 [==============================] - 216s 2s/step - loss: 0.1680 - accuracy: 0.9411 - val_loss: 0.0186 - val_accuracy: 1.0000\n",
            "Epoch 20/25\n",
            "135/135 [==============================] - 216s 2s/step - loss: 0.1604 - accuracy: 0.9439 - val_loss: 0.0193 - val_accuracy: 1.0000\n",
            "Epoch 21/25\n",
            "135/135 [==============================] - 216s 2s/step - loss: 0.1549 - accuracy: 0.9459 - val_loss: 0.0144 - val_accuracy: 1.0000\n",
            "Epoch 22/25\n",
            "135/135 [==============================] - 216s 2s/step - loss: 0.1527 - accuracy: 0.9454 - val_loss: 0.0153 - val_accuracy: 1.0000\n",
            "Epoch 23/25\n",
            "135/135 [==============================] - 216s 2s/step - loss: 0.1472 - accuracy: 0.9485 - val_loss: 0.0204 - val_accuracy: 1.0000\n",
            "Epoch 24/25\n",
            "135/135 [==============================] - 216s 2s/step - loss: 0.1436 - accuracy: 0.9505 - val_loss: 0.0116 - val_accuracy: 1.0000\n",
            "Epoch 25/25\n",
            "135/135 [==============================] - 216s 2s/step - loss: 0.1390 - accuracy: 0.9513 - val_loss: 0.0153 - val_accuracy: 1.0000\n"
          ]
        },
        {
          "output_type": "display_data",
          "data": {
            "text/plain": [
              "<Figure size 288x216 with 1 Axes>"
            ],
            "image/png": "[encoded data removed]"
          },
          "metadata": {
            "needs_background": "light"
          }
        }
      ],
      "source": [
        "history = model.fit(X_train,Y_trainRosHot,epochs=25,validation_data =(X_validation,y_validation) ,batch_size=256,\n",
        "                    shuffle=True,\n",
        "                    max_queue_size=20,\n",
        "                    use_multiprocessing=True,\n",
        "                    workers=1,\n",
        "                   callbacks=[CustomCallback(fraction=0.9)])"
      ]
    },
    {
      "cell_type": "code",
      "execution_count": 33,
      "metadata": {
        "colab": {
          "base_uri": "https://localhost:8080/",
          "height": 573
        },
        "id": "Zuhve9vWhw5L",
        "outputId": "cea58ee6-bfae-4cba-ffee-d3f1cee121e0"
      },
      "outputs": [
        {
          "output_type": "display_data",
          "data": {
            "text/plain": [
              "<Figure size 432x288 with 1 Axes>"
            ],
            "image/png": "[encoded data removed]"
          },
          "metadata": {
            "needs_background": "light"
          }
        },
        {
          "output_type": "display_data",
          "data": {
            "text/plain": [
              "<Figure size 432x288 with 1 Axes>"
            ],
            "image/png": "[encoded data removed]"
          },
          "metadata": {
            "needs_background": "light"
          }
        }
      ],
      "source": [
        "plt.figure(1)\n",
        "plt.plot(history.history['loss'])\n",
        "plt.plot(history.history['val_loss'])\n",
        "plt.legend(['training','validation'])\n",
        "plt.title('Loss')\n",
        "plt.xlabel('epoch')\n",
        "plt.figure(2)\n",
        "plt.plot(history.history['accuracy'])\n",
        "plt.plot(history.history['val_accuracy'])\n",
        "plt.legend(['training','validation'])\n",
        "plt.title('Accuracy')\n",
        "plt.xlabel('epoch')\n",
        "plt.show()"
      ]
    },
    {
      "cell_type": "code",
      "execution_count": 34,
      "metadata": {
        "colab": {
          "base_uri": "https://localhost:8080/"
        },
        "id": "x23hnsLuh35K",
        "outputId": "9cb16a42-439c-4cc6-847c-df3b0d21306a"
      },
      "outputs": [
        {
          "output_type": "stream",
          "name": "stdout",
          "text": [
            "Test Score =  0.03961014375090599\n",
            "Test Accuracy =  0.9927685856819153\n"
          ]
        }
      ],
      "source": [
        "score = model.evaluate(X_test,y_test,verbose=0)\n",
        "print('Test Score = ',score[0])\n",
        "print('Test Accuracy = ',score[1])"
      ]
    },
    {
      "cell_type": "code",
      "execution_count": null,
      "metadata": {
        "id": "URalelJ0pkTn"
      },
      "outputs": [],
      "source": [
        ""
      ]
    }
  ],
  "metadata": {
    "accelerator": "GPU",
    "colab": {
      "name": "Q2_a_3.ipynb",
      "provenance": [],
      "collapsed_sections": []
    },
    "gpuClass": "standard",
    "kernelspec": {
      "display_name": "Python 3",
      "name": "python3"
    },
    "language_info": {
      "name": "python"
    }
  },
  "nbformat": 4,
  "nbformat_minor": 0
}