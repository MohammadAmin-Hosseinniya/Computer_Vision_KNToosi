{
  "cells": [
    {
      "cell_type": "code",
      "execution_count": 1,
      "metadata": {
        "colab": {
          "base_uri": "https://localhost:8080/"
        },
        "id": "_vtevGVBdjuY",
        "outputId": "64a52e7b-6d1e-4ecf-d350-12db5059c0a4"
      },
      "outputs": [
        {
          "output_type": "stream",
          "name": "stdout",
          "text": [
            "Mounted at /content/drive\n"
          ]
        }
      ],
      "source": [
        "from google.colab import drive\n",
        "drive.mount('/content/drive')"
      ]
    },
    {
      "cell_type": "code",
      "execution_count": 2,
      "metadata": {
        "id": "TYl7i1ZHdkNL"
      },
      "outputs": [],
      "source": [
        "import tensorflow as tf\n",
        "import numpy as np\n",
        "import cv2\n",
        "import os\n",
        "from sklearn.model_selection import train_test_split\n",
        "import matplotlib.pyplot as plt\n",
        "from keras.preprocessing.image import ImageDataGenerator\n",
        "from keras.utils.np_utils import to_categorical\n",
        "from keras.models import Sequential\n",
        "from keras.layers import Dense\n",
        "from tensorflow.keras.optimizers import Adam\n",
        "from keras.layers import Dropout,Flatten\n",
        "from keras.layers.convolutional import Conv2D,MaxPooling2D"
      ]
    },
    {
      "cell_type": "code",
      "execution_count": 3,
      "metadata": {
        "id": "ncQvotTPeAsl"
      },
      "outputs": [],
      "source": [
        "train_path =\"/content/drive/MyDrive/phase2/Machine_Vision_Project/Phase2/Dataset/OCT2017 /train\"\n",
        "test_path =\"/content/drive/MyDrive/phase2/Machine_Vision_Project/Phase2/Dataset/OCT2017 /test\"\n",
        "val_path =\"/content/drive/MyDrive/phase2/Machine_Vision_Project/Phase2/Dataset/OCT2017 /val\"\n",
        "test_ratio=0.2\n",
        "val_ratio=0.2\n",
        "image_size=(128,128,3)"
      ]
    },
    {
      "cell_type": "code",
      "execution_count": 4,
      "metadata": {
        "colab": {
          "base_uri": "https://localhost:8080/"
        },
        "id": "zowntCv4eWDX",
        "outputId": "de396fb0-8acf-417c-eb75-f664a99de4e0"
      },
      "outputs": [
        {
          "output_type": "stream",
          "name": "stdout",
          "text": [
            "Total Number of Classes Detected : 4\n",
            "['CNV', 'DME', 'DRUSEN', 'NORMAL']\n"
          ]
        }
      ],
      "source": [
        "myList = os.listdir(train_path)\n",
        "print(\"Total Number of Classes Detected :\",len(myList))\n",
        "print(myList)\n",
        "noOfclasses= len(myList)"
      ]
    },
    {
      "cell_type": "code",
      "execution_count": 8,
      "metadata": {
        "colab": {
          "base_uri": "https://localhost:8080/"
        },
        "id": "e56Om7APecaM",
        "outputId": "5e46b318-13af-47b4-9c9e-36d01862cbff"
      },
      "outputs": [
        {
          "output_type": "stream",
          "name": "stdout",
          "text": [
            "CNV DME DRUSEN NORMAL "
          ]
        }
      ],
      "source": [
        "images=[]\n",
        "classNo=[]\n",
        "CATEGORIES = ['NORMAL',\"CNV\",\"DME\",\"DRUSEN\"]\n",
        "for x in myList:\n",
        "    myPicList = os.listdir(train_path+\"/\"+str(x))\n",
        "    for y in myPicList:\n",
        "        curImg = cv2.imread(train_path+\"/\"+str(x)+\"/\"+y)\n",
        "        curImg = cv2.resize(curImg,(image_size[0],image_size[1]))\n",
        "        images.append(curImg)\n",
        "        classNo.append(CATEGORIES.index(x))\n",
        "    print(x,end=\" \")"
      ]
    },
    {
      "cell_type": "code",
      "execution_count": 5,
      "metadata": {
        "colab": {
          "base_uri": "https://localhost:8080/"
        },
        "id": "NNgL2x55ew5Q",
        "outputId": "0a4eb964-e8ab-47e1-ac67-9cd6ceead71e"
      },
      "outputs": [
        {
          "output_type": "stream",
          "name": "stdout",
          "text": [
            "CNV DME DRUSEN NORMAL "
          ]
        }
      ],
      "source": [
        "x_test=[]\n",
        "y_test=[]\n",
        "CATEGORIES = ['NORMAL',\"CNV\",\"DME\",\"DRUSEN\"]\n",
        "for x in myList:\n",
        "    myPicList = os.listdir(test_path+\"/\"+str(x))\n",
        "    for y in myPicList:\n",
        "        curImg = cv2.imread(test_path+\"/\"+str(x)+\"/\"+y)\n",
        "        curImg = cv2.resize(curImg,(image_size[0],image_size[1]))\n",
        "        x_test.append(curImg)\n",
        "        y_test.append(CATEGORIES.index(x))\n",
        "    print(x,end=\" \")"
      ]
    },
    {
      "cell_type": "code",
      "execution_count": 6,
      "metadata": {
        "colab": {
          "base_uri": "https://localhost:8080/"
        },
        "id": "WVVl377ufAI9",
        "outputId": "3cf44d5c-b1ff-4c63-aefe-9fb3476f2e69"
      },
      "outputs": [
        {
          "output_type": "stream",
          "name": "stdout",
          "text": [
            "CNV DME DRUSEN NORMAL "
          ]
        }
      ],
      "source": [
        "x_val=[]\n",
        "y_val=[]\n",
        "CATEGORIES = ['NORMAL',\"CNV\",\"DME\",\"DRUSEN\"]\n",
        "for x in myList:\n",
        "    myPicList = os.listdir(val_path+\"/\"+str(x))\n",
        "    for y in myPicList:\n",
        "        curImg = cv2.imread(val_path+\"/\"+str(x)+\"/\"+y)\n",
        "        curImg = cv2.resize(curImg,(image_size[0],image_size[1]))\n",
        "        x_val.append(curImg)\n",
        "        y_val.append(CATEGORIES.index(x))\n",
        "    print(x,end=\" \")"
      ]
    },
    {
      "cell_type": "code",
      "execution_count": 9,
      "metadata": {
        "colab": {
          "base_uri": "https://localhost:8080/"
        },
        "id": "fc8B91oyfWpz",
        "outputId": "152cf87e-6dbd-4837-b2da-9d3b5d55fdb8"
      },
      "outputs": [
        {
          "output_type": "stream",
          "name": "stdout",
          "text": [
            "83484\n",
            "83484\n"
          ]
        }
      ],
      "source": [
        "print(len(images))\n",
        "print(len(classNo))"
      ]
    },
    {
      "cell_type": "code",
      "execution_count": 10,
      "metadata": {
        "id": "IcsupN1CfhX4"
      },
      "outputs": [],
      "source": [
        "x_train = np.array(images)\n",
        "y_train = np.array(classNo)"
      ]
    },
    {
      "cell_type": "code",
      "execution_count": 11,
      "metadata": {
        "id": "Xip3rpmgf0Zv"
      },
      "outputs": [],
      "source": [
        "x_test = np.array(x_test)\n",
        "y_test = np.array(y_test)\n",
        "x_val = np.array(x_val)\n",
        "y_val = np.array(y_val)"
      ]
    },
    {
      "cell_type": "code",
      "execution_count": 12,
      "metadata": {
        "colab": {
          "base_uri": "https://localhost:8080/"
        },
        "id": "PVjZhutIf3Y1",
        "outputId": "85507cd8-436c-48c8-d7f5-0a4639d75093"
      },
      "outputs": [
        {
          "output_type": "stream",
          "name": "stdout",
          "text": [
            "(83484, 128, 128, 3)\n",
            "(968, 128, 128, 3)\n"
          ]
        }
      ],
      "source": [
        "print(x_train.shape)\n",
        "print(x_test.shape)"
      ]
    },
    {
      "cell_type": "code",
      "execution_count": 13,
      "metadata": {
        "id": "Ono7a0oCf5Iq"
      },
      "outputs": [],
      "source": [
        "del images\n",
        "del classNo"
      ]
    },
    {
      "cell_type": "code",
      "execution_count": 14,
      "metadata": {
        "colab": {
          "base_uri": "https://localhost:8080/"
        },
        "id": "OJP6ki7Mf9V9",
        "outputId": "38f0d646-9c7f-4c86-f423-18bd3c7db5f6"
      },
      "outputs": [
        {
          "output_type": "stream",
          "name": "stdout",
          "text": [
            "(83484, 128, 128, 3)\n",
            "(968, 128, 128, 3)\n",
            "(32, 128, 128, 3)\n"
          ]
        }
      ],
      "source": [
        "print(x_train.shape)\n",
        "print(x_test.shape)\n",
        "print(x_val.shape)"
      ]
    },
    {
      "cell_type": "code",
      "execution_count": 15,
      "metadata": {
        "colab": {
          "base_uri": "https://localhost:8080/"
        },
        "id": "qm750500gQV6",
        "outputId": "44832892-dfbc-407f-a41a-e59c3c093015"
      },
      "outputs": [
        {
          "output_type": "stream",
          "name": "stdout",
          "text": [
            "[26315, 37205, 11348, 8616]\n"
          ]
        }
      ],
      "source": [
        "numofSamples=[]\n",
        "for x in range(0,noOfclasses):\n",
        "    numofSamples.append(len(np.where(y_train==x)[0]))\n",
        "print(numofSamples)"
      ]
    },
    {
      "cell_type": "code",
      "execution_count": 16,
      "metadata": {
        "colab": {
          "base_uri": "https://localhost:8080/",
          "height": 350
        },
        "id": "KNb0j7wOgWx0",
        "outputId": "ca77b34d-5848-4a7b-b1c7-1c2650f79a60"
      },
      "outputs": [
        {
          "output_type": "display_data",
          "data": {
            "text/plain": [
              "<Figure size 720x360 with 1 Axes>"
            ],
            "image/png": "[encoded data removed]"
          },
          "metadata": {
            "needs_background": "light"
          }
        }
      ],
      "source": [
        "plt.figure(figsize=(10,5))\n",
        "plt.bar(range(0,noOfclasses),numofSamples)\n",
        "plt.title('No of Images for each Class')\n",
        "plt.xlabel(\"Class ID\")\n",
        "plt.ylabel(\"No of Images\")\n",
        "plt.show()"
      ]
    },
    {
      "cell_type": "code",
      "execution_count": 17,
      "metadata": {
        "colab": {
          "base_uri": "https://localhost:8080/",
          "height": 351
        },
        "id": "zT2sahd0gbau",
        "outputId": "e48664af-f04f-467e-e80f-3f906ebc788a"
      },
      "outputs": [
        {
          "output_type": "stream",
          "name": "stderr",
          "text": [
            "/usr/local/lib/python3.7/dist-packages/seaborn/_decorators.py:43: FutureWarning: Pass the following variable as a keyword arg: x. From version 0.12, the only valid positional argument will be `data`, and passing other arguments without an explicit keyword will result in an error or misinterpretation.\n",
            "  FutureWarning\n"
          ]
        },
        {
          "output_type": "execute_result",
          "data": {
            "text/plain": [
              "<matplotlib.axes._subplots.AxesSubplot at 0x7f0d35562890>"
            ]
          },
          "metadata": {},
          "execution_count": 17
        },
        {
          "output_type": "display_data",
          "data": {
            "text/plain": [
              "<Figure size 432x288 with 1 Axes>"
            ],
            "image/png": "[encoded data removed]"
          },
          "metadata": {
            "needs_background": "light"
          }
        }
      ],
      "source": [
        "from imblearn.under_sampling import RandomUnderSampler\n",
        "import pandas as pd\n",
        "import seaborn as sns\n",
        "X_trainShape = x_train.shape[1]*x_train.shape[2]*x_train.shape[3]\n",
        "X_trainFlat = x_train.reshape(x_train.shape[0], X_trainShape)\n",
        "Y_train = y_train\n",
        "ros = RandomUnderSampler()\n",
        "X_trainRos, Y_trainRos = ros.fit_resample(X_trainFlat, Y_train)\n",
        "# Encode labels to hot vectors (ex : 2 -> [0,0,1,0,0,0,0,0,0,0])\n",
        "Y_trainRosHot = to_categorical(Y_trainRos, num_classes = 4)\n",
        "# Make Data 2D again\n",
        "for i in range(len(X_trainRos)):\n",
        "    height, width, channels = image_size[0],image_size[1],3\n",
        "    X_trainRosReshaped = X_trainRos.reshape(len(X_trainRos),height,width,channels)\n",
        "# Plot Label Distribution\n",
        "dfRos = pd.DataFrame()\n",
        "dfRos[\"labels\"]=Y_trainRos\n",
        "labRos = dfRos['labels']\n",
        "sns.countplot(labRos)"
      ]
    },
    {
      "cell_type": "code",
      "execution_count": 18,
      "metadata": {
        "id": "NX9EpuY9gtAT"
      },
      "outputs": [],
      "source": [
        "def preProcessing(img):\n",
        "    img = cv2.cvtColor(img,cv2.COLOR_BGR2GRAY)\n",
        "    return img"
      ]
    },
    {
      "cell_type": "code",
      "execution_count": 19,
      "metadata": {
        "colab": {
          "base_uri": "https://localhost:8080/"
        },
        "id": "0Mhdocs-g0X1",
        "outputId": "fc6a9d73-3379-498a-eb3e-0993eb816ab0"
      },
      "outputs": [
        {
          "output_type": "stream",
          "name": "stdout",
          "text": [
            "(128, 128)\n"
          ]
        }
      ],
      "source": [
        "x_train = np.array(list(map(preProcessing,X_trainRosReshaped)))\n",
        "print(x_train[0].shape)\n"
      ]
    },
    {
      "cell_type": "code",
      "execution_count": 20,
      "metadata": {
        "colab": {
          "base_uri": "https://localhost:8080/"
        },
        "id": "PDwPo2zzg-P7",
        "outputId": "d2bc7d90-06a2-4dfa-c486-6b268d727577"
      },
      "outputs": [
        {
          "output_type": "stream",
          "name": "stdout",
          "text": [
            "(128, 128)\n"
          ]
        }
      ],
      "source": [
        "x_test = np.array(list(map(preProcessing,x_test)))\n",
        "print(x_test[0].shape)"
      ]
    },
    {
      "cell_type": "code",
      "execution_count": 21,
      "metadata": {
        "colab": {
          "base_uri": "https://localhost:8080/"
        },
        "id": "xMTscC7ShBAl",
        "outputId": "96bfe54d-d091-4f28-d6f0-5fc06608864a"
      },
      "outputs": [
        {
          "output_type": "stream",
          "name": "stdout",
          "text": [
            "(128, 128)\n"
          ]
        }
      ],
      "source": [
        "x_validation = np.array(list(map(preProcessing,x_val)))\n",
        "print(x_validation[0].shape)"
      ]
    },
    {
      "cell_type": "code",
      "execution_count": 22,
      "metadata": {
        "colab": {
          "base_uri": "https://localhost:8080/"
        },
        "id": "iJeRxKKChEAC",
        "outputId": "5dd82bac-f4d0-44f5-e5fc-7120cf854ef6"
      },
      "outputs": [
        {
          "output_type": "stream",
          "name": "stdout",
          "text": [
            "(34464, 128, 128, 1)\n"
          ]
        }
      ],
      "source": [
        "X_train = x_train.reshape(x_train.shape[0],x_train.shape[1],x_train.shape[2],1)\n",
        "print(X_train.shape)"
      ]
    },
    {
      "cell_type": "code",
      "execution_count": 23,
      "metadata": {
        "id": "p-UN6AhPhH9W"
      },
      "outputs": [],
      "source": [
        "X_test = x_test.reshape(x_test.shape[0],x_test.shape[1],x_test.shape[2],1)\n",
        "X_validation = x_validation.reshape(x_validation.shape[0],x_validation.shape[1],x_validation.shape[2],1)"
      ]
    },
    {
      "cell_type": "code",
      "execution_count": 24,
      "metadata": {
        "id": "wdmqHzRrhK_3"
      },
      "outputs": [],
      "source": [
        "del x_test\n",
        "del x_train\n",
        "del x_validation"
      ]
    },
    {
      "cell_type": "code",
      "execution_count": 25,
      "metadata": {
        "id": "hodo6kEEhOoI"
      },
      "outputs": [],
      "source": [
        "y_train = to_categorical(Y_trainRos,noOfclasses)\n",
        "y_test = to_categorical(y_test,noOfclasses)\n",
        "y_validation = to_categorical(y_val,noOfclasses)"
      ]
    },
    {
      "cell_type": "code",
      "execution_count": 26,
      "metadata": {
        "id": "_gOThc9RhZML"
      },
      "outputs": [],
      "source": [
        "class CustomCallback(tf.keras.callbacks.Callback):\n",
        "    def __init__(self,fraction):\n",
        "        super(CustomCallback,self).__init__()\n",
        "        self.fraction = fraction\n",
        "        self.train_a = [];\n",
        "        self.val_a =[];\n",
        "\n",
        "        with open('log.txt','w') as f:\n",
        "            f.write('Starting of logging..\\n')\n",
        "\n",
        "        self.fig = plt.figure(figsize=(4,3))\n",
        "        self.ax = plt.subplot(1,1,1)\n",
        "        plt.ion()\n",
        "\n",
        "    def on_train_begin(self,logs=None):\n",
        "        self.fig.show()\n",
        "        self.fig.canvas.draw()\n",
        "  \n",
        "    def on_train_end(self,logs=None):\n",
        "        with open('log.txt','a') as f:\n",
        "            f.write('End of logging..\\n')\n",
        "    def on_epoch_begin(self,epoch,logs=None):\n",
        "        lr= tf.keras.backend.get_value(self.model.optimizer.lr)\n",
        "        lr *= self.fraction\n",
        "        tf.keras.backend.set_value(self.model.optimizer.lr,lr)\n",
        "        with open('log.txt','a') as f:\n",
        "            f.write('At epoch {:02d}, learning rate changed to {:.4f}\\n'.format(epoch,lr))\n",
        "    def on_epoch_end(self,epoch,logs=None):\n",
        "        val_acc = logs.get('val_accuracy')\n",
        "        train_acc = logs.get('accuracy')\n",
        "        self.train_a.append(train_acc)\n",
        "        self.val_a.append(val_acc)\n",
        "        with open('log.txt','a') as f:\n",
        "            f.write('At epoch {:02d}, training accuracy: {:.3f}, validation accuracy: {:.3f}\\n'.format(epoch,train_acc,val_acc))\n",
        "        self.ax.clear()\n",
        "        self.ax.plot(range(1+epoch),self.train_a,label=\"Training\")\n",
        "        self.ax.plot(range(1+epoch),self.val_a,label=\"Validation\")\n",
        "        self.ax.set_xlabel('Epochs')\n",
        "        self.ax.set_ylabel('Accuracy')\n",
        "        self.ax.legend()\n",
        "        self.fig.canvas.draw()\n",
        "        self.fig.show()"
      ]
    },
    {
      "cell_type": "code",
      "execution_count": 32,
      "metadata": {
        "id": "nAoKUXA4hdJQ"
      },
      "outputs": [],
      "source": [
        "\n",
        "def model():\n",
        "    model = Sequential();\n",
        "    model.add((Conv2D(60,(5,5),input_shape=(image_size[0],image_size[1],1)\n",
        "    ,activation=\"relu\")))\n",
        "\n",
        "    model.add((Conv2D(60,(5,5),activation=\"relu\")))\n",
        "    model.add((Conv2D(60//2,(4,4),activation=\"relu\")))\n",
        "    model.add((Conv2D(60//2,(4,4),activation=\"relu\")))\n",
        "    model.add(MaxPooling2D(pool_size=(2,2)))\n",
        "    model.add(Dropout(0.2))\n",
        "\n",
        "    model.add((Conv2D(60,(4,4),activation=\"relu\")))\n",
        "    model.add(MaxPooling2D(pool_size=(2,2)))\n",
        "    model.add(Dropout(0.2))\n",
        "\n",
        "    model.add((Conv2D(60,(5,5),activation=\"relu\")))\n",
        "    model.add((Conv2D(60//2,(4,4),activation=\"relu\")))\n",
        "    model.add((Conv2D(60//2,(4,4),activation=\"relu\")))\n",
        "    model.add(MaxPooling2D(pool_size=(2,2)))\n",
        "    model.add(Dropout(0.2))\n",
        "    \n",
        "    model.add((Conv2D(60,(4,4),activation=\"relu\",padding=\"same\")))\n",
        "    model.add(MaxPooling2D(pool_size=(2,2)))\n",
        "    model.add(Dropout(0.2))\n",
        "\n",
        "    model.add((Conv2D(60,(4,4),activation=\"relu\",padding=\"same\")))\n",
        "    model.add((Conv2D(60//2,(3,3),activation=\"relu\",padding=\"same\")))\n",
        "    model.add((Conv2D(60//2,(3,3),activation=\"relu\",padding=\"same\")))\n",
        "    model.add(MaxPooling2D(pool_size=(2,2)))\n",
        "    model.add(Dropout(0.2))\n",
        "\n",
        "    model.add(Flatten())\n",
        "    model.add(Dense(5000,activation=\"relu\"))\n",
        "    model.add(Dropout(0.2))\n",
        "    model.add(Dense(noOfclasses,activation=\"softmax\"))\n",
        "\n",
        "    model.compile(Adam(learning_rate=0.001),loss=\"categorical_crossentropy\",metrics=['accuracy'])\n",
        "\n",
        "    return model\n",
        "  \n",
        "model=model()"
      ]
    },
    {
      "cell_type": "code",
      "execution_count": 33,
      "metadata": {
        "colab": {
          "base_uri": "https://localhost:8080/"
        },
        "id": "wg5I70gdhhJx",
        "outputId": "b76cfa9c-3db6-4713-9605-147e7c1d38bc"
      },
      "outputs": [
        {
          "output_type": "stream",
          "name": "stdout",
          "text": [
            "Model: \"sequential_4\"\n",
            "_________________________________________________________________\n",
            " Layer (type)                Output Shape              Param #   \n",
            "=================================================================\n",
            " conv2d_43 (Conv2D)          (None, 124, 124, 60)      1560      \n",
            "                                                                 \n",
            " conv2d_44 (Conv2D)          (None, 120, 120, 60)      90060     \n",
            "                                                                 \n",
            " conv2d_45 (Conv2D)          (None, 117, 117, 30)      28830     \n",
            "                                                                 \n",
            " conv2d_46 (Conv2D)          (None, 114, 114, 30)      14430     \n",
            "                                                                 \n",
            " max_pooling2d_17 (MaxPoolin  (None, 57, 57, 30)       0         \n",
            " g2D)                                                            \n",
            "                                                                 \n",
            " dropout_16 (Dropout)        (None, 57, 57, 30)        0         \n",
            "                                                                 \n",
            " conv2d_47 (Conv2D)          (None, 54, 54, 60)        28860     \n",
            "                                                                 \n",
            " max_pooling2d_18 (MaxPoolin  (None, 27, 27, 60)       0         \n",
            " g2D)                                                            \n",
            "                                                                 \n",
            " dropout_17 (Dropout)        (None, 27, 27, 60)        0         \n",
            "                                                                 \n",
            " conv2d_48 (Conv2D)          (None, 23, 23, 60)        90060     \n",
            "                                                                 \n",
            " conv2d_49 (Conv2D)          (None, 20, 20, 30)        28830     \n",
            "                                                                 \n",
            " conv2d_50 (Conv2D)          (None, 17, 17, 30)        14430     \n",
            "                                                                 \n",
            " max_pooling2d_19 (MaxPoolin  (None, 8, 8, 30)         0         \n",
            " g2D)                                                            \n",
            "                                                                 \n",
            " dropout_18 (Dropout)        (None, 8, 8, 30)          0         \n",
            "                                                                 \n",
            " conv2d_51 (Conv2D)          (None, 8, 8, 60)          28860     \n",
            "                                                                 \n",
            " max_pooling2d_20 (MaxPoolin  (None, 4, 4, 60)         0         \n",
            " g2D)                                                            \n",
            "                                                                 \n",
            " dropout_19 (Dropout)        (None, 4, 4, 60)          0         \n",
            "                                                                 \n",
            " conv2d_52 (Conv2D)          (None, 4, 4, 60)          57660     \n",
            "                                                                 \n",
            " conv2d_53 (Conv2D)          (None, 4, 4, 30)          16230     \n",
            "                                                                 \n",
            " conv2d_54 (Conv2D)          (None, 4, 4, 30)          8130      \n",
            "                                                                 \n",
            " max_pooling2d_21 (MaxPoolin  (None, 2, 2, 30)         0         \n",
            " g2D)                                                            \n",
            "                                                                 \n",
            " dropout_20 (Dropout)        (None, 2, 2, 30)          0         \n",
            "                                                                 \n",
            " flatten (Flatten)           (None, 120)               0         \n",
            "                                                                 \n",
            " dense (Dense)               (None, 5000)              605000    \n",
            "                                                                 \n",
            " dropout_21 (Dropout)        (None, 5000)              0         \n",
            "                                                                 \n",
            " dense_1 (Dense)             (None, 4)                 20004     \n",
            "                                                                 \n",
            "=================================================================\n",
            "Total params: 1,032,944\n",
            "Trainable params: 1,032,944\n",
            "Non-trainable params: 0\n",
            "_________________________________________________________________\n"
          ]
        }
      ],
      "source": [
        "model.summary()"
      ]
    },
    {
      "cell_type": "code",
      "execution_count": 34,
      "metadata": {
        "id": "DJ80Sy83hmWF"
      },
      "outputs": [],
      "source": [
        "os.environ[\"CUDA_VISIBLE_DEVICES\"]=\"0\""
      ]
    },
    {
      "cell_type": "code",
      "execution_count": 35,
      "metadata": {
        "colab": {
          "base_uri": "https://localhost:8080/",
          "height": 1000
        },
        "id": "6k-3vbFFiHnn",
        "outputId": "876f73d5-ca46-4795-8f73-592801b75df9"
      },
      "outputs": [
        {
          "output_type": "stream",
          "name": "stdout",
          "text": [
            "Epoch 1/25\n",
            "  6/135 [>.............................] - ETA: 1:36 - loss: 1.5624 - accuracy: 0.2624WARNING:tensorflow:Callback method `on_train_batch_end` is slow compared to the batch time (batch time: 0.2652s vs `on_train_batch_end` time: 0.4038s). Check your callbacks.\n",
            "135/135 [==============================] - 134s 781ms/step - loss: 1.3925 - accuracy: 0.2652 - val_loss: 1.3864 - val_accuracy: 0.2500\n",
            "Epoch 2/25\n",
            "135/135 [==============================] - 93s 690ms/step - loss: 1.3865 - accuracy: 0.2512 - val_loss: 1.3864 - val_accuracy: 0.2500\n",
            "Epoch 3/25\n",
            "135/135 [==============================] - 94s 695ms/step - loss: 1.3856 - accuracy: 0.2544 - val_loss: 1.3866 - val_accuracy: 0.2500\n",
            "Epoch 4/25\n",
            "135/135 [==============================] - 95s 702ms/step - loss: 1.1860 - accuracy: 0.4369 - val_loss: 0.7295 - val_accuracy: 0.6250\n",
            "Epoch 5/25\n",
            "135/135 [==============================] - 95s 700ms/step - loss: 0.8662 - accuracy: 0.6368 - val_loss: 0.4132 - val_accuracy: 0.8438\n",
            "Epoch 6/25\n",
            "135/135 [==============================] - 95s 703ms/step - loss: 0.6301 - accuracy: 0.7618 - val_loss: 0.2286 - val_accuracy: 0.9688\n",
            "Epoch 7/25\n",
            "135/135 [==============================] - 95s 704ms/step - loss: 0.4653 - accuracy: 0.8326 - val_loss: 0.1952 - val_accuracy: 0.9375\n",
            "Epoch 8/25\n",
            "135/135 [==============================] - 95s 704ms/step - loss: 0.3749 - accuracy: 0.8694 - val_loss: 0.0733 - val_accuracy: 1.0000\n",
            "Epoch 9/25\n",
            "135/135 [==============================] - 95s 705ms/step - loss: 0.3184 - accuracy: 0.8916 - val_loss: 0.0837 - val_accuracy: 0.9688\n",
            "Epoch 10/25\n",
            "135/135 [==============================] - 95s 705ms/step - loss: 0.2949 - accuracy: 0.9008 - val_loss: 0.0680 - val_accuracy: 0.9688\n",
            "Epoch 11/25\n",
            "135/135 [==============================] - 95s 705ms/step - loss: 0.2642 - accuracy: 0.9115 - val_loss: 0.0739 - val_accuracy: 1.0000\n",
            "Epoch 12/25\n",
            "135/135 [==============================] - 95s 705ms/step - loss: 0.2511 - accuracy: 0.9168 - val_loss: 0.0600 - val_accuracy: 1.0000\n",
            "Epoch 13/25\n",
            "135/135 [==============================] - 95s 707ms/step - loss: 0.2388 - accuracy: 0.9201 - val_loss: 0.0457 - val_accuracy: 1.0000\n",
            "Epoch 14/25\n",
            "135/135 [==============================] - 95s 706ms/step - loss: 0.2241 - accuracy: 0.9255 - val_loss: 0.0399 - val_accuracy: 1.0000\n",
            "Epoch 15/25\n",
            "135/135 [==============================] - 95s 707ms/step - loss: 0.2144 - accuracy: 0.9274 - val_loss: 0.0368 - val_accuracy: 1.0000\n",
            "Epoch 16/25\n",
            "135/135 [==============================] - 95s 707ms/step - loss: 0.2047 - accuracy: 0.9311 - val_loss: 0.0331 - val_accuracy: 1.0000\n",
            "Epoch 17/25\n",
            "135/135 [==============================] - 95s 707ms/step - loss: 0.1933 - accuracy: 0.9359 - val_loss: 0.0381 - val_accuracy: 1.0000\n",
            "Epoch 18/25\n",
            "135/135 [==============================] - 95s 707ms/step - loss: 0.1896 - accuracy: 0.9358 - val_loss: 0.0173 - val_accuracy: 1.0000\n",
            "Epoch 19/25\n",
            "135/135 [==============================] - 95s 707ms/step - loss: 0.1807 - accuracy: 0.9391 - val_loss: 0.0406 - val_accuracy: 1.0000\n",
            "Epoch 20/25\n",
            "135/135 [==============================] - 96s 708ms/step - loss: 0.1778 - accuracy: 0.9403 - val_loss: 0.0308 - val_accuracy: 1.0000\n",
            "Epoch 21/25\n",
            "135/135 [==============================] - 96s 709ms/step - loss: 0.1674 - accuracy: 0.9425 - val_loss: 0.0247 - val_accuracy: 1.0000\n",
            "Epoch 22/25\n",
            "135/135 [==============================] - 96s 708ms/step - loss: 0.1644 - accuracy: 0.9443 - val_loss: 0.0235 - val_accuracy: 1.0000\n",
            "Epoch 23/25\n",
            "135/135 [==============================] - 96s 709ms/step - loss: 0.1628 - accuracy: 0.9463 - val_loss: 0.0225 - val_accuracy: 1.0000\n",
            "Epoch 24/25\n",
            "135/135 [==============================] - 96s 708ms/step - loss: 0.1574 - accuracy: 0.9471 - val_loss: 0.0312 - val_accuracy: 1.0000\n",
            "Epoch 25/25\n",
            "135/135 [==============================] - 96s 710ms/step - loss: 0.1523 - accuracy: 0.9486 - val_loss: 0.0168 - val_accuracy: 1.0000\n"
          ]
        },
        {
          "output_type": "display_data",
          "data": {
            "text/plain": [
              "<Figure size 288x216 with 1 Axes>"
            ],
            "image/png": "[encoded data removed]"
          },
          "metadata": {
            "needs_background": "light"
          }
        }
      ],
      "source": [
        "history = model.fit(X_train,Y_trainRosHot,epochs=25,validation_data =(X_validation,y_validation) ,batch_size=256,\n",
        "                    shuffle=True,\n",
        "                    max_queue_size=20,\n",
        "                    use_multiprocessing=True,\n",
        "                    workers=1,\n",
        "                   callbacks=[CustomCallback(fraction=0.9)])"
      ]
    },
    {
      "cell_type": "code",
      "execution_count": 36,
      "metadata": {
        "colab": {
          "base_uri": "https://localhost:8080/",
          "height": 573
        },
        "id": "Zuhve9vWhw5L",
        "outputId": "552caa7c-cd52-4ac2-9c44-d7222bff7ec0"
      },
      "outputs": [
        {
          "output_type": "display_data",
          "data": {
            "text/plain": [
              "<Figure size 432x288 with 1 Axes>"
            ],
            "image/png": "[encoded data removed]"
          },
          "metadata": {
            "needs_background": "light"
          }
        },
        {
          "output_type": "display_data",
          "data": {
            "text/plain": [
              "<Figure size 432x288 with 1 Axes>"
            ],
            "image/png": "[encoded data removed]"
          },
          "metadata": {
            "needs_background": "light"
          }
        }
      ],
      "source": [
        "plt.figure(1)\n",
        "plt.plot(history.history['loss'])\n",
        "plt.plot(history.history['val_loss'])\n",
        "plt.legend(['training','validation'])\n",
        "plt.title('Loss')\n",
        "plt.xlabel('epoch')\n",
        "plt.figure(2)\n",
        "plt.plot(history.history['accuracy'])\n",
        "plt.plot(history.history['val_accuracy'])\n",
        "plt.legend(['training','validation'])\n",
        "plt.title('Accuracy')\n",
        "plt.xlabel('epoch')\n",
        "plt.show()"
      ]
    },
    {
      "cell_type": "code",
      "execution_count": 37,
      "metadata": {
        "colab": {
          "base_uri": "https://localhost:8080/"
        },
        "id": "x23hnsLuh35K",
        "outputId": "97e9e2ad-34d0-4dce-94e3-2ac8cf83e76e"
      },
      "outputs": [
        {
          "output_type": "stream",
          "name": "stdout",
          "text": [
            "Test Score =  0.045889340341091156\n",
            "Test Accuracy =  0.9927685856819153\n"
          ]
        }
      ],
      "source": [
        "score = model.evaluate(X_test,y_test,verbose=0)\n",
        "print('Test Score = ',score[0])\n",
        "print('Test Accuracy = ',score[1])"
      ]
    },
    {
      "cell_type": "code",
      "execution_count": null,
      "metadata": {
        "id": "URalelJ0pkTn"
      },
      "outputs": [],
      "source": [
        ""
      ]
    }
  ],
  "metadata": {
    "accelerator": "GPU",
    "colab": {
      "name": "Q2_a_2.ipynb",
      "provenance": [],
      "collapsed_sections": []
    },
    "gpuClass": "standard",
    "kernelspec": {
      "display_name": "Python 3",
      "name": "python3"
    },
    "language_info": {
      "name": "python"
    }
  },
  "nbformat": 4,
  "nbformat_minor": 0
}