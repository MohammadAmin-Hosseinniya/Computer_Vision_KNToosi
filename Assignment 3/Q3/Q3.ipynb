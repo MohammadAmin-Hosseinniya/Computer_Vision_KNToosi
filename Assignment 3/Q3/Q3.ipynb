{
  "nbformat": 4,
  "nbformat_minor": 0,
  "metadata": {
    "colab": {
      "name": "Q3.ipynb",
      "provenance": [],
      "collapsed_sections": []
    },
    "kernelspec": {
      "name": "python3",
      "display_name": "Python 3"
    },
    "language_info": {
      "name": "python"
    }
  },
  "cells": [
    {
      "cell_type": "code",
      "source": [
        "import numpy as np\n",
        "from sklearn.metrics import confusion_matrix\n",
        "import matplotlib.pyplot as plt\n",
        "import tensorflow as tf\n",
        "import os\n",
        "import shutil"
      ],
      "metadata": {
        "id": "T-kZ9XJ3Q4d-"
      },
      "execution_count": null,
      "outputs": []
    },
    {
      "cell_type": "code",
      "source": [
        "from google.colab import drive\n",
        "\n",
        "drive.mount( '/content/drive', force_remount=True )"
      ],
      "metadata": {
        "colab": {
          "base_uri": "https://localhost:8080/"
        },
        "id": "GhHekEy2BjV3",
        "outputId": "9c27f3e7-9bb9-4393-c4c8-7444f852c6ff"
      },
      "execution_count": null,
      "outputs": [
        {
          "output_type": "stream",
          "name": "stdout",
          "text": [
            "Mounted at /content/drive\n"
          ]
        }
      ]
    },
    {
      "cell_type": "code",
      "source": [
        "! git clone https://github.com/seshuad/IMagenet\n",
        "! ls 'IMagenet/tiny-imagenet-200/'"
      ],
      "metadata": {
        "colab": {
          "base_uri": "https://localhost:8080/"
        },
        "id": "PBKHDP4bCktm",
        "outputId": "c7533947-c666-4787-88fb-89fbe17caf5a"
      },
      "execution_count": null,
      "outputs": [
        {
          "output_type": "stream",
          "name": "stdout",
          "text": [
            "Cloning into 'IMagenet'...\n",
            "remote: Enumerating objects: 120594, done.\u001b[K\n",
            "remote: Total 120594 (delta 0), reused 0 (delta 0), pack-reused 120594\u001b[K\n",
            "Receiving objects: 100% (120594/120594), 212.68 MiB | 33.40 MiB/s, done.\n",
            "Resolving deltas: 100% (1115/1115), done.\n",
            "Checking out files: 100% (120206/120206), done.\n",
            "test  train  val  wnids.txt  words.txt\n"
          ]
        }
      ]
    },
    {
      "cell_type": "code",
      "source": [
        "for line in open('/content/IMagenet/tiny-imagenet-200/val/val_annotations.txt'):\n",
        "  img_name, label = line.split('\\t')[:2]\n",
        "  dest = '/content/IMagenet/tiny-imagenet-200/valid/'+label\n",
        "  os.makedirs(dest, exist_ok=True)\n",
        "  shutil.copy('/content/IMagenet/tiny-imagenet-200/val/images/'+img_name,os.path.join(dest,img_name))"
      ],
      "metadata": {
        "id": "xKAKWkpvHG8h"
      },
      "execution_count": null,
      "outputs": []
    },
    {
      "cell_type": "code",
      "source": [
        "from tensorflow.keras.preprocessing.image import ImageDataGenerator\n",
        "\n",
        "batch_size = 128\n",
        "target_size = (85, 85)\n",
        "\n",
        "train_datagen = ImageDataGenerator()\n",
        "\n",
        "test_datagen = ImageDataGenerator()\n",
        "\n",
        "train_generator = train_datagen.flow_from_directory(\n",
        "        '/content/IMagenet/tiny-imagenet-200/train',  \n",
        "        target_size=target_size,  \n",
        "        batch_size=batch_size,\n",
        "        color_mode='rgb',\n",
        "        class_mode='categorical')  \n",
        "\n",
        "validation_generator = test_datagen.flow_from_directory(\n",
        "        '/content/IMagenet/tiny-imagenet-200/valid',\n",
        "        target_size=target_size,\n",
        "        batch_size=batch_size,\n",
        "        shuffle=False,\n",
        "        color_mode='rgb',\n",
        "        class_mode='categorical')"
      ],
      "metadata": {
        "colab": {
          "base_uri": "https://localhost:8080/"
        },
        "id": "zJmBRfTrYEcl",
        "outputId": "f306eddc-c566-427b-e1cc-774dd9bff520"
      },
      "execution_count": null,
      "outputs": [
        {
          "output_type": "stream",
          "name": "stdout",
          "text": [
            "Found 100000 images belonging to 200 classes.\n",
            "Found 10000 images belonging to 200 classes.\n"
          ]
        }
      ]
    },
    {
      "cell_type": "markdown",
      "source": [
        "**ResNet**"
      ],
      "metadata": {
        "id": "OONhp1qxXGLR"
      }
    },
    {
      "cell_type": "code",
      "source": [
        "feature_extractor_Resnet = tf.keras.applications.resnet50.ResNet50(weights='imagenet'\n",
        "                                      , input_shape=(85, 85, 3) ,include_top=False)\n",
        "feature_extractor_Resnet.summary()"
      ],
      "metadata": {
        "colab": {
          "base_uri": "https://localhost:8080/"
        },
        "id": "Au8zDka1L2JJ",
        "outputId": "e3a82664-0412-4d25-f854-f07b32df7445"
      },
      "execution_count": null,
      "outputs": [
        {
          "output_type": "stream",
          "name": "stdout",
          "text": [
            "Downloading data from https://storage.googleapis.com/tensorflow/keras-applications/resnet/resnet50_weights_tf_dim_ordering_tf_kernels_notop.h5\n",
            "94773248/94765736 [==============================] - 0s 0us/step\n",
            "94781440/94765736 [==============================] - 0s 0us/step\n",
            "Model: \"resnet50\"\n",
            "__________________________________________________________________________________________________\n",
            " Layer (type)                   Output Shape         Param #     Connected to                     \n",
            "==================================================================================================\n",
            " input_1 (InputLayer)           [(None, 85, 85, 3)]  0           []                               \n",
            "                                                                                                  \n",
            " conv1_pad (ZeroPadding2D)      (None, 91, 91, 3)    0           ['input_1[0][0]']                \n",
            "                                                                                                  \n",
            " conv1_conv (Conv2D)            (None, 43, 43, 64)   9472        ['conv1_pad[0][0]']              \n",
            "                                                                                                  \n",
            " conv1_bn (BatchNormalization)  (None, 43, 43, 64)   256         ['conv1_conv[0][0]']             \n",
            "                                                                                                  \n",
            " conv1_relu (Activation)        (None, 43, 43, 64)   0           ['conv1_bn[0][0]']               \n",
            "                                                                                                  \n",
            " pool1_pad (ZeroPadding2D)      (None, 45, 45, 64)   0           ['conv1_relu[0][0]']             \n",
            "                                                                                                  \n",
            " pool1_pool (MaxPooling2D)      (None, 22, 22, 64)   0           ['pool1_pad[0][0]']              \n",
            "                                                                                                  \n",
            " conv2_block1_1_conv (Conv2D)   (None, 22, 22, 64)   4160        ['pool1_pool[0][0]']             \n",
            "                                                                                                  \n",
            " conv2_block1_1_bn (BatchNormal  (None, 22, 22, 64)  256         ['conv2_block1_1_conv[0][0]']    \n",
            " ization)                                                                                         \n",
            "                                                                                                  \n",
            " conv2_block1_1_relu (Activatio  (None, 22, 22, 64)  0           ['conv2_block1_1_bn[0][0]']      \n",
            " n)                                                                                               \n",
            "                                                                                                  \n",
            " conv2_block1_2_conv (Conv2D)   (None, 22, 22, 64)   36928       ['conv2_block1_1_relu[0][0]']    \n",
            "                                                                                                  \n",
            " conv2_block1_2_bn (BatchNormal  (None, 22, 22, 64)  256         ['conv2_block1_2_conv[0][0]']    \n",
            " ization)                                                                                         \n",
            "                                                                                                  \n",
            " conv2_block1_2_relu (Activatio  (None, 22, 22, 64)  0           ['conv2_block1_2_bn[0][0]']      \n",
            " n)                                                                                               \n",
            "                                                                                                  \n",
            " conv2_block1_0_conv (Conv2D)   (None, 22, 22, 256)  16640       ['pool1_pool[0][0]']             \n",
            "                                                                                                  \n",
            " conv2_block1_3_conv (Conv2D)   (None, 22, 22, 256)  16640       ['conv2_block1_2_relu[0][0]']    \n",
            "                                                                                                  \n",
            " conv2_block1_0_bn (BatchNormal  (None, 22, 22, 256)  1024       ['conv2_block1_0_conv[0][0]']    \n",
            " ization)                                                                                         \n",
            "                                                                                                  \n",
            " conv2_block1_3_bn (BatchNormal  (None, 22, 22, 256)  1024       ['conv2_block1_3_conv[0][0]']    \n",
            " ization)                                                                                         \n",
            "                                                                                                  \n",
            " conv2_block1_add (Add)         (None, 22, 22, 256)  0           ['conv2_block1_0_bn[0][0]',      \n",
            "                                                                  'conv2_block1_3_bn[0][0]']      \n",
            "                                                                                                  \n",
            " conv2_block1_out (Activation)  (None, 22, 22, 256)  0           ['conv2_block1_add[0][0]']       \n",
            "                                                                                                  \n",
            " conv2_block2_1_conv (Conv2D)   (None, 22, 22, 64)   16448       ['conv2_block1_out[0][0]']       \n",
            "                                                                                                  \n",
            " conv2_block2_1_bn (BatchNormal  (None, 22, 22, 64)  256         ['conv2_block2_1_conv[0][0]']    \n",
            " ization)                                                                                         \n",
            "                                                                                                  \n",
            " conv2_block2_1_relu (Activatio  (None, 22, 22, 64)  0           ['conv2_block2_1_bn[0][0]']      \n",
            " n)                                                                                               \n",
            "                                                                                                  \n",
            " conv2_block2_2_conv (Conv2D)   (None, 22, 22, 64)   36928       ['conv2_block2_1_relu[0][0]']    \n",
            "                                                                                                  \n",
            " conv2_block2_2_bn (BatchNormal  (None, 22, 22, 64)  256         ['conv2_block2_2_conv[0][0]']    \n",
            " ization)                                                                                         \n",
            "                                                                                                  \n",
            " conv2_block2_2_relu (Activatio  (None, 22, 22, 64)  0           ['conv2_block2_2_bn[0][0]']      \n",
            " n)                                                                                               \n",
            "                                                                                                  \n",
            " conv2_block2_3_conv (Conv2D)   (None, 22, 22, 256)  16640       ['conv2_block2_2_relu[0][0]']    \n",
            "                                                                                                  \n",
            " conv2_block2_3_bn (BatchNormal  (None, 22, 22, 256)  1024       ['conv2_block2_3_conv[0][0]']    \n",
            " ization)                                                                                         \n",
            "                                                                                                  \n",
            " conv2_block2_add (Add)         (None, 22, 22, 256)  0           ['conv2_block1_out[0][0]',       \n",
            "                                                                  'conv2_block2_3_bn[0][0]']      \n",
            "                                                                                                  \n",
            " conv2_block2_out (Activation)  (None, 22, 22, 256)  0           ['conv2_block2_add[0][0]']       \n",
            "                                                                                                  \n",
            " conv2_block3_1_conv (Conv2D)   (None, 22, 22, 64)   16448       ['conv2_block2_out[0][0]']       \n",
            "                                                                                                  \n",
            " conv2_block3_1_bn (BatchNormal  (None, 22, 22, 64)  256         ['conv2_block3_1_conv[0][0]']    \n",
            " ization)                                                                                         \n",
            "                                                                                                  \n",
            " conv2_block3_1_relu (Activatio  (None, 22, 22, 64)  0           ['conv2_block3_1_bn[0][0]']      \n",
            " n)                                                                                               \n",
            "                                                                                                  \n",
            " conv2_block3_2_conv (Conv2D)   (None, 22, 22, 64)   36928       ['conv2_block3_1_relu[0][0]']    \n",
            "                                                                                                  \n",
            " conv2_block3_2_bn (BatchNormal  (None, 22, 22, 64)  256         ['conv2_block3_2_conv[0][0]']    \n",
            " ization)                                                                                         \n",
            "                                                                                                  \n",
            " conv2_block3_2_relu (Activatio  (None, 22, 22, 64)  0           ['conv2_block3_2_bn[0][0]']      \n",
            " n)                                                                                               \n",
            "                                                                                                  \n",
            " conv2_block3_3_conv (Conv2D)   (None, 22, 22, 256)  16640       ['conv2_block3_2_relu[0][0]']    \n",
            "                                                                                                  \n",
            " conv2_block3_3_bn (BatchNormal  (None, 22, 22, 256)  1024       ['conv2_block3_3_conv[0][0]']    \n",
            " ization)                                                                                         \n",
            "                                                                                                  \n",
            " conv2_block3_add (Add)         (None, 22, 22, 256)  0           ['conv2_block2_out[0][0]',       \n",
            "                                                                  'conv2_block3_3_bn[0][0]']      \n",
            "                                                                                                  \n",
            " conv2_block3_out (Activation)  (None, 22, 22, 256)  0           ['conv2_block3_add[0][0]']       \n",
            "                                                                                                  \n",
            " conv3_block1_1_conv (Conv2D)   (None, 11, 11, 128)  32896       ['conv2_block3_out[0][0]']       \n",
            "                                                                                                  \n",
            " conv3_block1_1_bn (BatchNormal  (None, 11, 11, 128)  512        ['conv3_block1_1_conv[0][0]']    \n",
            " ization)                                                                                         \n",
            "                                                                                                  \n",
            " conv3_block1_1_relu (Activatio  (None, 11, 11, 128)  0          ['conv3_block1_1_bn[0][0]']      \n",
            " n)                                                                                               \n",
            "                                                                                                  \n",
            " conv3_block1_2_conv (Conv2D)   (None, 11, 11, 128)  147584      ['conv3_block1_1_relu[0][0]']    \n",
            "                                                                                                  \n",
            " conv3_block1_2_bn (BatchNormal  (None, 11, 11, 128)  512        ['conv3_block1_2_conv[0][0]']    \n",
            " ization)                                                                                         \n",
            "                                                                                                  \n",
            " conv3_block1_2_relu (Activatio  (None, 11, 11, 128)  0          ['conv3_block1_2_bn[0][0]']      \n",
            " n)                                                                                               \n",
            "                                                                                                  \n",
            " conv3_block1_0_conv (Conv2D)   (None, 11, 11, 512)  131584      ['conv2_block3_out[0][0]']       \n",
            "                                                                                                  \n",
            " conv3_block1_3_conv (Conv2D)   (None, 11, 11, 512)  66048       ['conv3_block1_2_relu[0][0]']    \n",
            "                                                                                                  \n",
            " conv3_block1_0_bn (BatchNormal  (None, 11, 11, 512)  2048       ['conv3_block1_0_conv[0][0]']    \n",
            " ization)                                                                                         \n",
            "                                                                                                  \n",
            " conv3_block1_3_bn (BatchNormal  (None, 11, 11, 512)  2048       ['conv3_block1_3_conv[0][0]']    \n",
            " ization)                                                                                         \n",
            "                                                                                                  \n",
            " conv3_block1_add (Add)         (None, 11, 11, 512)  0           ['conv3_block1_0_bn[0][0]',      \n",
            "                                                                  'conv3_block1_3_bn[0][0]']      \n",
            "                                                                                                  \n",
            " conv3_block1_out (Activation)  (None, 11, 11, 512)  0           ['conv3_block1_add[0][0]']       \n",
            "                                                                                                  \n",
            " conv3_block2_1_conv (Conv2D)   (None, 11, 11, 128)  65664       ['conv3_block1_out[0][0]']       \n",
            "                                                                                                  \n",
            " conv3_block2_1_bn (BatchNormal  (None, 11, 11, 128)  512        ['conv3_block2_1_conv[0][0]']    \n",
            " ization)                                                                                         \n",
            "                                                                                                  \n",
            " conv3_block2_1_relu (Activatio  (None, 11, 11, 128)  0          ['conv3_block2_1_bn[0][0]']      \n",
            " n)                                                                                               \n",
            "                                                                                                  \n",
            " conv3_block2_2_conv (Conv2D)   (None, 11, 11, 128)  147584      ['conv3_block2_1_relu[0][0]']    \n",
            "                                                                                                  \n",
            " conv3_block2_2_bn (BatchNormal  (None, 11, 11, 128)  512        ['conv3_block2_2_conv[0][0]']    \n",
            " ization)                                                                                         \n",
            "                                                                                                  \n",
            " conv3_block2_2_relu (Activatio  (None, 11, 11, 128)  0          ['conv3_block2_2_bn[0][0]']      \n",
            " n)                                                                                               \n",
            "                                                                                                  \n",
            " conv3_block2_3_conv (Conv2D)   (None, 11, 11, 512)  66048       ['conv3_block2_2_relu[0][0]']    \n",
            "                                                                                                  \n",
            " conv3_block2_3_bn (BatchNormal  (None, 11, 11, 512)  2048       ['conv3_block2_3_conv[0][0]']    \n",
            " ization)                                                                                         \n",
            "                                                                                                  \n",
            " conv3_block2_add (Add)         (None, 11, 11, 512)  0           ['conv3_block1_out[0][0]',       \n",
            "                                                                  'conv3_block2_3_bn[0][0]']      \n",
            "                                                                                                  \n",
            " conv3_block2_out (Activation)  (None, 11, 11, 512)  0           ['conv3_block2_add[0][0]']       \n",
            "                                                                                                  \n",
            " conv3_block3_1_conv (Conv2D)   (None, 11, 11, 128)  65664       ['conv3_block2_out[0][0]']       \n",
            "                                                                                                  \n",
            " conv3_block3_1_bn (BatchNormal  (None, 11, 11, 128)  512        ['conv3_block3_1_conv[0][0]']    \n",
            " ization)                                                                                         \n",
            "                                                                                                  \n",
            " conv3_block3_1_relu (Activatio  (None, 11, 11, 128)  0          ['conv3_block3_1_bn[0][0]']      \n",
            " n)                                                                                               \n",
            "                                                                                                  \n",
            " conv3_block3_2_conv (Conv2D)   (None, 11, 11, 128)  147584      ['conv3_block3_1_relu[0][0]']    \n",
            "                                                                                                  \n",
            " conv3_block3_2_bn (BatchNormal  (None, 11, 11, 128)  512        ['conv3_block3_2_conv[0][0]']    \n",
            " ization)                                                                                         \n",
            "                                                                                                  \n",
            " conv3_block3_2_relu (Activatio  (None, 11, 11, 128)  0          ['conv3_block3_2_bn[0][0]']      \n",
            " n)                                                                                               \n",
            "                                                                                                  \n",
            " conv3_block3_3_conv (Conv2D)   (None, 11, 11, 512)  66048       ['conv3_block3_2_relu[0][0]']    \n",
            "                                                                                                  \n",
            " conv3_block3_3_bn (BatchNormal  (None, 11, 11, 512)  2048       ['conv3_block3_3_conv[0][0]']    \n",
            " ization)                                                                                         \n",
            "                                                                                                  \n",
            " conv3_block3_add (Add)         (None, 11, 11, 512)  0           ['conv3_block2_out[0][0]',       \n",
            "                                                                  'conv3_block3_3_bn[0][0]']      \n",
            "                                                                                                  \n",
            " conv3_block3_out (Activation)  (None, 11, 11, 512)  0           ['conv3_block3_add[0][0]']       \n",
            "                                                                                                  \n",
            " conv3_block4_1_conv (Conv2D)   (None, 11, 11, 128)  65664       ['conv3_block3_out[0][0]']       \n",
            "                                                                                                  \n",
            " conv3_block4_1_bn (BatchNormal  (None, 11, 11, 128)  512        ['conv3_block4_1_conv[0][0]']    \n",
            " ization)                                                                                         \n",
            "                                                                                                  \n",
            " conv3_block4_1_relu (Activatio  (None, 11, 11, 128)  0          ['conv3_block4_1_bn[0][0]']      \n",
            " n)                                                                                               \n",
            "                                                                                                  \n",
            " conv3_block4_2_conv (Conv2D)   (None, 11, 11, 128)  147584      ['conv3_block4_1_relu[0][0]']    \n",
            "                                                                                                  \n",
            " conv3_block4_2_bn (BatchNormal  (None, 11, 11, 128)  512        ['conv3_block4_2_conv[0][0]']    \n",
            " ization)                                                                                         \n",
            "                                                                                                  \n",
            " conv3_block4_2_relu (Activatio  (None, 11, 11, 128)  0          ['conv3_block4_2_bn[0][0]']      \n",
            " n)                                                                                               \n",
            "                                                                                                  \n",
            " conv3_block4_3_conv (Conv2D)   (None, 11, 11, 512)  66048       ['conv3_block4_2_relu[0][0]']    \n",
            "                                                                                                  \n",
            " conv3_block4_3_bn (BatchNormal  (None, 11, 11, 512)  2048       ['conv3_block4_3_conv[0][0]']    \n",
            " ization)                                                                                         \n",
            "                                                                                                  \n",
            " conv3_block4_add (Add)         (None, 11, 11, 512)  0           ['conv3_block3_out[0][0]',       \n",
            "                                                                  'conv3_block4_3_bn[0][0]']      \n",
            "                                                                                                  \n",
            " conv3_block4_out (Activation)  (None, 11, 11, 512)  0           ['conv3_block4_add[0][0]']       \n",
            "                                                                                                  \n",
            " conv4_block1_1_conv (Conv2D)   (None, 6, 6, 256)    131328      ['conv3_block4_out[0][0]']       \n",
            "                                                                                                  \n",
            " conv4_block1_1_bn (BatchNormal  (None, 6, 6, 256)   1024        ['conv4_block1_1_conv[0][0]']    \n",
            " ization)                                                                                         \n",
            "                                                                                                  \n",
            " conv4_block1_1_relu (Activatio  (None, 6, 6, 256)   0           ['conv4_block1_1_bn[0][0]']      \n",
            " n)                                                                                               \n",
            "                                                                                                  \n",
            " conv4_block1_2_conv (Conv2D)   (None, 6, 6, 256)    590080      ['conv4_block1_1_relu[0][0]']    \n",
            "                                                                                                  \n",
            " conv4_block1_2_bn (BatchNormal  (None, 6, 6, 256)   1024        ['conv4_block1_2_conv[0][0]']    \n",
            " ization)                                                                                         \n",
            "                                                                                                  \n",
            " conv4_block1_2_relu (Activatio  (None, 6, 6, 256)   0           ['conv4_block1_2_bn[0][0]']      \n",
            " n)                                                                                               \n",
            "                                                                                                  \n",
            " conv4_block1_0_conv (Conv2D)   (None, 6, 6, 1024)   525312      ['conv3_block4_out[0][0]']       \n",
            "                                                                                                  \n",
            " conv4_block1_3_conv (Conv2D)   (None, 6, 6, 1024)   263168      ['conv4_block1_2_relu[0][0]']    \n",
            "                                                                                                  \n",
            " conv4_block1_0_bn (BatchNormal  (None, 6, 6, 1024)  4096        ['conv4_block1_0_conv[0][0]']    \n",
            " ization)                                                                                         \n",
            "                                                                                                  \n",
            " conv4_block1_3_bn (BatchNormal  (None, 6, 6, 1024)  4096        ['conv4_block1_3_conv[0][0]']    \n",
            " ization)                                                                                         \n",
            "                                                                                                  \n",
            " conv4_block1_add (Add)         (None, 6, 6, 1024)   0           ['conv4_block1_0_bn[0][0]',      \n",
            "                                                                  'conv4_block1_3_bn[0][0]']      \n",
            "                                                                                                  \n",
            " conv4_block1_out (Activation)  (None, 6, 6, 1024)   0           ['conv4_block1_add[0][0]']       \n",
            "                                                                                                  \n",
            " conv4_block2_1_conv (Conv2D)   (None, 6, 6, 256)    262400      ['conv4_block1_out[0][0]']       \n",
            "                                                                                                  \n",
            " conv4_block2_1_bn (BatchNormal  (None, 6, 6, 256)   1024        ['conv4_block2_1_conv[0][0]']    \n",
            " ization)                                                                                         \n",
            "                                                                                                  \n",
            " conv4_block2_1_relu (Activatio  (None, 6, 6, 256)   0           ['conv4_block2_1_bn[0][0]']      \n",
            " n)                                                                                               \n",
            "                                                                                                  \n",
            " conv4_block2_2_conv (Conv2D)   (None, 6, 6, 256)    590080      ['conv4_block2_1_relu[0][0]']    \n",
            "                                                                                                  \n",
            " conv4_block2_2_bn (BatchNormal  (None, 6, 6, 256)   1024        ['conv4_block2_2_conv[0][0]']    \n",
            " ization)                                                                                         \n",
            "                                                                                                  \n",
            " conv4_block2_2_relu (Activatio  (None, 6, 6, 256)   0           ['conv4_block2_2_bn[0][0]']      \n",
            " n)                                                                                               \n",
            "                                                                                                  \n",
            " conv4_block2_3_conv (Conv2D)   (None, 6, 6, 1024)   263168      ['conv4_block2_2_relu[0][0]']    \n",
            "                                                                                                  \n",
            " conv4_block2_3_bn (BatchNormal  (None, 6, 6, 1024)  4096        ['conv4_block2_3_conv[0][0]']    \n",
            " ization)                                                                                         \n",
            "                                                                                                  \n",
            " conv4_block2_add (Add)         (None, 6, 6, 1024)   0           ['conv4_block1_out[0][0]',       \n",
            "                                                                  'conv4_block2_3_bn[0][0]']      \n",
            "                                                                                                  \n",
            " conv4_block2_out (Activation)  (None, 6, 6, 1024)   0           ['conv4_block2_add[0][0]']       \n",
            "                                                                                                  \n",
            " conv4_block3_1_conv (Conv2D)   (None, 6, 6, 256)    262400      ['conv4_block2_out[0][0]']       \n",
            "                                                                                                  \n",
            " conv4_block3_1_bn (BatchNormal  (None, 6, 6, 256)   1024        ['conv4_block3_1_conv[0][0]']    \n",
            " ization)                                                                                         \n",
            "                                                                                                  \n",
            " conv4_block3_1_relu (Activatio  (None, 6, 6, 256)   0           ['conv4_block3_1_bn[0][0]']      \n",
            " n)                                                                                               \n",
            "                                                                                                  \n",
            " conv4_block3_2_conv (Conv2D)   (None, 6, 6, 256)    590080      ['conv4_block3_1_relu[0][0]']    \n",
            "                                                                                                  \n",
            " conv4_block3_2_bn (BatchNormal  (None, 6, 6, 256)   1024        ['conv4_block3_2_conv[0][0]']    \n",
            " ization)                                                                                         \n",
            "                                                                                                  \n",
            " conv4_block3_2_relu (Activatio  (None, 6, 6, 256)   0           ['conv4_block3_2_bn[0][0]']      \n",
            " n)                                                                                               \n",
            "                                                                                                  \n",
            " conv4_block3_3_conv (Conv2D)   (None, 6, 6, 1024)   263168      ['conv4_block3_2_relu[0][0]']    \n",
            "                                                                                                  \n",
            " conv4_block3_3_bn (BatchNormal  (None, 6, 6, 1024)  4096        ['conv4_block3_3_conv[0][0]']    \n",
            " ization)                                                                                         \n",
            "                                                                                                  \n",
            " conv4_block3_add (Add)         (None, 6, 6, 1024)   0           ['conv4_block2_out[0][0]',       \n",
            "                                                                  'conv4_block3_3_bn[0][0]']      \n",
            "                                                                                                  \n",
            " conv4_block3_out (Activation)  (None, 6, 6, 1024)   0           ['conv4_block3_add[0][0]']       \n",
            "                                                                                                  \n",
            " conv4_block4_1_conv (Conv2D)   (None, 6, 6, 256)    262400      ['conv4_block3_out[0][0]']       \n",
            "                                                                                                  \n",
            " conv4_block4_1_bn (BatchNormal  (None, 6, 6, 256)   1024        ['conv4_block4_1_conv[0][0]']    \n",
            " ization)                                                                                         \n",
            "                                                                                                  \n",
            " conv4_block4_1_relu (Activatio  (None, 6, 6, 256)   0           ['conv4_block4_1_bn[0][0]']      \n",
            " n)                                                                                               \n",
            "                                                                                                  \n",
            " conv4_block4_2_conv (Conv2D)   (None, 6, 6, 256)    590080      ['conv4_block4_1_relu[0][0]']    \n",
            "                                                                                                  \n",
            " conv4_block4_2_bn (BatchNormal  (None, 6, 6, 256)   1024        ['conv4_block4_2_conv[0][0]']    \n",
            " ization)                                                                                         \n",
            "                                                                                                  \n",
            " conv4_block4_2_relu (Activatio  (None, 6, 6, 256)   0           ['conv4_block4_2_bn[0][0]']      \n",
            " n)                                                                                               \n",
            "                                                                                                  \n",
            " conv4_block4_3_conv (Conv2D)   (None, 6, 6, 1024)   263168      ['conv4_block4_2_relu[0][0]']    \n",
            "                                                                                                  \n",
            " conv4_block4_3_bn (BatchNormal  (None, 6, 6, 1024)  4096        ['conv4_block4_3_conv[0][0]']    \n",
            " ization)                                                                                         \n",
            "                                                                                                  \n",
            " conv4_block4_add (Add)         (None, 6, 6, 1024)   0           ['conv4_block3_out[0][0]',       \n",
            "                                                                  'conv4_block4_3_bn[0][0]']      \n",
            "                                                                                                  \n",
            " conv4_block4_out (Activation)  (None, 6, 6, 1024)   0           ['conv4_block4_add[0][0]']       \n",
            "                                                                                                  \n",
            " conv4_block5_1_conv (Conv2D)   (None, 6, 6, 256)    262400      ['conv4_block4_out[0][0]']       \n",
            "                                                                                                  \n",
            " conv4_block5_1_bn (BatchNormal  (None, 6, 6, 256)   1024        ['conv4_block5_1_conv[0][0]']    \n",
            " ization)                                                                                         \n",
            "                                                                                                  \n",
            " conv4_block5_1_relu (Activatio  (None, 6, 6, 256)   0           ['conv4_block5_1_bn[0][0]']      \n",
            " n)                                                                                               \n",
            "                                                                                                  \n",
            " conv4_block5_2_conv (Conv2D)   (None, 6, 6, 256)    590080      ['conv4_block5_1_relu[0][0]']    \n",
            "                                                                                                  \n",
            " conv4_block5_2_bn (BatchNormal  (None, 6, 6, 256)   1024        ['conv4_block5_2_conv[0][0]']    \n",
            " ization)                                                                                         \n",
            "                                                                                                  \n",
            " conv4_block5_2_relu (Activatio  (None, 6, 6, 256)   0           ['conv4_block5_2_bn[0][0]']      \n",
            " n)                                                                                               \n",
            "                                                                                                  \n",
            " conv4_block5_3_conv (Conv2D)   (None, 6, 6, 1024)   263168      ['conv4_block5_2_relu[0][0]']    \n",
            "                                                                                                  \n",
            " conv4_block5_3_bn (BatchNormal  (None, 6, 6, 1024)  4096        ['conv4_block5_3_conv[0][0]']    \n",
            " ization)                                                                                         \n",
            "                                                                                                  \n",
            " conv4_block5_add (Add)         (None, 6, 6, 1024)   0           ['conv4_block4_out[0][0]',       \n",
            "                                                                  'conv4_block5_3_bn[0][0]']      \n",
            "                                                                                                  \n",
            " conv4_block5_out (Activation)  (None, 6, 6, 1024)   0           ['conv4_block5_add[0][0]']       \n",
            "                                                                                                  \n",
            " conv4_block6_1_conv (Conv2D)   (None, 6, 6, 256)    262400      ['conv4_block5_out[0][0]']       \n",
            "                                                                                                  \n",
            " conv4_block6_1_bn (BatchNormal  (None, 6, 6, 256)   1024        ['conv4_block6_1_conv[0][0]']    \n",
            " ization)                                                                                         \n",
            "                                                                                                  \n",
            " conv4_block6_1_relu (Activatio  (None, 6, 6, 256)   0           ['conv4_block6_1_bn[0][0]']      \n",
            " n)                                                                                               \n",
            "                                                                                                  \n",
            " conv4_block6_2_conv (Conv2D)   (None, 6, 6, 256)    590080      ['conv4_block6_1_relu[0][0]']    \n",
            "                                                                                                  \n",
            " conv4_block6_2_bn (BatchNormal  (None, 6, 6, 256)   1024        ['conv4_block6_2_conv[0][0]']    \n",
            " ization)                                                                                         \n",
            "                                                                                                  \n",
            " conv4_block6_2_relu (Activatio  (None, 6, 6, 256)   0           ['conv4_block6_2_bn[0][0]']      \n",
            " n)                                                                                               \n",
            "                                                                                                  \n",
            " conv4_block6_3_conv (Conv2D)   (None, 6, 6, 1024)   263168      ['conv4_block6_2_relu[0][0]']    \n",
            "                                                                                                  \n",
            " conv4_block6_3_bn (BatchNormal  (None, 6, 6, 1024)  4096        ['conv4_block6_3_conv[0][0]']    \n",
            " ization)                                                                                         \n",
            "                                                                                                  \n",
            " conv4_block6_add (Add)         (None, 6, 6, 1024)   0           ['conv4_block5_out[0][0]',       \n",
            "                                                                  'conv4_block6_3_bn[0][0]']      \n",
            "                                                                                                  \n",
            " conv4_block6_out (Activation)  (None, 6, 6, 1024)   0           ['conv4_block6_add[0][0]']       \n",
            "                                                                                                  \n",
            " conv5_block1_1_conv (Conv2D)   (None, 3, 3, 512)    524800      ['conv4_block6_out[0][0]']       \n",
            "                                                                                                  \n",
            " conv5_block1_1_bn (BatchNormal  (None, 3, 3, 512)   2048        ['conv5_block1_1_conv[0][0]']    \n",
            " ization)                                                                                         \n",
            "                                                                                                  \n",
            " conv5_block1_1_relu (Activatio  (None, 3, 3, 512)   0           ['conv5_block1_1_bn[0][0]']      \n",
            " n)                                                                                               \n",
            "                                                                                                  \n",
            " conv5_block1_2_conv (Conv2D)   (None, 3, 3, 512)    2359808     ['conv5_block1_1_relu[0][0]']    \n",
            "                                                                                                  \n",
            " conv5_block1_2_bn (BatchNormal  (None, 3, 3, 512)   2048        ['conv5_block1_2_conv[0][0]']    \n",
            " ization)                                                                                         \n",
            "                                                                                                  \n",
            " conv5_block1_2_relu (Activatio  (None, 3, 3, 512)   0           ['conv5_block1_2_bn[0][0]']      \n",
            " n)                                                                                               \n",
            "                                                                                                  \n",
            " conv5_block1_0_conv (Conv2D)   (None, 3, 3, 2048)   2099200     ['conv4_block6_out[0][0]']       \n",
            "                                                                                                  \n",
            " conv5_block1_3_conv (Conv2D)   (None, 3, 3, 2048)   1050624     ['conv5_block1_2_relu[0][0]']    \n",
            "                                                                                                  \n",
            " conv5_block1_0_bn (BatchNormal  (None, 3, 3, 2048)  8192        ['conv5_block1_0_conv[0][0]']    \n",
            " ization)                                                                                         \n",
            "                                                                                                  \n",
            " conv5_block1_3_bn (BatchNormal  (None, 3, 3, 2048)  8192        ['conv5_block1_3_conv[0][0]']    \n",
            " ization)                                                                                         \n",
            "                                                                                                  \n",
            " conv5_block1_add (Add)         (None, 3, 3, 2048)   0           ['conv5_block1_0_bn[0][0]',      \n",
            "                                                                  'conv5_block1_3_bn[0][0]']      \n",
            "                                                                                                  \n",
            " conv5_block1_out (Activation)  (None, 3, 3, 2048)   0           ['conv5_block1_add[0][0]']       \n",
            "                                                                                                  \n",
            " conv5_block2_1_conv (Conv2D)   (None, 3, 3, 512)    1049088     ['conv5_block1_out[0][0]']       \n",
            "                                                                                                  \n",
            " conv5_block2_1_bn (BatchNormal  (None, 3, 3, 512)   2048        ['conv5_block2_1_conv[0][0]']    \n",
            " ization)                                                                                         \n",
            "                                                                                                  \n",
            " conv5_block2_1_relu (Activatio  (None, 3, 3, 512)   0           ['conv5_block2_1_bn[0][0]']      \n",
            " n)                                                                                               \n",
            "                                                                                                  \n",
            " conv5_block2_2_conv (Conv2D)   (None, 3, 3, 512)    2359808     ['conv5_block2_1_relu[0][0]']    \n",
            "                                                                                                  \n",
            " conv5_block2_2_bn (BatchNormal  (None, 3, 3, 512)   2048        ['conv5_block2_2_conv[0][0]']    \n",
            " ization)                                                                                         \n",
            "                                                                                                  \n",
            " conv5_block2_2_relu (Activatio  (None, 3, 3, 512)   0           ['conv5_block2_2_bn[0][0]']      \n",
            " n)                                                                                               \n",
            "                                                                                                  \n",
            " conv5_block2_3_conv (Conv2D)   (None, 3, 3, 2048)   1050624     ['conv5_block2_2_relu[0][0]']    \n",
            "                                                                                                  \n",
            " conv5_block2_3_bn (BatchNormal  (None, 3, 3, 2048)  8192        ['conv5_block2_3_conv[0][0]']    \n",
            " ization)                                                                                         \n",
            "                                                                                                  \n",
            " conv5_block2_add (Add)         (None, 3, 3, 2048)   0           ['conv5_block1_out[0][0]',       \n",
            "                                                                  'conv5_block2_3_bn[0][0]']      \n",
            "                                                                                                  \n",
            " conv5_block2_out (Activation)  (None, 3, 3, 2048)   0           ['conv5_block2_add[0][0]']       \n",
            "                                                                                                  \n",
            " conv5_block3_1_conv (Conv2D)   (None, 3, 3, 512)    1049088     ['conv5_block2_out[0][0]']       \n",
            "                                                                                                  \n",
            " conv5_block3_1_bn (BatchNormal  (None, 3, 3, 512)   2048        ['conv5_block3_1_conv[0][0]']    \n",
            " ization)                                                                                         \n",
            "                                                                                                  \n",
            " conv5_block3_1_relu (Activatio  (None, 3, 3, 512)   0           ['conv5_block3_1_bn[0][0]']      \n",
            " n)                                                                                               \n",
            "                                                                                                  \n",
            " conv5_block3_2_conv (Conv2D)   (None, 3, 3, 512)    2359808     ['conv5_block3_1_relu[0][0]']    \n",
            "                                                                                                  \n",
            " conv5_block3_2_bn (BatchNormal  (None, 3, 3, 512)   2048        ['conv5_block3_2_conv[0][0]']    \n",
            " ization)                                                                                         \n",
            "                                                                                                  \n",
            " conv5_block3_2_relu (Activatio  (None, 3, 3, 512)   0           ['conv5_block3_2_bn[0][0]']      \n",
            " n)                                                                                               \n",
            "                                                                                                  \n",
            " conv5_block3_3_conv (Conv2D)   (None, 3, 3, 2048)   1050624     ['conv5_block3_2_relu[0][0]']    \n",
            "                                                                                                  \n",
            " conv5_block3_3_bn (BatchNormal  (None, 3, 3, 2048)  8192        ['conv5_block3_3_conv[0][0]']    \n",
            " ization)                                                                                         \n",
            "                                                                                                  \n",
            " conv5_block3_add (Add)         (None, 3, 3, 2048)   0           ['conv5_block2_out[0][0]',       \n",
            "                                                                  'conv5_block3_3_bn[0][0]']      \n",
            "                                                                                                  \n",
            " conv5_block3_out (Activation)  (None, 3, 3, 2048)   0           ['conv5_block3_add[0][0]']       \n",
            "                                                                                                  \n",
            "==================================================================================================\n",
            "Total params: 23,587,712\n",
            "Trainable params: 23,534,592\n",
            "Non-trainable params: 53,120\n",
            "__________________________________________________________________________________________________\n"
          ]
        }
      ]
    },
    {
      "cell_type": "code",
      "source": [
        "for layer in feature_extractor_Resnet.layers:\n",
        "    layer.trainable = False\n",
        "\n",
        "feature_extractor_Resnet.summary()"
      ],
      "metadata": {
        "colab": {
          "base_uri": "https://localhost:8080/"
        },
        "id": "g1L2A2DkZYKQ",
        "outputId": "1a0d29b5-7945-47bc-d1d5-5f842ce33100"
      },
      "execution_count": null,
      "outputs": [
        {
          "output_type": "stream",
          "name": "stdout",
          "text": [
            "Model: \"resnet50\"\n",
            "__________________________________________________________________________________________________\n",
            " Layer (type)                   Output Shape         Param #     Connected to                     \n",
            "==================================================================================================\n",
            " input_1 (InputLayer)           [(None, 85, 85, 3)]  0           []                               \n",
            "                                                                                                  \n",
            " conv1_pad (ZeroPadding2D)      (None, 91, 91, 3)    0           ['input_1[0][0]']                \n",
            "                                                                                                  \n",
            " conv1_conv (Conv2D)            (None, 43, 43, 64)   9472        ['conv1_pad[0][0]']              \n",
            "                                                                                                  \n",
            " conv1_bn (BatchNormalization)  (None, 43, 43, 64)   256         ['conv1_conv[0][0]']             \n",
            "                                                                                                  \n",
            " conv1_relu (Activation)        (None, 43, 43, 64)   0           ['conv1_bn[0][0]']               \n",
            "                                                                                                  \n",
            " pool1_pad (ZeroPadding2D)      (None, 45, 45, 64)   0           ['conv1_relu[0][0]']             \n",
            "                                                                                                  \n",
            " pool1_pool (MaxPooling2D)      (None, 22, 22, 64)   0           ['pool1_pad[0][0]']              \n",
            "                                                                                                  \n",
            " conv2_block1_1_conv (Conv2D)   (None, 22, 22, 64)   4160        ['pool1_pool[0][0]']             \n",
            "                                                                                                  \n",
            " conv2_block1_1_bn (BatchNormal  (None, 22, 22, 64)  256         ['conv2_block1_1_conv[0][0]']    \n",
            " ization)                                                                                         \n",
            "                                                                                                  \n",
            " conv2_block1_1_relu (Activatio  (None, 22, 22, 64)  0           ['conv2_block1_1_bn[0][0]']      \n",
            " n)                                                                                               \n",
            "                                                                                                  \n",
            " conv2_block1_2_conv (Conv2D)   (None, 22, 22, 64)   36928       ['conv2_block1_1_relu[0][0]']    \n",
            "                                                                                                  \n",
            " conv2_block1_2_bn (BatchNormal  (None, 22, 22, 64)  256         ['conv2_block1_2_conv[0][0]']    \n",
            " ization)                                                                                         \n",
            "                                                                                                  \n",
            " conv2_block1_2_relu (Activatio  (None, 22, 22, 64)  0           ['conv2_block1_2_bn[0][0]']      \n",
            " n)                                                                                               \n",
            "                                                                                                  \n",
            " conv2_block1_0_conv (Conv2D)   (None, 22, 22, 256)  16640       ['pool1_pool[0][0]']             \n",
            "                                                                                                  \n",
            " conv2_block1_3_conv (Conv2D)   (None, 22, 22, 256)  16640       ['conv2_block1_2_relu[0][0]']    \n",
            "                                                                                                  \n",
            " conv2_block1_0_bn (BatchNormal  (None, 22, 22, 256)  1024       ['conv2_block1_0_conv[0][0]']    \n",
            " ization)                                                                                         \n",
            "                                                                                                  \n",
            " conv2_block1_3_bn (BatchNormal  (None, 22, 22, 256)  1024       ['conv2_block1_3_conv[0][0]']    \n",
            " ization)                                                                                         \n",
            "                                                                                                  \n",
            " conv2_block1_add (Add)         (None, 22, 22, 256)  0           ['conv2_block1_0_bn[0][0]',      \n",
            "                                                                  'conv2_block1_3_bn[0][0]']      \n",
            "                                                                                                  \n",
            " conv2_block1_out (Activation)  (None, 22, 22, 256)  0           ['conv2_block1_add[0][0]']       \n",
            "                                                                                                  \n",
            " conv2_block2_1_conv (Conv2D)   (None, 22, 22, 64)   16448       ['conv2_block1_out[0][0]']       \n",
            "                                                                                                  \n",
            " conv2_block2_1_bn (BatchNormal  (None, 22, 22, 64)  256         ['conv2_block2_1_conv[0][0]']    \n",
            " ization)                                                                                         \n",
            "                                                                                                  \n",
            " conv2_block2_1_relu (Activatio  (None, 22, 22, 64)  0           ['conv2_block2_1_bn[0][0]']      \n",
            " n)                                                                                               \n",
            "                                                                                                  \n",
            " conv2_block2_2_conv (Conv2D)   (None, 22, 22, 64)   36928       ['conv2_block2_1_relu[0][0]']    \n",
            "                                                                                                  \n",
            " conv2_block2_2_bn (BatchNormal  (None, 22, 22, 64)  256         ['conv2_block2_2_conv[0][0]']    \n",
            " ization)                                                                                         \n",
            "                                                                                                  \n",
            " conv2_block2_2_relu (Activatio  (None, 22, 22, 64)  0           ['conv2_block2_2_bn[0][0]']      \n",
            " n)                                                                                               \n",
            "                                                                                                  \n",
            " conv2_block2_3_conv (Conv2D)   (None, 22, 22, 256)  16640       ['conv2_block2_2_relu[0][0]']    \n",
            "                                                                                                  \n",
            " conv2_block2_3_bn (BatchNormal  (None, 22, 22, 256)  1024       ['conv2_block2_3_conv[0][0]']    \n",
            " ization)                                                                                         \n",
            "                                                                                                  \n",
            " conv2_block2_add (Add)         (None, 22, 22, 256)  0           ['conv2_block1_out[0][0]',       \n",
            "                                                                  'conv2_block2_3_bn[0][0]']      \n",
            "                                                                                                  \n",
            " conv2_block2_out (Activation)  (None, 22, 22, 256)  0           ['conv2_block2_add[0][0]']       \n",
            "                                                                                                  \n",
            " conv2_block3_1_conv (Conv2D)   (None, 22, 22, 64)   16448       ['conv2_block2_out[0][0]']       \n",
            "                                                                                                  \n",
            " conv2_block3_1_bn (BatchNormal  (None, 22, 22, 64)  256         ['conv2_block3_1_conv[0][0]']    \n",
            " ization)                                                                                         \n",
            "                                                                                                  \n",
            " conv2_block3_1_relu (Activatio  (None, 22, 22, 64)  0           ['conv2_block3_1_bn[0][0]']      \n",
            " n)                                                                                               \n",
            "                                                                                                  \n",
            " conv2_block3_2_conv (Conv2D)   (None, 22, 22, 64)   36928       ['conv2_block3_1_relu[0][0]']    \n",
            "                                                                                                  \n",
            " conv2_block3_2_bn (BatchNormal  (None, 22, 22, 64)  256         ['conv2_block3_2_conv[0][0]']    \n",
            " ization)                                                                                         \n",
            "                                                                                                  \n",
            " conv2_block3_2_relu (Activatio  (None, 22, 22, 64)  0           ['conv2_block3_2_bn[0][0]']      \n",
            " n)                                                                                               \n",
            "                                                                                                  \n",
            " conv2_block3_3_conv (Conv2D)   (None, 22, 22, 256)  16640       ['conv2_block3_2_relu[0][0]']    \n",
            "                                                                                                  \n",
            " conv2_block3_3_bn (BatchNormal  (None, 22, 22, 256)  1024       ['conv2_block3_3_conv[0][0]']    \n",
            " ization)                                                                                         \n",
            "                                                                                                  \n",
            " conv2_block3_add (Add)         (None, 22, 22, 256)  0           ['conv2_block2_out[0][0]',       \n",
            "                                                                  'conv2_block3_3_bn[0][0]']      \n",
            "                                                                                                  \n",
            " conv2_block3_out (Activation)  (None, 22, 22, 256)  0           ['conv2_block3_add[0][0]']       \n",
            "                                                                                                  \n",
            " conv3_block1_1_conv (Conv2D)   (None, 11, 11, 128)  32896       ['conv2_block3_out[0][0]']       \n",
            "                                                                                                  \n",
            " conv3_block1_1_bn (BatchNormal  (None, 11, 11, 128)  512        ['conv3_block1_1_conv[0][0]']    \n",
            " ization)                                                                                         \n",
            "                                                                                                  \n",
            " conv3_block1_1_relu (Activatio  (None, 11, 11, 128)  0          ['conv3_block1_1_bn[0][0]']      \n",
            " n)                                                                                               \n",
            "                                                                                                  \n",
            " conv3_block1_2_conv (Conv2D)   (None, 11, 11, 128)  147584      ['conv3_block1_1_relu[0][0]']    \n",
            "                                                                                                  \n",
            " conv3_block1_2_bn (BatchNormal  (None, 11, 11, 128)  512        ['conv3_block1_2_conv[0][0]']    \n",
            " ization)                                                                                         \n",
            "                                                                                                  \n",
            " conv3_block1_2_relu (Activatio  (None, 11, 11, 128)  0          ['conv3_block1_2_bn[0][0]']      \n",
            " n)                                                                                               \n",
            "                                                                                                  \n",
            " conv3_block1_0_conv (Conv2D)   (None, 11, 11, 512)  131584      ['conv2_block3_out[0][0]']       \n",
            "                                                                                                  \n",
            " conv3_block1_3_conv (Conv2D)   (None, 11, 11, 512)  66048       ['conv3_block1_2_relu[0][0]']    \n",
            "                                                                                                  \n",
            " conv3_block1_0_bn (BatchNormal  (None, 11, 11, 512)  2048       ['conv3_block1_0_conv[0][0]']    \n",
            " ization)                                                                                         \n",
            "                                                                                                  \n",
            " conv3_block1_3_bn (BatchNormal  (None, 11, 11, 512)  2048       ['conv3_block1_3_conv[0][0]']    \n",
            " ization)                                                                                         \n",
            "                                                                                                  \n",
            " conv3_block1_add (Add)         (None, 11, 11, 512)  0           ['conv3_block1_0_bn[0][0]',      \n",
            "                                                                  'conv3_block1_3_bn[0][0]']      \n",
            "                                                                                                  \n",
            " conv3_block1_out (Activation)  (None, 11, 11, 512)  0           ['conv3_block1_add[0][0]']       \n",
            "                                                                                                  \n",
            " conv3_block2_1_conv (Conv2D)   (None, 11, 11, 128)  65664       ['conv3_block1_out[0][0]']       \n",
            "                                                                                                  \n",
            " conv3_block2_1_bn (BatchNormal  (None, 11, 11, 128)  512        ['conv3_block2_1_conv[0][0]']    \n",
            " ization)                                                                                         \n",
            "                                                                                                  \n",
            " conv3_block2_1_relu (Activatio  (None, 11, 11, 128)  0          ['conv3_block2_1_bn[0][0]']      \n",
            " n)                                                                                               \n",
            "                                                                                                  \n",
            " conv3_block2_2_conv (Conv2D)   (None, 11, 11, 128)  147584      ['conv3_block2_1_relu[0][0]']    \n",
            "                                                                                                  \n",
            " conv3_block2_2_bn (BatchNormal  (None, 11, 11, 128)  512        ['conv3_block2_2_conv[0][0]']    \n",
            " ization)                                                                                         \n",
            "                                                                                                  \n",
            " conv3_block2_2_relu (Activatio  (None, 11, 11, 128)  0          ['conv3_block2_2_bn[0][0]']      \n",
            " n)                                                                                               \n",
            "                                                                                                  \n",
            " conv3_block2_3_conv (Conv2D)   (None, 11, 11, 512)  66048       ['conv3_block2_2_relu[0][0]']    \n",
            "                                                                                                  \n",
            " conv3_block2_3_bn (BatchNormal  (None, 11, 11, 512)  2048       ['conv3_block2_3_conv[0][0]']    \n",
            " ization)                                                                                         \n",
            "                                                                                                  \n",
            " conv3_block2_add (Add)         (None, 11, 11, 512)  0           ['conv3_block1_out[0][0]',       \n",
            "                                                                  'conv3_block2_3_bn[0][0]']      \n",
            "                                                                                                  \n",
            " conv3_block2_out (Activation)  (None, 11, 11, 512)  0           ['conv3_block2_add[0][0]']       \n",
            "                                                                                                  \n",
            " conv3_block3_1_conv (Conv2D)   (None, 11, 11, 128)  65664       ['conv3_block2_out[0][0]']       \n",
            "                                                                                                  \n",
            " conv3_block3_1_bn (BatchNormal  (None, 11, 11, 128)  512        ['conv3_block3_1_conv[0][0]']    \n",
            " ization)                                                                                         \n",
            "                                                                                                  \n",
            " conv3_block3_1_relu (Activatio  (None, 11, 11, 128)  0          ['conv3_block3_1_bn[0][0]']      \n",
            " n)                                                                                               \n",
            "                                                                                                  \n",
            " conv3_block3_2_conv (Conv2D)   (None, 11, 11, 128)  147584      ['conv3_block3_1_relu[0][0]']    \n",
            "                                                                                                  \n",
            " conv3_block3_2_bn (BatchNormal  (None, 11, 11, 128)  512        ['conv3_block3_2_conv[0][0]']    \n",
            " ization)                                                                                         \n",
            "                                                                                                  \n",
            " conv3_block3_2_relu (Activatio  (None, 11, 11, 128)  0          ['conv3_block3_2_bn[0][0]']      \n",
            " n)                                                                                               \n",
            "                                                                                                  \n",
            " conv3_block3_3_conv (Conv2D)   (None, 11, 11, 512)  66048       ['conv3_block3_2_relu[0][0]']    \n",
            "                                                                                                  \n",
            " conv3_block3_3_bn (BatchNormal  (None, 11, 11, 512)  2048       ['conv3_block3_3_conv[0][0]']    \n",
            " ization)                                                                                         \n",
            "                                                                                                  \n",
            " conv3_block3_add (Add)         (None, 11, 11, 512)  0           ['conv3_block2_out[0][0]',       \n",
            "                                                                  'conv3_block3_3_bn[0][0]']      \n",
            "                                                                                                  \n",
            " conv3_block3_out (Activation)  (None, 11, 11, 512)  0           ['conv3_block3_add[0][0]']       \n",
            "                                                                                                  \n",
            " conv3_block4_1_conv (Conv2D)   (None, 11, 11, 128)  65664       ['conv3_block3_out[0][0]']       \n",
            "                                                                                                  \n",
            " conv3_block4_1_bn (BatchNormal  (None, 11, 11, 128)  512        ['conv3_block4_1_conv[0][0]']    \n",
            " ization)                                                                                         \n",
            "                                                                                                  \n",
            " conv3_block4_1_relu (Activatio  (None, 11, 11, 128)  0          ['conv3_block4_1_bn[0][0]']      \n",
            " n)                                                                                               \n",
            "                                                                                                  \n",
            " conv3_block4_2_conv (Conv2D)   (None, 11, 11, 128)  147584      ['conv3_block4_1_relu[0][0]']    \n",
            "                                                                                                  \n",
            " conv3_block4_2_bn (BatchNormal  (None, 11, 11, 128)  512        ['conv3_block4_2_conv[0][0]']    \n",
            " ization)                                                                                         \n",
            "                                                                                                  \n",
            " conv3_block4_2_relu (Activatio  (None, 11, 11, 128)  0          ['conv3_block4_2_bn[0][0]']      \n",
            " n)                                                                                               \n",
            "                                                                                                  \n",
            " conv3_block4_3_conv (Conv2D)   (None, 11, 11, 512)  66048       ['conv3_block4_2_relu[0][0]']    \n",
            "                                                                                                  \n",
            " conv3_block4_3_bn (BatchNormal  (None, 11, 11, 512)  2048       ['conv3_block4_3_conv[0][0]']    \n",
            " ization)                                                                                         \n",
            "                                                                                                  \n",
            " conv3_block4_add (Add)         (None, 11, 11, 512)  0           ['conv3_block3_out[0][0]',       \n",
            "                                                                  'conv3_block4_3_bn[0][0]']      \n",
            "                                                                                                  \n",
            " conv3_block4_out (Activation)  (None, 11, 11, 512)  0           ['conv3_block4_add[0][0]']       \n",
            "                                                                                                  \n",
            " conv4_block1_1_conv (Conv2D)   (None, 6, 6, 256)    131328      ['conv3_block4_out[0][0]']       \n",
            "                                                                                                  \n",
            " conv4_block1_1_bn (BatchNormal  (None, 6, 6, 256)   1024        ['conv4_block1_1_conv[0][0]']    \n",
            " ization)                                                                                         \n",
            "                                                                                                  \n",
            " conv4_block1_1_relu (Activatio  (None, 6, 6, 256)   0           ['conv4_block1_1_bn[0][0]']      \n",
            " n)                                                                                               \n",
            "                                                                                                  \n",
            " conv4_block1_2_conv (Conv2D)   (None, 6, 6, 256)    590080      ['conv4_block1_1_relu[0][0]']    \n",
            "                                                                                                  \n",
            " conv4_block1_2_bn (BatchNormal  (None, 6, 6, 256)   1024        ['conv4_block1_2_conv[0][0]']    \n",
            " ization)                                                                                         \n",
            "                                                                                                  \n",
            " conv4_block1_2_relu (Activatio  (None, 6, 6, 256)   0           ['conv4_block1_2_bn[0][0]']      \n",
            " n)                                                                                               \n",
            "                                                                                                  \n",
            " conv4_block1_0_conv (Conv2D)   (None, 6, 6, 1024)   525312      ['conv3_block4_out[0][0]']       \n",
            "                                                                                                  \n",
            " conv4_block1_3_conv (Conv2D)   (None, 6, 6, 1024)   263168      ['conv4_block1_2_relu[0][0]']    \n",
            "                                                                                                  \n",
            " conv4_block1_0_bn (BatchNormal  (None, 6, 6, 1024)  4096        ['conv4_block1_0_conv[0][0]']    \n",
            " ization)                                                                                         \n",
            "                                                                                                  \n",
            " conv4_block1_3_bn (BatchNormal  (None, 6, 6, 1024)  4096        ['conv4_block1_3_conv[0][0]']    \n",
            " ization)                                                                                         \n",
            "                                                                                                  \n",
            " conv4_block1_add (Add)         (None, 6, 6, 1024)   0           ['conv4_block1_0_bn[0][0]',      \n",
            "                                                                  'conv4_block1_3_bn[0][0]']      \n",
            "                                                                                                  \n",
            " conv4_block1_out (Activation)  (None, 6, 6, 1024)   0           ['conv4_block1_add[0][0]']       \n",
            "                                                                                                  \n",
            " conv4_block2_1_conv (Conv2D)   (None, 6, 6, 256)    262400      ['conv4_block1_out[0][0]']       \n",
            "                                                                                                  \n",
            " conv4_block2_1_bn (BatchNormal  (None, 6, 6, 256)   1024        ['conv4_block2_1_conv[0][0]']    \n",
            " ization)                                                                                         \n",
            "                                                                                                  \n",
            " conv4_block2_1_relu (Activatio  (None, 6, 6, 256)   0           ['conv4_block2_1_bn[0][0]']      \n",
            " n)                                                                                               \n",
            "                                                                                                  \n",
            " conv4_block2_2_conv (Conv2D)   (None, 6, 6, 256)    590080      ['conv4_block2_1_relu[0][0]']    \n",
            "                                                                                                  \n",
            " conv4_block2_2_bn (BatchNormal  (None, 6, 6, 256)   1024        ['conv4_block2_2_conv[0][0]']    \n",
            " ization)                                                                                         \n",
            "                                                                                                  \n",
            " conv4_block2_2_relu (Activatio  (None, 6, 6, 256)   0           ['conv4_block2_2_bn[0][0]']      \n",
            " n)                                                                                               \n",
            "                                                                                                  \n",
            " conv4_block2_3_conv (Conv2D)   (None, 6, 6, 1024)   263168      ['conv4_block2_2_relu[0][0]']    \n",
            "                                                                                                  \n",
            " conv4_block2_3_bn (BatchNormal  (None, 6, 6, 1024)  4096        ['conv4_block2_3_conv[0][0]']    \n",
            " ization)                                                                                         \n",
            "                                                                                                  \n",
            " conv4_block2_add (Add)         (None, 6, 6, 1024)   0           ['conv4_block1_out[0][0]',       \n",
            "                                                                  'conv4_block2_3_bn[0][0]']      \n",
            "                                                                                                  \n",
            " conv4_block2_out (Activation)  (None, 6, 6, 1024)   0           ['conv4_block2_add[0][0]']       \n",
            "                                                                                                  \n",
            " conv4_block3_1_conv (Conv2D)   (None, 6, 6, 256)    262400      ['conv4_block2_out[0][0]']       \n",
            "                                                                                                  \n",
            " conv4_block3_1_bn (BatchNormal  (None, 6, 6, 256)   1024        ['conv4_block3_1_conv[0][0]']    \n",
            " ization)                                                                                         \n",
            "                                                                                                  \n",
            " conv4_block3_1_relu (Activatio  (None, 6, 6, 256)   0           ['conv4_block3_1_bn[0][0]']      \n",
            " n)                                                                                               \n",
            "                                                                                                  \n",
            " conv4_block3_2_conv (Conv2D)   (None, 6, 6, 256)    590080      ['conv4_block3_1_relu[0][0]']    \n",
            "                                                                                                  \n",
            " conv4_block3_2_bn (BatchNormal  (None, 6, 6, 256)   1024        ['conv4_block3_2_conv[0][0]']    \n",
            " ization)                                                                                         \n",
            "                                                                                                  \n",
            " conv4_block3_2_relu (Activatio  (None, 6, 6, 256)   0           ['conv4_block3_2_bn[0][0]']      \n",
            " n)                                                                                               \n",
            "                                                                                                  \n",
            " conv4_block3_3_conv (Conv2D)   (None, 6, 6, 1024)   263168      ['conv4_block3_2_relu[0][0]']    \n",
            "                                                                                                  \n",
            " conv4_block3_3_bn (BatchNormal  (None, 6, 6, 1024)  4096        ['conv4_block3_3_conv[0][0]']    \n",
            " ization)                                                                                         \n",
            "                                                                                                  \n",
            " conv4_block3_add (Add)         (None, 6, 6, 1024)   0           ['conv4_block2_out[0][0]',       \n",
            "                                                                  'conv4_block3_3_bn[0][0]']      \n",
            "                                                                                                  \n",
            " conv4_block3_out (Activation)  (None, 6, 6, 1024)   0           ['conv4_block3_add[0][0]']       \n",
            "                                                                                                  \n",
            " conv4_block4_1_conv (Conv2D)   (None, 6, 6, 256)    262400      ['conv4_block3_out[0][0]']       \n",
            "                                                                                                  \n",
            " conv4_block4_1_bn (BatchNormal  (None, 6, 6, 256)   1024        ['conv4_block4_1_conv[0][0]']    \n",
            " ization)                                                                                         \n",
            "                                                                                                  \n",
            " conv4_block4_1_relu (Activatio  (None, 6, 6, 256)   0           ['conv4_block4_1_bn[0][0]']      \n",
            " n)                                                                                               \n",
            "                                                                                                  \n",
            " conv4_block4_2_conv (Conv2D)   (None, 6, 6, 256)    590080      ['conv4_block4_1_relu[0][0]']    \n",
            "                                                                                                  \n",
            " conv4_block4_2_bn (BatchNormal  (None, 6, 6, 256)   1024        ['conv4_block4_2_conv[0][0]']    \n",
            " ization)                                                                                         \n",
            "                                                                                                  \n",
            " conv4_block4_2_relu (Activatio  (None, 6, 6, 256)   0           ['conv4_block4_2_bn[0][0]']      \n",
            " n)                                                                                               \n",
            "                                                                                                  \n",
            " conv4_block4_3_conv (Conv2D)   (None, 6, 6, 1024)   263168      ['conv4_block4_2_relu[0][0]']    \n",
            "                                                                                                  \n",
            " conv4_block4_3_bn (BatchNormal  (None, 6, 6, 1024)  4096        ['conv4_block4_3_conv[0][0]']    \n",
            " ization)                                                                                         \n",
            "                                                                                                  \n",
            " conv4_block4_add (Add)         (None, 6, 6, 1024)   0           ['conv4_block3_out[0][0]',       \n",
            "                                                                  'conv4_block4_3_bn[0][0]']      \n",
            "                                                                                                  \n",
            " conv4_block4_out (Activation)  (None, 6, 6, 1024)   0           ['conv4_block4_add[0][0]']       \n",
            "                                                                                                  \n",
            " conv4_block5_1_conv (Conv2D)   (None, 6, 6, 256)    262400      ['conv4_block4_out[0][0]']       \n",
            "                                                                                                  \n",
            " conv4_block5_1_bn (BatchNormal  (None, 6, 6, 256)   1024        ['conv4_block5_1_conv[0][0]']    \n",
            " ization)                                                                                         \n",
            "                                                                                                  \n",
            " conv4_block5_1_relu (Activatio  (None, 6, 6, 256)   0           ['conv4_block5_1_bn[0][0]']      \n",
            " n)                                                                                               \n",
            "                                                                                                  \n",
            " conv4_block5_2_conv (Conv2D)   (None, 6, 6, 256)    590080      ['conv4_block5_1_relu[0][0]']    \n",
            "                                                                                                  \n",
            " conv4_block5_2_bn (BatchNormal  (None, 6, 6, 256)   1024        ['conv4_block5_2_conv[0][0]']    \n",
            " ization)                                                                                         \n",
            "                                                                                                  \n",
            " conv4_block5_2_relu (Activatio  (None, 6, 6, 256)   0           ['conv4_block5_2_bn[0][0]']      \n",
            " n)                                                                                               \n",
            "                                                                                                  \n",
            " conv4_block5_3_conv (Conv2D)   (None, 6, 6, 1024)   263168      ['conv4_block5_2_relu[0][0]']    \n",
            "                                                                                                  \n",
            " conv4_block5_3_bn (BatchNormal  (None, 6, 6, 1024)  4096        ['conv4_block5_3_conv[0][0]']    \n",
            " ization)                                                                                         \n",
            "                                                                                                  \n",
            " conv4_block5_add (Add)         (None, 6, 6, 1024)   0           ['conv4_block4_out[0][0]',       \n",
            "                                                                  'conv4_block5_3_bn[0][0]']      \n",
            "                                                                                                  \n",
            " conv4_block5_out (Activation)  (None, 6, 6, 1024)   0           ['conv4_block5_add[0][0]']       \n",
            "                                                                                                  \n",
            " conv4_block6_1_conv (Conv2D)   (None, 6, 6, 256)    262400      ['conv4_block5_out[0][0]']       \n",
            "                                                                                                  \n",
            " conv4_block6_1_bn (BatchNormal  (None, 6, 6, 256)   1024        ['conv4_block6_1_conv[0][0]']    \n",
            " ization)                                                                                         \n",
            "                                                                                                  \n",
            " conv4_block6_1_relu (Activatio  (None, 6, 6, 256)   0           ['conv4_block6_1_bn[0][0]']      \n",
            " n)                                                                                               \n",
            "                                                                                                  \n",
            " conv4_block6_2_conv (Conv2D)   (None, 6, 6, 256)    590080      ['conv4_block6_1_relu[0][0]']    \n",
            "                                                                                                  \n",
            " conv4_block6_2_bn (BatchNormal  (None, 6, 6, 256)   1024        ['conv4_block6_2_conv[0][0]']    \n",
            " ization)                                                                                         \n",
            "                                                                                                  \n",
            " conv4_block6_2_relu (Activatio  (None, 6, 6, 256)   0           ['conv4_block6_2_bn[0][0]']      \n",
            " n)                                                                                               \n",
            "                                                                                                  \n",
            " conv4_block6_3_conv (Conv2D)   (None, 6, 6, 1024)   263168      ['conv4_block6_2_relu[0][0]']    \n",
            "                                                                                                  \n",
            " conv4_block6_3_bn (BatchNormal  (None, 6, 6, 1024)  4096        ['conv4_block6_3_conv[0][0]']    \n",
            " ization)                                                                                         \n",
            "                                                                                                  \n",
            " conv4_block6_add (Add)         (None, 6, 6, 1024)   0           ['conv4_block5_out[0][0]',       \n",
            "                                                                  'conv4_block6_3_bn[0][0]']      \n",
            "                                                                                                  \n",
            " conv4_block6_out (Activation)  (None, 6, 6, 1024)   0           ['conv4_block6_add[0][0]']       \n",
            "                                                                                                  \n",
            " conv5_block1_1_conv (Conv2D)   (None, 3, 3, 512)    524800      ['conv4_block6_out[0][0]']       \n",
            "                                                                                                  \n",
            " conv5_block1_1_bn (BatchNormal  (None, 3, 3, 512)   2048        ['conv5_block1_1_conv[0][0]']    \n",
            " ization)                                                                                         \n",
            "                                                                                                  \n",
            " conv5_block1_1_relu (Activatio  (None, 3, 3, 512)   0           ['conv5_block1_1_bn[0][0]']      \n",
            " n)                                                                                               \n",
            "                                                                                                  \n",
            " conv5_block1_2_conv (Conv2D)   (None, 3, 3, 512)    2359808     ['conv5_block1_1_relu[0][0]']    \n",
            "                                                                                                  \n",
            " conv5_block1_2_bn (BatchNormal  (None, 3, 3, 512)   2048        ['conv5_block1_2_conv[0][0]']    \n",
            " ization)                                                                                         \n",
            "                                                                                                  \n",
            " conv5_block1_2_relu (Activatio  (None, 3, 3, 512)   0           ['conv5_block1_2_bn[0][0]']      \n",
            " n)                                                                                               \n",
            "                                                                                                  \n",
            " conv5_block1_0_conv (Conv2D)   (None, 3, 3, 2048)   2099200     ['conv4_block6_out[0][0]']       \n",
            "                                                                                                  \n",
            " conv5_block1_3_conv (Conv2D)   (None, 3, 3, 2048)   1050624     ['conv5_block1_2_relu[0][0]']    \n",
            "                                                                                                  \n",
            " conv5_block1_0_bn (BatchNormal  (None, 3, 3, 2048)  8192        ['conv5_block1_0_conv[0][0]']    \n",
            " ization)                                                                                         \n",
            "                                                                                                  \n",
            " conv5_block1_3_bn (BatchNormal  (None, 3, 3, 2048)  8192        ['conv5_block1_3_conv[0][0]']    \n",
            " ization)                                                                                         \n",
            "                                                                                                  \n",
            " conv5_block1_add (Add)         (None, 3, 3, 2048)   0           ['conv5_block1_0_bn[0][0]',      \n",
            "                                                                  'conv5_block1_3_bn[0][0]']      \n",
            "                                                                                                  \n",
            " conv5_block1_out (Activation)  (None, 3, 3, 2048)   0           ['conv5_block1_add[0][0]']       \n",
            "                                                                                                  \n",
            " conv5_block2_1_conv (Conv2D)   (None, 3, 3, 512)    1049088     ['conv5_block1_out[0][0]']       \n",
            "                                                                                                  \n",
            " conv5_block2_1_bn (BatchNormal  (None, 3, 3, 512)   2048        ['conv5_block2_1_conv[0][0]']    \n",
            " ization)                                                                                         \n",
            "                                                                                                  \n",
            " conv5_block2_1_relu (Activatio  (None, 3, 3, 512)   0           ['conv5_block2_1_bn[0][0]']      \n",
            " n)                                                                                               \n",
            "                                                                                                  \n",
            " conv5_block2_2_conv (Conv2D)   (None, 3, 3, 512)    2359808     ['conv5_block2_1_relu[0][0]']    \n",
            "                                                                                                  \n",
            " conv5_block2_2_bn (BatchNormal  (None, 3, 3, 512)   2048        ['conv5_block2_2_conv[0][0]']    \n",
            " ization)                                                                                         \n",
            "                                                                                                  \n",
            " conv5_block2_2_relu (Activatio  (None, 3, 3, 512)   0           ['conv5_block2_2_bn[0][0]']      \n",
            " n)                                                                                               \n",
            "                                                                                                  \n",
            " conv5_block2_3_conv (Conv2D)   (None, 3, 3, 2048)   1050624     ['conv5_block2_2_relu[0][0]']    \n",
            "                                                                                                  \n",
            " conv5_block2_3_bn (BatchNormal  (None, 3, 3, 2048)  8192        ['conv5_block2_3_conv[0][0]']    \n",
            " ization)                                                                                         \n",
            "                                                                                                  \n",
            " conv5_block2_add (Add)         (None, 3, 3, 2048)   0           ['conv5_block1_out[0][0]',       \n",
            "                                                                  'conv5_block2_3_bn[0][0]']      \n",
            "                                                                                                  \n",
            " conv5_block2_out (Activation)  (None, 3, 3, 2048)   0           ['conv5_block2_add[0][0]']       \n",
            "                                                                                                  \n",
            " conv5_block3_1_conv (Conv2D)   (None, 3, 3, 512)    1049088     ['conv5_block2_out[0][0]']       \n",
            "                                                                                                  \n",
            " conv5_block3_1_bn (BatchNormal  (None, 3, 3, 512)   2048        ['conv5_block3_1_conv[0][0]']    \n",
            " ization)                                                                                         \n",
            "                                                                                                  \n",
            " conv5_block3_1_relu (Activatio  (None, 3, 3, 512)   0           ['conv5_block3_1_bn[0][0]']      \n",
            " n)                                                                                               \n",
            "                                                                                                  \n",
            " conv5_block3_2_conv (Conv2D)   (None, 3, 3, 512)    2359808     ['conv5_block3_1_relu[0][0]']    \n",
            "                                                                                                  \n",
            " conv5_block3_2_bn (BatchNormal  (None, 3, 3, 512)   2048        ['conv5_block3_2_conv[0][0]']    \n",
            " ization)                                                                                         \n",
            "                                                                                                  \n",
            " conv5_block3_2_relu (Activatio  (None, 3, 3, 512)   0           ['conv5_block3_2_bn[0][0]']      \n",
            " n)                                                                                               \n",
            "                                                                                                  \n",
            " conv5_block3_3_conv (Conv2D)   (None, 3, 3, 2048)   1050624     ['conv5_block3_2_relu[0][0]']    \n",
            "                                                                                                  \n",
            " conv5_block3_3_bn (BatchNormal  (None, 3, 3, 2048)  8192        ['conv5_block3_3_conv[0][0]']    \n",
            " ization)                                                                                         \n",
            "                                                                                                  \n",
            " conv5_block3_add (Add)         (None, 3, 3, 2048)   0           ['conv5_block2_out[0][0]',       \n",
            "                                                                  'conv5_block3_3_bn[0][0]']      \n",
            "                                                                                                  \n",
            " conv5_block3_out (Activation)  (None, 3, 3, 2048)   0           ['conv5_block3_add[0][0]']       \n",
            "                                                                                                  \n",
            "==================================================================================================\n",
            "Total params: 23,587,712\n",
            "Trainable params: 0\n",
            "Non-trainable params: 23,587,712\n",
            "__________________________________________________________________________________________________\n"
          ]
        }
      ]
    },
    {
      "cell_type": "code",
      "source": [
        "from tensorflow.keras import Model\n",
        "from tensorflow.keras.layers import Dense, Input, Flatten"
      ],
      "metadata": {
        "id": "HRDG8dS-aH-z"
      },
      "execution_count": null,
      "outputs": []
    },
    {
      "cell_type": "code",
      "source": [
        "inp_layer = Input(shape = (85, 85, 3))\n",
        "features = feature_extractor_Resnet(inp_layer)\n",
        "flat = Flatten()(features)\n",
        "output = Dense(units = 200, activation = 'softmax')(flat)\n",
        "\n",
        "model = Model(inputs = inp_layer, outputs = output)\n",
        "\n",
        "model.summary()"
      ],
      "metadata": {
        "colab": {
          "base_uri": "https://localhost:8080/"
        },
        "id": "Y9otjFU6bBrj",
        "outputId": "df6951ff-84e9-44ea-dc0d-7f3f5cf6cd69"
      },
      "execution_count": null,
      "outputs": [
        {
          "output_type": "stream",
          "name": "stdout",
          "text": [
            "Model: \"model_1\"\n",
            "_________________________________________________________________\n",
            " Layer (type)                Output Shape              Param #   \n",
            "=================================================================\n",
            " input_3 (InputLayer)        [(None, 85, 85, 3)]       0         \n",
            "                                                                 \n",
            " resnet50 (Functional)       (None, 3, 3, 2048)        23587712  \n",
            "                                                                 \n",
            " flatten_1 (Flatten)         (None, 18432)             0         \n",
            "                                                                 \n",
            " dense_1 (Dense)             (None, 200)               3686600   \n",
            "                                                                 \n",
            "=================================================================\n",
            "Total params: 27,274,312\n",
            "Trainable params: 3,686,600\n",
            "Non-trainable params: 23,587,712\n",
            "_________________________________________________________________\n"
          ]
        }
      ]
    },
    {
      "cell_type": "code",
      "source": [
        "from tensorflow.keras.losses import categorical_crossentropy\n",
        "from tensorflow.keras.optimizers import Adam\n",
        "\n",
        "opt = Adam(learning_rate = 0.001)\n",
        "BCE = categorical_crossentropy\n",
        "model.compile(optimizer = opt, loss=BCE, metrics = 'acc')"
      ],
      "metadata": {
        "id": "kW4oZ3dBbK9c"
      },
      "execution_count": null,
      "outputs": []
    },
    {
      "cell_type": "code",
      "source": [
        "results = model.fit(train_generator,\n",
        "                    epochs = 10,\n",
        "                    validation_data=validation_generator)"
      ],
      "metadata": {
        "colab": {
          "base_uri": "https://localhost:8080/"
        },
        "id": "OrwJ6wg2bR3u",
        "outputId": "02611650-f402-4885-9ecf-5779202978d4"
      },
      "execution_count": null,
      "outputs": [
        {
          "output_type": "stream",
          "name": "stdout",
          "text": [
            "Epoch 1/10\n",
            "782/782 [==============================] - 91s 100ms/step - loss: 8.7984 - acc: 0.2770 - val_loss: 9.2778 - val_acc: 0.3253\n",
            "Epoch 2/10\n",
            "782/782 [==============================] - 74s 95ms/step - loss: 4.0994 - acc: 0.5499 - val_loss: 10.2509 - val_acc: 0.3274\n",
            "Epoch 3/10\n",
            "782/782 [==============================] - 75s 95ms/step - loss: 2.5125 - acc: 0.6787 - val_loss: 10.5688 - val_acc: 0.3521\n",
            "Epoch 4/10\n",
            "782/782 [==============================] - 74s 95ms/step - loss: 1.7173 - acc: 0.7611 - val_loss: 11.6636 - val_acc: 0.3532\n",
            "Epoch 5/10\n",
            "782/782 [==============================] - 74s 95ms/step - loss: 1.4690 - acc: 0.7987 - val_loss: 12.6928 - val_acc: 0.3607\n",
            "Epoch 6/10\n",
            "782/782 [==============================] - 74s 95ms/step - loss: 1.2652 - acc: 0.8281 - val_loss: 13.5292 - val_acc: 0.3697\n",
            "Epoch 7/10\n",
            "782/782 [==============================] - 75s 96ms/step - loss: 1.1480 - acc: 0.8492 - val_loss: 14.8242 - val_acc: 0.3687\n",
            "Epoch 8/10\n",
            "782/782 [==============================] - 75s 95ms/step - loss: 1.0110 - acc: 0.8699 - val_loss: 16.1773 - val_acc: 0.3552\n",
            "Epoch 9/10\n",
            "782/782 [==============================] - 75s 95ms/step - loss: 0.9465 - acc: 0.8796 - val_loss: 16.8054 - val_acc: 0.3665\n",
            "Epoch 10/10\n",
            "782/782 [==============================] - 75s 95ms/step - loss: 0.8985 - acc: 0.8901 - val_loss: 18.2013 - val_acc: 0.3614\n"
          ]
        }
      ]
    },
    {
      "cell_type": "code",
      "source": [
        "import matplotlib.pyplot as plt\n",
        "%matplotlib inline \n",
        "\n",
        "train_loss = results.history['loss']\n",
        "val_loss = results.history['val_loss']\n",
        "train_acc = results.history['acc']\n",
        "val_acc = results.history['val_acc']\n",
        "\n",
        "plt.subplots(figsize=(10, 10))\n",
        "\n",
        "plt.subplot(2, 1, 1)\n",
        "plt.semilogy(train_loss)\n",
        "plt.semilogy(val_loss)\n",
        "\n",
        "plt.legend(['training loss', 'validation loss'])\n",
        "plt.xlabel('epochs')\n",
        "plt.ylabel('BCE')\n",
        "\n",
        "plt.subplot(2, 1, 2)\n",
        "plt.plot(train_acc)\n",
        "plt.plot(val_acc)\n",
        "\n",
        "plt.legend(['training accuracy', 'validation accuracy'])\n",
        "plt.xlabel('epochs')\n",
        "plt.ylabel('accuracy')\n",
        "\n",
        "plt.show()"
      ],
      "metadata": {
        "id": "PLtrn-jscK6-",
        "colab": {
          "base_uri": "https://localhost:8080/",
          "height": 606
        },
        "outputId": "411c44e6-327e-4ede-ba09-0c9bb159fdf5"
      },
      "execution_count": null,
      "outputs": [
        {
          "output_type": "display_data",
          "data": {
            "text/plain": [
              "<Figure size 720x720 with 2 Axes>"
            ],
            "image/png": "[encoded data removed]"
          },
          "metadata": {
            "needs_background": "light"
          }
        }
      ]
    },
    {
      "cell_type": "code",
      "source": [
        "y_hat = validation_generator.classes"
      ],
      "metadata": {
        "id": "78aYjpy9Pd9D"
      },
      "execution_count": null,
      "outputs": []
    },
    {
      "cell_type": "code",
      "source": [
        "from tensorflow.keras.utils import to_categorical\n",
        "y_hat = to_categorical(y_hat,num_classes = 200)"
      ],
      "metadata": {
        "id": "Wn_37PK7VRfN"
      },
      "execution_count": null,
      "outputs": []
    },
    {
      "cell_type": "code",
      "source": [
        "from sklearn.metrics import confusion_matrix"
      ],
      "metadata": {
        "id": "TcsI7FxpQ3UN"
      },
      "execution_count": null,
      "outputs": []
    },
    {
      "cell_type": "code",
      "source": [
        "y_pred_valid_Resnet = model.predict(validation_generator)"
      ],
      "metadata": {
        "id": "HznM6oItWCXu"
      },
      "execution_count": null,
      "outputs": []
    },
    {
      "cell_type": "code",
      "source": [
        "from sklearn.metrics import classification_report\n",
        "cls_report = classification_report(y_hat.argmax(axis=1), y_pred_valid_Resnet.argmax(axis=1))\n",
        "\n",
        "print(cls_report)"
      ],
      "metadata": {
        "colab": {
          "base_uri": "https://localhost:8080/"
        },
        "id": "bjFGv1A_RVaC",
        "outputId": "bcd72ad4-fe4c-438e-c89b-586a755a9729"
      },
      "execution_count": null,
      "outputs": [
        {
          "output_type": "stream",
          "name": "stdout",
          "text": [
            "              precision    recall  f1-score   support\n",
            "\n",
            "           0       0.44      0.76      0.56        50\n",
            "           1       0.58      0.58      0.58        50\n",
            "           2       0.18      0.12      0.14        50\n",
            "           3       0.19      0.18      0.19        50\n",
            "           4       0.35      0.30      0.32        50\n",
            "           5       0.24      0.10      0.14        50\n",
            "           6       0.93      0.28      0.43        50\n",
            "           7       0.19      0.14      0.16        50\n",
            "           8       0.58      0.56      0.57        50\n",
            "           9       0.31      0.36      0.33        50\n",
            "          10       0.85      0.22      0.35        50\n",
            "          11       0.45      0.28      0.35        50\n",
            "          12       0.70      0.42      0.53        50\n",
            "          13       0.57      0.72      0.64        50\n",
            "          14       0.59      0.74      0.65        50\n",
            "          15       0.70      0.14      0.23        50\n",
            "          16       0.08      0.46      0.13        50\n",
            "          17       0.58      0.44      0.50        50\n",
            "          18       0.35      0.16      0.22        50\n",
            "          19       0.37      0.48      0.42        50\n",
            "          20       0.59      0.38      0.46        50\n",
            "          21       0.55      0.44      0.49        50\n",
            "          22       0.72      0.52      0.60        50\n",
            "          23       0.64      0.72      0.68        50\n",
            "          24       0.10      0.28      0.14        50\n",
            "          25       0.54      0.30      0.38        50\n",
            "          26       0.42      0.20      0.27        50\n",
            "          27       0.26      0.10      0.14        50\n",
            "          28       0.35      0.24      0.29        50\n",
            "          29       0.17      0.30      0.22        50\n",
            "          30       0.20      0.10      0.13        50\n",
            "          31       0.26      0.44      0.33        50\n",
            "          32       0.32      0.18      0.23        50\n",
            "          33       0.23      0.22      0.23        50\n",
            "          34       0.31      0.38      0.34        50\n",
            "          35       0.19      0.66      0.30        50\n",
            "          36       0.34      0.54      0.42        50\n",
            "          37       0.48      0.26      0.34        50\n",
            "          38       0.43      0.40      0.41        50\n",
            "          39       0.53      0.36      0.43        50\n",
            "          40       0.35      0.18      0.24        50\n",
            "          41       0.16      0.26      0.20        50\n",
            "          42       0.32      0.44      0.37        50\n",
            "          43       0.75      0.24      0.36        50\n",
            "          44       0.87      0.52      0.65        50\n",
            "          45       0.70      0.46      0.55        50\n",
            "          46       0.44      0.30      0.36        50\n",
            "          47       0.54      0.38      0.45        50\n",
            "          48       0.14      0.18      0.16        50\n",
            "          49       0.14      0.30      0.19        50\n",
            "          50       0.55      0.32      0.41        50\n",
            "          51       0.21      0.24      0.22        50\n",
            "          52       0.65      0.44      0.52        50\n",
            "          53       0.43      0.24      0.31        50\n",
            "          54       0.21      0.34      0.26        50\n",
            "          55       0.50      0.32      0.39        50\n",
            "          56       0.24      0.34      0.28        50\n",
            "          57       0.48      0.44      0.46        50\n",
            "          58       0.67      0.24      0.35        50\n",
            "          59       0.32      0.40      0.36        50\n",
            "          60       0.67      0.40      0.50        50\n",
            "          61       0.59      0.44      0.51        50\n",
            "          62       0.34      0.30      0.32        50\n",
            "          63       0.36      0.40      0.38        50\n",
            "          64       0.27      0.24      0.25        50\n",
            "          65       0.19      0.32      0.24        50\n",
            "          66       0.95      0.36      0.52        50\n",
            "          67       0.37      0.20      0.26        50\n",
            "          68       0.45      0.42      0.43        50\n",
            "          69       0.28      0.22      0.25        50\n",
            "          70       0.30      0.44      0.36        50\n",
            "          71       0.63      0.48      0.55        50\n",
            "          72       0.24      0.54      0.33        50\n",
            "          73       0.79      0.30      0.43        50\n",
            "          74       0.39      0.22      0.28        50\n",
            "          75       0.23      0.36      0.28        50\n",
            "          76       0.53      0.42      0.47        50\n",
            "          77       0.18      0.24      0.21        50\n",
            "          78       0.61      0.72      0.66        50\n",
            "          79       0.21      0.34      0.26        50\n",
            "          80       0.24      0.24      0.24        50\n",
            "          81       0.86      0.72      0.78        50\n",
            "          82       0.41      0.26      0.32        50\n",
            "          83       0.50      0.22      0.31        50\n",
            "          84       0.21      0.26      0.23        50\n",
            "          85       0.49      0.40      0.44        50\n",
            "          86       0.32      0.58      0.41        50\n",
            "          87       0.68      0.26      0.38        50\n",
            "          88       0.13      0.12      0.12        50\n",
            "          89       0.20      0.60      0.30        50\n",
            "          90       0.79      0.52      0.63        50\n",
            "          91       0.71      0.44      0.54        50\n",
            "          92       0.62      0.36      0.46        50\n",
            "          93       0.70      0.14      0.23        50\n",
            "          94       0.44      0.30      0.36        50\n",
            "          95       0.31      0.38      0.34        50\n",
            "          96       0.23      0.60      0.33        50\n",
            "          97       0.32      0.24      0.27        50\n",
            "          98       0.50      0.20      0.29        50\n",
            "          99       0.18      0.20      0.19        50\n",
            "         100       0.31      0.20      0.24        50\n",
            "         101       0.48      0.40      0.43        50\n",
            "         102       0.33      0.28      0.30        50\n",
            "         103       0.49      0.84      0.62        50\n",
            "         104       0.50      0.38      0.43        50\n",
            "         105       0.41      0.22      0.29        50\n",
            "         106       0.29      0.26      0.27        50\n",
            "         107       0.50      0.54      0.52        50\n",
            "         108       0.73      0.44      0.55        50\n",
            "         109       0.75      0.42      0.54        50\n",
            "         110       0.59      0.20      0.30        50\n",
            "         111       0.33      0.50      0.40        50\n",
            "         112       0.36      0.08      0.13        50\n",
            "         113       0.77      0.40      0.53        50\n",
            "         114       0.53      0.18      0.27        50\n",
            "         115       0.96      0.50      0.66        50\n",
            "         116       0.29      0.26      0.27        50\n",
            "         117       0.67      0.24      0.35        50\n",
            "         118       0.53      0.58      0.55        50\n",
            "         119       0.40      0.04      0.07        50\n",
            "         120       0.19      0.16      0.17        50\n",
            "         121       0.31      0.66      0.42        50\n",
            "         122       0.12      0.20      0.15        50\n",
            "         123       0.19      0.22      0.21        50\n",
            "         124       0.76      0.64      0.70        50\n",
            "         125       0.27      0.36      0.31        50\n",
            "         126       0.37      0.64      0.47        50\n",
            "         127       0.31      0.50      0.38        50\n",
            "         128       0.32      0.52      0.40        50\n",
            "         129       0.44      0.56      0.49        50\n",
            "         130       0.44      0.32      0.37        50\n",
            "         131       0.14      0.12      0.13        50\n",
            "         132       0.30      0.16      0.21        50\n",
            "         133       0.80      0.48      0.60        50\n",
            "         134       0.64      0.46      0.53        50\n",
            "         135       0.26      0.38      0.31        50\n",
            "         136       0.50      0.14      0.22        50\n",
            "         137       0.30      0.40      0.34        50\n",
            "         138       0.44      0.16      0.24        50\n",
            "         139       0.21      0.16      0.18        50\n",
            "         140       0.89      0.16      0.27        50\n",
            "         141       0.38      0.52      0.44        50\n",
            "         142       0.35      0.38      0.36        50\n",
            "         143       0.64      0.64      0.64        50\n",
            "         144       0.46      0.26      0.33        50\n",
            "         145       0.60      0.60      0.60        50\n",
            "         146       0.85      0.44      0.58        50\n",
            "         147       0.13      0.64      0.22        50\n",
            "         148       0.27      0.26      0.26        50\n",
            "         149       0.39      0.52      0.44        50\n",
            "         150       0.10      0.42      0.17        50\n",
            "         151       0.20      0.30      0.24        50\n",
            "         152       0.49      0.50      0.50        50\n",
            "         153       0.50      0.20      0.29        50\n",
            "         154       0.92      0.22      0.35        50\n",
            "         155       0.25      0.60      0.35        50\n",
            "         156       0.32      0.16      0.21        50\n",
            "         157       0.45      0.10      0.16        50\n",
            "         158       0.29      0.14      0.19        50\n",
            "         159       0.07      0.12      0.09        50\n",
            "         160       0.38      0.50      0.43        50\n",
            "         161       0.31      0.36      0.33        50\n",
            "         162       0.38      0.54      0.44        50\n",
            "         163       0.49      0.42      0.45        50\n",
            "         164       0.60      0.30      0.40        50\n",
            "         165       1.00      0.40      0.57        50\n",
            "         166       0.81      0.44      0.57        50\n",
            "         167       0.62      0.36      0.46        50\n",
            "         168       0.09      0.12      0.10        50\n",
            "         169       0.44      0.14      0.21        50\n",
            "         170       0.67      0.24      0.35        50\n",
            "         171       0.41      0.48      0.44        50\n",
            "         172       0.34      0.20      0.25        50\n",
            "         173       0.61      0.50      0.55        50\n",
            "         174       0.49      0.48      0.48        50\n",
            "         175       0.18      0.04      0.07        50\n",
            "         176       0.52      0.66      0.58        50\n",
            "         177       0.28      0.46      0.35        50\n",
            "         178       0.50      0.42      0.46        50\n",
            "         179       0.35      0.12      0.18        50\n",
            "         180       0.18      0.22      0.20        50\n",
            "         181       0.50      0.38      0.43        50\n",
            "         182       0.35      0.12      0.18        50\n",
            "         183       0.34      0.58      0.43        50\n",
            "         184       0.51      0.48      0.49        50\n",
            "         185       0.52      0.48      0.50        50\n",
            "         186       0.62      0.32      0.42        50\n",
            "         187       0.41      0.56      0.47        50\n",
            "         188       0.65      0.26      0.37        50\n",
            "         189       0.44      0.62      0.51        50\n",
            "         190       0.33      0.28      0.30        50\n",
            "         191       0.88      0.58      0.70        50\n",
            "         192       0.58      0.42      0.49        50\n",
            "         193       0.76      0.74      0.75        50\n",
            "         194       0.45      0.48      0.47        50\n",
            "         195       0.33      0.28      0.30        50\n",
            "         196       0.57      0.24      0.34        50\n",
            "         197       0.25      0.36      0.29        50\n",
            "         198       0.45      0.58      0.50        50\n",
            "         199       0.45      0.30      0.36        50\n",
            "\n",
            "    accuracy                           0.36     10000\n",
            "   macro avg       0.44      0.36      0.37     10000\n",
            "weighted avg       0.44      0.36      0.37     10000\n",
            "\n"
          ]
        }
      ]
    },
    {
      "cell_type": "code",
      "source": [
        "cnf = confusion_matrix(y_hat.argmax(axis=1), y_pred_valid_Resnet.argmax(axis=1))\n",
        "print(cnf)"
      ],
      "metadata": {
        "colab": {
          "base_uri": "https://localhost:8080/"
        },
        "id": "98d0wks8Rt6P",
        "outputId": "c80a6df7-d1fa-421e-ba19-ab9acf3bb51c"
      },
      "execution_count": null,
      "outputs": [
        {
          "output_type": "stream",
          "name": "stdout",
          "text": [
            "[[38  0  0 ...  0  0  0]\n",
            " [ 0 29  0 ...  0  0  0]\n",
            " [ 0  2  6 ...  0  0  0]\n",
            " ...\n",
            " [ 0  0  0 ... 18  5  0]\n",
            " [ 0  0  0 ...  5 29  0]\n",
            " [ 0  0  0 ...  0  0 15]]\n"
          ]
        }
      ]
    },
    {
      "cell_type": "code",
      "source": [
        "from tensorflow.keras.preprocessing.image import ImageDataGenerator\n",
        "\n",
        "batch_size = 128\n",
        "target_size = (85, 85)\n",
        "\n",
        "train_datagen2 = ImageDataGenerator( rotation_range=10,\n",
        "                                    width_shift_range=0.2,\n",
        "                                    height_shift_range=0.2,\n",
        "                                    shear_range=0.1,\n",
        "                                    zoom_range=0.1,\n",
        "                                    channel_shift_range=0.0,\n",
        "                                    horizontal_flip=True,\n",
        "                                    vertical_flip=True,\n",
        "                                    rescale=1./255)\n",
        "\n",
        "test_datagen2 = ImageDataGenerator(rescale=1./255)\n",
        "\n",
        "train_generator2 = train_datagen2.flow_from_directory(\n",
        "        '/content/IMagenet/tiny-imagenet-200/train',  \n",
        "        target_size=target_size,  \n",
        "        batch_size=batch_size,\n",
        "        class_mode='categorical')  \n",
        "\n",
        "validation_generator2 = test_datagen2.flow_from_directory(\n",
        "        '/content/IMagenet/tiny-imagenet-200/valid',\n",
        "        target_size=target_size,\n",
        "        batch_size=batch_size,\n",
        "        shuffle=False,\n",
        "        class_mode='categorical')"
      ],
      "metadata": {
        "colab": {
          "base_uri": "https://localhost:8080/"
        },
        "id": "BZUmJ6KUCk4c",
        "outputId": "104a2053-9e0f-4bd6-b670-b5fa5177d088"
      },
      "execution_count": null,
      "outputs": [
        {
          "output_type": "stream",
          "name": "stdout",
          "text": [
            "Found 100000 images belonging to 200 classes.\n",
            "Found 10000 images belonging to 200 classes.\n"
          ]
        }
      ]
    },
    {
      "cell_type": "markdown",
      "source": [
        "**Resnet without transfer learning**"
      ],
      "metadata": {
        "id": "d4ZvmtcVkZCn"
      }
    },
    {
      "cell_type": "code",
      "source": [
        "feature_extractor_Resnet = tf.keras.applications.resnet50.ResNet50(weights=None\n",
        "                                      , input_shape=(85, 85, 3) ,include_top=False)\n",
        "feature_extractor_Resnet.summary()"
      ],
      "metadata": {
        "colab": {
          "base_uri": "https://localhost:8080/"
        },
        "id": "Q8UgZWD0kZCo",
        "outputId": "fd5d337f-00fd-4592-e35a-ab808d92624b"
      },
      "execution_count": null,
      "outputs": [
        {
          "output_type": "stream",
          "name": "stdout",
          "text": [
            "Model: \"resnet50\"\n",
            "__________________________________________________________________________________________________\n",
            " Layer (type)                   Output Shape         Param #     Connected to                     \n",
            "==================================================================================================\n",
            " input_4 (InputLayer)           [(None, 85, 85, 3)]  0           []                               \n",
            "                                                                                                  \n",
            " conv1_pad (ZeroPadding2D)      (None, 91, 91, 3)    0           ['input_4[0][0]']                \n",
            "                                                                                                  \n",
            " conv1_conv (Conv2D)            (None, 43, 43, 64)   9472        ['conv1_pad[0][0]']              \n",
            "                                                                                                  \n",
            " conv1_bn (BatchNormalization)  (None, 43, 43, 64)   256         ['conv1_conv[0][0]']             \n",
            "                                                                                                  \n",
            " conv1_relu (Activation)        (None, 43, 43, 64)   0           ['conv1_bn[0][0]']               \n",
            "                                                                                                  \n",
            " pool1_pad (ZeroPadding2D)      (None, 45, 45, 64)   0           ['conv1_relu[0][0]']             \n",
            "                                                                                                  \n",
            " pool1_pool (MaxPooling2D)      (None, 22, 22, 64)   0           ['pool1_pad[0][0]']              \n",
            "                                                                                                  \n",
            " conv2_block1_1_conv (Conv2D)   (None, 22, 22, 64)   4160        ['pool1_pool[0][0]']             \n",
            "                                                                                                  \n",
            " conv2_block1_1_bn (BatchNormal  (None, 22, 22, 64)  256         ['conv2_block1_1_conv[0][0]']    \n",
            " ization)                                                                                         \n",
            "                                                                                                  \n",
            " conv2_block1_1_relu (Activatio  (None, 22, 22, 64)  0           ['conv2_block1_1_bn[0][0]']      \n",
            " n)                                                                                               \n",
            "                                                                                                  \n",
            " conv2_block1_2_conv (Conv2D)   (None, 22, 22, 64)   36928       ['conv2_block1_1_relu[0][0]']    \n",
            "                                                                                                  \n",
            " conv2_block1_2_bn (BatchNormal  (None, 22, 22, 64)  256         ['conv2_block1_2_conv[0][0]']    \n",
            " ization)                                                                                         \n",
            "                                                                                                  \n",
            " conv2_block1_2_relu (Activatio  (None, 22, 22, 64)  0           ['conv2_block1_2_bn[0][0]']      \n",
            " n)                                                                                               \n",
            "                                                                                                  \n",
            " conv2_block1_0_conv (Conv2D)   (None, 22, 22, 256)  16640       ['pool1_pool[0][0]']             \n",
            "                                                                                                  \n",
            " conv2_block1_3_conv (Conv2D)   (None, 22, 22, 256)  16640       ['conv2_block1_2_relu[0][0]']    \n",
            "                                                                                                  \n",
            " conv2_block1_0_bn (BatchNormal  (None, 22, 22, 256)  1024       ['conv2_block1_0_conv[0][0]']    \n",
            " ization)                                                                                         \n",
            "                                                                                                  \n",
            " conv2_block1_3_bn (BatchNormal  (None, 22, 22, 256)  1024       ['conv2_block1_3_conv[0][0]']    \n",
            " ization)                                                                                         \n",
            "                                                                                                  \n",
            " conv2_block1_add (Add)         (None, 22, 22, 256)  0           ['conv2_block1_0_bn[0][0]',      \n",
            "                                                                  'conv2_block1_3_bn[0][0]']      \n",
            "                                                                                                  \n",
            " conv2_block1_out (Activation)  (None, 22, 22, 256)  0           ['conv2_block1_add[0][0]']       \n",
            "                                                                                                  \n",
            " conv2_block2_1_conv (Conv2D)   (None, 22, 22, 64)   16448       ['conv2_block1_out[0][0]']       \n",
            "                                                                                                  \n",
            " conv2_block2_1_bn (BatchNormal  (None, 22, 22, 64)  256         ['conv2_block2_1_conv[0][0]']    \n",
            " ization)                                                                                         \n",
            "                                                                                                  \n",
            " conv2_block2_1_relu (Activatio  (None, 22, 22, 64)  0           ['conv2_block2_1_bn[0][0]']      \n",
            " n)                                                                                               \n",
            "                                                                                                  \n",
            " conv2_block2_2_conv (Conv2D)   (None, 22, 22, 64)   36928       ['conv2_block2_1_relu[0][0]']    \n",
            "                                                                                                  \n",
            " conv2_block2_2_bn (BatchNormal  (None, 22, 22, 64)  256         ['conv2_block2_2_conv[0][0]']    \n",
            " ization)                                                                                         \n",
            "                                                                                                  \n",
            " conv2_block2_2_relu (Activatio  (None, 22, 22, 64)  0           ['conv2_block2_2_bn[0][0]']      \n",
            " n)                                                                                               \n",
            "                                                                                                  \n",
            " conv2_block2_3_conv (Conv2D)   (None, 22, 22, 256)  16640       ['conv2_block2_2_relu[0][0]']    \n",
            "                                                                                                  \n",
            " conv2_block2_3_bn (BatchNormal  (None, 22, 22, 256)  1024       ['conv2_block2_3_conv[0][0]']    \n",
            " ization)                                                                                         \n",
            "                                                                                                  \n",
            " conv2_block2_add (Add)         (None, 22, 22, 256)  0           ['conv2_block1_out[0][0]',       \n",
            "                                                                  'conv2_block2_3_bn[0][0]']      \n",
            "                                                                                                  \n",
            " conv2_block2_out (Activation)  (None, 22, 22, 256)  0           ['conv2_block2_add[0][0]']       \n",
            "                                                                                                  \n",
            " conv2_block3_1_conv (Conv2D)   (None, 22, 22, 64)   16448       ['conv2_block2_out[0][0]']       \n",
            "                                                                                                  \n",
            " conv2_block3_1_bn (BatchNormal  (None, 22, 22, 64)  256         ['conv2_block3_1_conv[0][0]']    \n",
            " ization)                                                                                         \n",
            "                                                                                                  \n",
            " conv2_block3_1_relu (Activatio  (None, 22, 22, 64)  0           ['conv2_block3_1_bn[0][0]']      \n",
            " n)                                                                                               \n",
            "                                                                                                  \n",
            " conv2_block3_2_conv (Conv2D)   (None, 22, 22, 64)   36928       ['conv2_block3_1_relu[0][0]']    \n",
            "                                                                                                  \n",
            " conv2_block3_2_bn (BatchNormal  (None, 22, 22, 64)  256         ['conv2_block3_2_conv[0][0]']    \n",
            " ization)                                                                                         \n",
            "                                                                                                  \n",
            " conv2_block3_2_relu (Activatio  (None, 22, 22, 64)  0           ['conv2_block3_2_bn[0][0]']      \n",
            " n)                                                                                               \n",
            "                                                                                                  \n",
            " conv2_block3_3_conv (Conv2D)   (None, 22, 22, 256)  16640       ['conv2_block3_2_relu[0][0]']    \n",
            "                                                                                                  \n",
            " conv2_block3_3_bn (BatchNormal  (None, 22, 22, 256)  1024       ['conv2_block3_3_conv[0][0]']    \n",
            " ization)                                                                                         \n",
            "                                                                                                  \n",
            " conv2_block3_add (Add)         (None, 22, 22, 256)  0           ['conv2_block2_out[0][0]',       \n",
            "                                                                  'conv2_block3_3_bn[0][0]']      \n",
            "                                                                                                  \n",
            " conv2_block3_out (Activation)  (None, 22, 22, 256)  0           ['conv2_block3_add[0][0]']       \n",
            "                                                                                                  \n",
            " conv3_block1_1_conv (Conv2D)   (None, 11, 11, 128)  32896       ['conv2_block3_out[0][0]']       \n",
            "                                                                                                  \n",
            " conv3_block1_1_bn (BatchNormal  (None, 11, 11, 128)  512        ['conv3_block1_1_conv[0][0]']    \n",
            " ization)                                                                                         \n",
            "                                                                                                  \n",
            " conv3_block1_1_relu (Activatio  (None, 11, 11, 128)  0          ['conv3_block1_1_bn[0][0]']      \n",
            " n)                                                                                               \n",
            "                                                                                                  \n",
            " conv3_block1_2_conv (Conv2D)   (None, 11, 11, 128)  147584      ['conv3_block1_1_relu[0][0]']    \n",
            "                                                                                                  \n",
            " conv3_block1_2_bn (BatchNormal  (None, 11, 11, 128)  512        ['conv3_block1_2_conv[0][0]']    \n",
            " ization)                                                                                         \n",
            "                                                                                                  \n",
            " conv3_block1_2_relu (Activatio  (None, 11, 11, 128)  0          ['conv3_block1_2_bn[0][0]']      \n",
            " n)                                                                                               \n",
            "                                                                                                  \n",
            " conv3_block1_0_conv (Conv2D)   (None, 11, 11, 512)  131584      ['conv2_block3_out[0][0]']       \n",
            "                                                                                                  \n",
            " conv3_block1_3_conv (Conv2D)   (None, 11, 11, 512)  66048       ['conv3_block1_2_relu[0][0]']    \n",
            "                                                                                                  \n",
            " conv3_block1_0_bn (BatchNormal  (None, 11, 11, 512)  2048       ['conv3_block1_0_conv[0][0]']    \n",
            " ization)                                                                                         \n",
            "                                                                                                  \n",
            " conv3_block1_3_bn (BatchNormal  (None, 11, 11, 512)  2048       ['conv3_block1_3_conv[0][0]']    \n",
            " ization)                                                                                         \n",
            "                                                                                                  \n",
            " conv3_block1_add (Add)         (None, 11, 11, 512)  0           ['conv3_block1_0_bn[0][0]',      \n",
            "                                                                  'conv3_block1_3_bn[0][0]']      \n",
            "                                                                                                  \n",
            " conv3_block1_out (Activation)  (None, 11, 11, 512)  0           ['conv3_block1_add[0][0]']       \n",
            "                                                                                                  \n",
            " conv3_block2_1_conv (Conv2D)   (None, 11, 11, 128)  65664       ['conv3_block1_out[0][0]']       \n",
            "                                                                                                  \n",
            " conv3_block2_1_bn (BatchNormal  (None, 11, 11, 128)  512        ['conv3_block2_1_conv[0][0]']    \n",
            " ization)                                                                                         \n",
            "                                                                                                  \n",
            " conv3_block2_1_relu (Activatio  (None, 11, 11, 128)  0          ['conv3_block2_1_bn[0][0]']      \n",
            " n)                                                                                               \n",
            "                                                                                                  \n",
            " conv3_block2_2_conv (Conv2D)   (None, 11, 11, 128)  147584      ['conv3_block2_1_relu[0][0]']    \n",
            "                                                                                                  \n",
            " conv3_block2_2_bn (BatchNormal  (None, 11, 11, 128)  512        ['conv3_block2_2_conv[0][0]']    \n",
            " ization)                                                                                         \n",
            "                                                                                                  \n",
            " conv3_block2_2_relu (Activatio  (None, 11, 11, 128)  0          ['conv3_block2_2_bn[0][0]']      \n",
            " n)                                                                                               \n",
            "                                                                                                  \n",
            " conv3_block2_3_conv (Conv2D)   (None, 11, 11, 512)  66048       ['conv3_block2_2_relu[0][0]']    \n",
            "                                                                                                  \n",
            " conv3_block2_3_bn (BatchNormal  (None, 11, 11, 512)  2048       ['conv3_block2_3_conv[0][0]']    \n",
            " ization)                                                                                         \n",
            "                                                                                                  \n",
            " conv3_block2_add (Add)         (None, 11, 11, 512)  0           ['conv3_block1_out[0][0]',       \n",
            "                                                                  'conv3_block2_3_bn[0][0]']      \n",
            "                                                                                                  \n",
            " conv3_block2_out (Activation)  (None, 11, 11, 512)  0           ['conv3_block2_add[0][0]']       \n",
            "                                                                                                  \n",
            " conv3_block3_1_conv (Conv2D)   (None, 11, 11, 128)  65664       ['conv3_block2_out[0][0]']       \n",
            "                                                                                                  \n",
            " conv3_block3_1_bn (BatchNormal  (None, 11, 11, 128)  512        ['conv3_block3_1_conv[0][0]']    \n",
            " ization)                                                                                         \n",
            "                                                                                                  \n",
            " conv3_block3_1_relu (Activatio  (None, 11, 11, 128)  0          ['conv3_block3_1_bn[0][0]']      \n",
            " n)                                                                                               \n",
            "                                                                                                  \n",
            " conv3_block3_2_conv (Conv2D)   (None, 11, 11, 128)  147584      ['conv3_block3_1_relu[0][0]']    \n",
            "                                                                                                  \n",
            " conv3_block3_2_bn (BatchNormal  (None, 11, 11, 128)  512        ['conv3_block3_2_conv[0][0]']    \n",
            " ization)                                                                                         \n",
            "                                                                                                  \n",
            " conv3_block3_2_relu (Activatio  (None, 11, 11, 128)  0          ['conv3_block3_2_bn[0][0]']      \n",
            " n)                                                                                               \n",
            "                                                                                                  \n",
            " conv3_block3_3_conv (Conv2D)   (None, 11, 11, 512)  66048       ['conv3_block3_2_relu[0][0]']    \n",
            "                                                                                                  \n",
            " conv3_block3_3_bn (BatchNormal  (None, 11, 11, 512)  2048       ['conv3_block3_3_conv[0][0]']    \n",
            " ization)                                                                                         \n",
            "                                                                                                  \n",
            " conv3_block3_add (Add)         (None, 11, 11, 512)  0           ['conv3_block2_out[0][0]',       \n",
            "                                                                  'conv3_block3_3_bn[0][0]']      \n",
            "                                                                                                  \n",
            " conv3_block3_out (Activation)  (None, 11, 11, 512)  0           ['conv3_block3_add[0][0]']       \n",
            "                                                                                                  \n",
            " conv3_block4_1_conv (Conv2D)   (None, 11, 11, 128)  65664       ['conv3_block3_out[0][0]']       \n",
            "                                                                                                  \n",
            " conv3_block4_1_bn (BatchNormal  (None, 11, 11, 128)  512        ['conv3_block4_1_conv[0][0]']    \n",
            " ization)                                                                                         \n",
            "                                                                                                  \n",
            " conv3_block4_1_relu (Activatio  (None, 11, 11, 128)  0          ['conv3_block4_1_bn[0][0]']      \n",
            " n)                                                                                               \n",
            "                                                                                                  \n",
            " conv3_block4_2_conv (Conv2D)   (None, 11, 11, 128)  147584      ['conv3_block4_1_relu[0][0]']    \n",
            "                                                                                                  \n",
            " conv3_block4_2_bn (BatchNormal  (None, 11, 11, 128)  512        ['conv3_block4_2_conv[0][0]']    \n",
            " ization)                                                                                         \n",
            "                                                                                                  \n",
            " conv3_block4_2_relu (Activatio  (None, 11, 11, 128)  0          ['conv3_block4_2_bn[0][0]']      \n",
            " n)                                                                                               \n",
            "                                                                                                  \n",
            " conv3_block4_3_conv (Conv2D)   (None, 11, 11, 512)  66048       ['conv3_block4_2_relu[0][0]']    \n",
            "                                                                                                  \n",
            " conv3_block4_3_bn (BatchNormal  (None, 11, 11, 512)  2048       ['conv3_block4_3_conv[0][0]']    \n",
            " ization)                                                                                         \n",
            "                                                                                                  \n",
            " conv3_block4_add (Add)         (None, 11, 11, 512)  0           ['conv3_block3_out[0][0]',       \n",
            "                                                                  'conv3_block4_3_bn[0][0]']      \n",
            "                                                                                                  \n",
            " conv3_block4_out (Activation)  (None, 11, 11, 512)  0           ['conv3_block4_add[0][0]']       \n",
            "                                                                                                  \n",
            " conv4_block1_1_conv (Conv2D)   (None, 6, 6, 256)    131328      ['conv3_block4_out[0][0]']       \n",
            "                                                                                                  \n",
            " conv4_block1_1_bn (BatchNormal  (None, 6, 6, 256)   1024        ['conv4_block1_1_conv[0][0]']    \n",
            " ization)                                                                                         \n",
            "                                                                                                  \n",
            " conv4_block1_1_relu (Activatio  (None, 6, 6, 256)   0           ['conv4_block1_1_bn[0][0]']      \n",
            " n)                                                                                               \n",
            "                                                                                                  \n",
            " conv4_block1_2_conv (Conv2D)   (None, 6, 6, 256)    590080      ['conv4_block1_1_relu[0][0]']    \n",
            "                                                                                                  \n",
            " conv4_block1_2_bn (BatchNormal  (None, 6, 6, 256)   1024        ['conv4_block1_2_conv[0][0]']    \n",
            " ization)                                                                                         \n",
            "                                                                                                  \n",
            " conv4_block1_2_relu (Activatio  (None, 6, 6, 256)   0           ['conv4_block1_2_bn[0][0]']      \n",
            " n)                                                                                               \n",
            "                                                                                                  \n",
            " conv4_block1_0_conv (Conv2D)   (None, 6, 6, 1024)   525312      ['conv3_block4_out[0][0]']       \n",
            "                                                                                                  \n",
            " conv4_block1_3_conv (Conv2D)   (None, 6, 6, 1024)   263168      ['conv4_block1_2_relu[0][0]']    \n",
            "                                                                                                  \n",
            " conv4_block1_0_bn (BatchNormal  (None, 6, 6, 1024)  4096        ['conv4_block1_0_conv[0][0]']    \n",
            " ization)                                                                                         \n",
            "                                                                                                  \n",
            " conv4_block1_3_bn (BatchNormal  (None, 6, 6, 1024)  4096        ['conv4_block1_3_conv[0][0]']    \n",
            " ization)                                                                                         \n",
            "                                                                                                  \n",
            " conv4_block1_add (Add)         (None, 6, 6, 1024)   0           ['conv4_block1_0_bn[0][0]',      \n",
            "                                                                  'conv4_block1_3_bn[0][0]']      \n",
            "                                                                                                  \n",
            " conv4_block1_out (Activation)  (None, 6, 6, 1024)   0           ['conv4_block1_add[0][0]']       \n",
            "                                                                                                  \n",
            " conv4_block2_1_conv (Conv2D)   (None, 6, 6, 256)    262400      ['conv4_block1_out[0][0]']       \n",
            "                                                                                                  \n",
            " conv4_block2_1_bn (BatchNormal  (None, 6, 6, 256)   1024        ['conv4_block2_1_conv[0][0]']    \n",
            " ization)                                                                                         \n",
            "                                                                                                  \n",
            " conv4_block2_1_relu (Activatio  (None, 6, 6, 256)   0           ['conv4_block2_1_bn[0][0]']      \n",
            " n)                                                                                               \n",
            "                                                                                                  \n",
            " conv4_block2_2_conv (Conv2D)   (None, 6, 6, 256)    590080      ['conv4_block2_1_relu[0][0]']    \n",
            "                                                                                                  \n",
            " conv4_block2_2_bn (BatchNormal  (None, 6, 6, 256)   1024        ['conv4_block2_2_conv[0][0]']    \n",
            " ization)                                                                                         \n",
            "                                                                                                  \n",
            " conv4_block2_2_relu (Activatio  (None, 6, 6, 256)   0           ['conv4_block2_2_bn[0][0]']      \n",
            " n)                                                                                               \n",
            "                                                                                                  \n",
            " conv4_block2_3_conv (Conv2D)   (None, 6, 6, 1024)   263168      ['conv4_block2_2_relu[0][0]']    \n",
            "                                                                                                  \n",
            " conv4_block2_3_bn (BatchNormal  (None, 6, 6, 1024)  4096        ['conv4_block2_3_conv[0][0]']    \n",
            " ization)                                                                                         \n",
            "                                                                                                  \n",
            " conv4_block2_add (Add)         (None, 6, 6, 1024)   0           ['conv4_block1_out[0][0]',       \n",
            "                                                                  'conv4_block2_3_bn[0][0]']      \n",
            "                                                                                                  \n",
            " conv4_block2_out (Activation)  (None, 6, 6, 1024)   0           ['conv4_block2_add[0][0]']       \n",
            "                                                                                                  \n",
            " conv4_block3_1_conv (Conv2D)   (None, 6, 6, 256)    262400      ['conv4_block2_out[0][0]']       \n",
            "                                                                                                  \n",
            " conv4_block3_1_bn (BatchNormal  (None, 6, 6, 256)   1024        ['conv4_block3_1_conv[0][0]']    \n",
            " ization)                                                                                         \n",
            "                                                                                                  \n",
            " conv4_block3_1_relu (Activatio  (None, 6, 6, 256)   0           ['conv4_block3_1_bn[0][0]']      \n",
            " n)                                                                                               \n",
            "                                                                                                  \n",
            " conv4_block3_2_conv (Conv2D)   (None, 6, 6, 256)    590080      ['conv4_block3_1_relu[0][0]']    \n",
            "                                                                                                  \n",
            " conv4_block3_2_bn (BatchNormal  (None, 6, 6, 256)   1024        ['conv4_block3_2_conv[0][0]']    \n",
            " ization)                                                                                         \n",
            "                                                                                                  \n",
            " conv4_block3_2_relu (Activatio  (None, 6, 6, 256)   0           ['conv4_block3_2_bn[0][0]']      \n",
            " n)                                                                                               \n",
            "                                                                                                  \n",
            " conv4_block3_3_conv (Conv2D)   (None, 6, 6, 1024)   263168      ['conv4_block3_2_relu[0][0]']    \n",
            "                                                                                                  \n",
            " conv4_block3_3_bn (BatchNormal  (None, 6, 6, 1024)  4096        ['conv4_block3_3_conv[0][0]']    \n",
            " ization)                                                                                         \n",
            "                                                                                                  \n",
            " conv4_block3_add (Add)         (None, 6, 6, 1024)   0           ['conv4_block2_out[0][0]',       \n",
            "                                                                  'conv4_block3_3_bn[0][0]']      \n",
            "                                                                                                  \n",
            " conv4_block3_out (Activation)  (None, 6, 6, 1024)   0           ['conv4_block3_add[0][0]']       \n",
            "                                                                                                  \n",
            " conv4_block4_1_conv (Conv2D)   (None, 6, 6, 256)    262400      ['conv4_block3_out[0][0]']       \n",
            "                                                                                                  \n",
            " conv4_block4_1_bn (BatchNormal  (None, 6, 6, 256)   1024        ['conv4_block4_1_conv[0][0]']    \n",
            " ization)                                                                                         \n",
            "                                                                                                  \n",
            " conv4_block4_1_relu (Activatio  (None, 6, 6, 256)   0           ['conv4_block4_1_bn[0][0]']      \n",
            " n)                                                                                               \n",
            "                                                                                                  \n",
            " conv4_block4_2_conv (Conv2D)   (None, 6, 6, 256)    590080      ['conv4_block4_1_relu[0][0]']    \n",
            "                                                                                                  \n",
            " conv4_block4_2_bn (BatchNormal  (None, 6, 6, 256)   1024        ['conv4_block4_2_conv[0][0]']    \n",
            " ization)                                                                                         \n",
            "                                                                                                  \n",
            " conv4_block4_2_relu (Activatio  (None, 6, 6, 256)   0           ['conv4_block4_2_bn[0][0]']      \n",
            " n)                                                                                               \n",
            "                                                                                                  \n",
            " conv4_block4_3_conv (Conv2D)   (None, 6, 6, 1024)   263168      ['conv4_block4_2_relu[0][0]']    \n",
            "                                                                                                  \n",
            " conv4_block4_3_bn (BatchNormal  (None, 6, 6, 1024)  4096        ['conv4_block4_3_conv[0][0]']    \n",
            " ization)                                                                                         \n",
            "                                                                                                  \n",
            " conv4_block4_add (Add)         (None, 6, 6, 1024)   0           ['conv4_block3_out[0][0]',       \n",
            "                                                                  'conv4_block4_3_bn[0][0]']      \n",
            "                                                                                                  \n",
            " conv4_block4_out (Activation)  (None, 6, 6, 1024)   0           ['conv4_block4_add[0][0]']       \n",
            "                                                                                                  \n",
            " conv4_block5_1_conv (Conv2D)   (None, 6, 6, 256)    262400      ['conv4_block4_out[0][0]']       \n",
            "                                                                                                  \n",
            " conv4_block5_1_bn (BatchNormal  (None, 6, 6, 256)   1024        ['conv4_block5_1_conv[0][0]']    \n",
            " ization)                                                                                         \n",
            "                                                                                                  \n",
            " conv4_block5_1_relu (Activatio  (None, 6, 6, 256)   0           ['conv4_block5_1_bn[0][0]']      \n",
            " n)                                                                                               \n",
            "                                                                                                  \n",
            " conv4_block5_2_conv (Conv2D)   (None, 6, 6, 256)    590080      ['conv4_block5_1_relu[0][0]']    \n",
            "                                                                                                  \n",
            " conv4_block5_2_bn (BatchNormal  (None, 6, 6, 256)   1024        ['conv4_block5_2_conv[0][0]']    \n",
            " ization)                                                                                         \n",
            "                                                                                                  \n",
            " conv4_block5_2_relu (Activatio  (None, 6, 6, 256)   0           ['conv4_block5_2_bn[0][0]']      \n",
            " n)                                                                                               \n",
            "                                                                                                  \n",
            " conv4_block5_3_conv (Conv2D)   (None, 6, 6, 1024)   263168      ['conv4_block5_2_relu[0][0]']    \n",
            "                                                                                                  \n",
            " conv4_block5_3_bn (BatchNormal  (None, 6, 6, 1024)  4096        ['conv4_block5_3_conv[0][0]']    \n",
            " ization)                                                                                         \n",
            "                                                                                                  \n",
            " conv4_block5_add (Add)         (None, 6, 6, 1024)   0           ['conv4_block4_out[0][0]',       \n",
            "                                                                  'conv4_block5_3_bn[0][0]']      \n",
            "                                                                                                  \n",
            " conv4_block5_out (Activation)  (None, 6, 6, 1024)   0           ['conv4_block5_add[0][0]']       \n",
            "                                                                                                  \n",
            " conv4_block6_1_conv (Conv2D)   (None, 6, 6, 256)    262400      ['conv4_block5_out[0][0]']       \n",
            "                                                                                                  \n",
            " conv4_block6_1_bn (BatchNormal  (None, 6, 6, 256)   1024        ['conv4_block6_1_conv[0][0]']    \n",
            " ization)                                                                                         \n",
            "                                                                                                  \n",
            " conv4_block6_1_relu (Activatio  (None, 6, 6, 256)   0           ['conv4_block6_1_bn[0][0]']      \n",
            " n)                                                                                               \n",
            "                                                                                                  \n",
            " conv4_block6_2_conv (Conv2D)   (None, 6, 6, 256)    590080      ['conv4_block6_1_relu[0][0]']    \n",
            "                                                                                                  \n",
            " conv4_block6_2_bn (BatchNormal  (None, 6, 6, 256)   1024        ['conv4_block6_2_conv[0][0]']    \n",
            " ization)                                                                                         \n",
            "                                                                                                  \n",
            " conv4_block6_2_relu (Activatio  (None, 6, 6, 256)   0           ['conv4_block6_2_bn[0][0]']      \n",
            " n)                                                                                               \n",
            "                                                                                                  \n",
            " conv4_block6_3_conv (Conv2D)   (None, 6, 6, 1024)   263168      ['conv4_block6_2_relu[0][0]']    \n",
            "                                                                                                  \n",
            " conv4_block6_3_bn (BatchNormal  (None, 6, 6, 1024)  4096        ['conv4_block6_3_conv[0][0]']    \n",
            " ization)                                                                                         \n",
            "                                                                                                  \n",
            " conv4_block6_add (Add)         (None, 6, 6, 1024)   0           ['conv4_block5_out[0][0]',       \n",
            "                                                                  'conv4_block6_3_bn[0][0]']      \n",
            "                                                                                                  \n",
            " conv4_block6_out (Activation)  (None, 6, 6, 1024)   0           ['conv4_block6_add[0][0]']       \n",
            "                                                                                                  \n",
            " conv5_block1_1_conv (Conv2D)   (None, 3, 3, 512)    524800      ['conv4_block6_out[0][0]']       \n",
            "                                                                                                  \n",
            " conv5_block1_1_bn (BatchNormal  (None, 3, 3, 512)   2048        ['conv5_block1_1_conv[0][0]']    \n",
            " ization)                                                                                         \n",
            "                                                                                                  \n",
            " conv5_block1_1_relu (Activatio  (None, 3, 3, 512)   0           ['conv5_block1_1_bn[0][0]']      \n",
            " n)                                                                                               \n",
            "                                                                                                  \n",
            " conv5_block1_2_conv (Conv2D)   (None, 3, 3, 512)    2359808     ['conv5_block1_1_relu[0][0]']    \n",
            "                                                                                                  \n",
            " conv5_block1_2_bn (BatchNormal  (None, 3, 3, 512)   2048        ['conv5_block1_2_conv[0][0]']    \n",
            " ization)                                                                                         \n",
            "                                                                                                  \n",
            " conv5_block1_2_relu (Activatio  (None, 3, 3, 512)   0           ['conv5_block1_2_bn[0][0]']      \n",
            " n)                                                                                               \n",
            "                                                                                                  \n",
            " conv5_block1_0_conv (Conv2D)   (None, 3, 3, 2048)   2099200     ['conv4_block6_out[0][0]']       \n",
            "                                                                                                  \n",
            " conv5_block1_3_conv (Conv2D)   (None, 3, 3, 2048)   1050624     ['conv5_block1_2_relu[0][0]']    \n",
            "                                                                                                  \n",
            " conv5_block1_0_bn (BatchNormal  (None, 3, 3, 2048)  8192        ['conv5_block1_0_conv[0][0]']    \n",
            " ization)                                                                                         \n",
            "                                                                                                  \n",
            " conv5_block1_3_bn (BatchNormal  (None, 3, 3, 2048)  8192        ['conv5_block1_3_conv[0][0]']    \n",
            " ization)                                                                                         \n",
            "                                                                                                  \n",
            " conv5_block1_add (Add)         (None, 3, 3, 2048)   0           ['conv5_block1_0_bn[0][0]',      \n",
            "                                                                  'conv5_block1_3_bn[0][0]']      \n",
            "                                                                                                  \n",
            " conv5_block1_out (Activation)  (None, 3, 3, 2048)   0           ['conv5_block1_add[0][0]']       \n",
            "                                                                                                  \n",
            " conv5_block2_1_conv (Conv2D)   (None, 3, 3, 512)    1049088     ['conv5_block1_out[0][0]']       \n",
            "                                                                                                  \n",
            " conv5_block2_1_bn (BatchNormal  (None, 3, 3, 512)   2048        ['conv5_block2_1_conv[0][0]']    \n",
            " ization)                                                                                         \n",
            "                                                                                                  \n",
            " conv5_block2_1_relu (Activatio  (None, 3, 3, 512)   0           ['conv5_block2_1_bn[0][0]']      \n",
            " n)                                                                                               \n",
            "                                                                                                  \n",
            " conv5_block2_2_conv (Conv2D)   (None, 3, 3, 512)    2359808     ['conv5_block2_1_relu[0][0]']    \n",
            "                                                                                                  \n",
            " conv5_block2_2_bn (BatchNormal  (None, 3, 3, 512)   2048        ['conv5_block2_2_conv[0][0]']    \n",
            " ization)                                                                                         \n",
            "                                                                                                  \n",
            " conv5_block2_2_relu (Activatio  (None, 3, 3, 512)   0           ['conv5_block2_2_bn[0][0]']      \n",
            " n)                                                                                               \n",
            "                                                                                                  \n",
            " conv5_block2_3_conv (Conv2D)   (None, 3, 3, 2048)   1050624     ['conv5_block2_2_relu[0][0]']    \n",
            "                                                                                                  \n",
            " conv5_block2_3_bn (BatchNormal  (None, 3, 3, 2048)  8192        ['conv5_block2_3_conv[0][0]']    \n",
            " ization)                                                                                         \n",
            "                                                                                                  \n",
            " conv5_block2_add (Add)         (None, 3, 3, 2048)   0           ['conv5_block1_out[0][0]',       \n",
            "                                                                  'conv5_block2_3_bn[0][0]']      \n",
            "                                                                                                  \n",
            " conv5_block2_out (Activation)  (None, 3, 3, 2048)   0           ['conv5_block2_add[0][0]']       \n",
            "                                                                                                  \n",
            " conv5_block3_1_conv (Conv2D)   (None, 3, 3, 512)    1049088     ['conv5_block2_out[0][0]']       \n",
            "                                                                                                  \n",
            " conv5_block3_1_bn (BatchNormal  (None, 3, 3, 512)   2048        ['conv5_block3_1_conv[0][0]']    \n",
            " ization)                                                                                         \n",
            "                                                                                                  \n",
            " conv5_block3_1_relu (Activatio  (None, 3, 3, 512)   0           ['conv5_block3_1_bn[0][0]']      \n",
            " n)                                                                                               \n",
            "                                                                                                  \n",
            " conv5_block3_2_conv (Conv2D)   (None, 3, 3, 512)    2359808     ['conv5_block3_1_relu[0][0]']    \n",
            "                                                                                                  \n",
            " conv5_block3_2_bn (BatchNormal  (None, 3, 3, 512)   2048        ['conv5_block3_2_conv[0][0]']    \n",
            " ization)                                                                                         \n",
            "                                                                                                  \n",
            " conv5_block3_2_relu (Activatio  (None, 3, 3, 512)   0           ['conv5_block3_2_bn[0][0]']      \n",
            " n)                                                                                               \n",
            "                                                                                                  \n",
            " conv5_block3_3_conv (Conv2D)   (None, 3, 3, 2048)   1050624     ['conv5_block3_2_relu[0][0]']    \n",
            "                                                                                                  \n",
            " conv5_block3_3_bn (BatchNormal  (None, 3, 3, 2048)  8192        ['conv5_block3_3_conv[0][0]']    \n",
            " ization)                                                                                         \n",
            "                                                                                                  \n",
            " conv5_block3_add (Add)         (None, 3, 3, 2048)   0           ['conv5_block2_out[0][0]',       \n",
            "                                                                  'conv5_block3_3_bn[0][0]']      \n",
            "                                                                                                  \n",
            " conv5_block3_out (Activation)  (None, 3, 3, 2048)   0           ['conv5_block3_add[0][0]']       \n",
            "                                                                                                  \n",
            "==================================================================================================\n",
            "Total params: 23,587,712\n",
            "Trainable params: 23,534,592\n",
            "Non-trainable params: 53,120\n",
            "__________________________________________________________________________________________________\n"
          ]
        }
      ]
    },
    {
      "cell_type": "code",
      "source": [
        "inp_layer = Input(shape = (85, 85, 3))\n",
        "features = feature_extractor_Resnet(inp_layer)\n",
        "flat = Flatten()(features)\n",
        "output = Dense(units = 200, activation = 'softmax')(flat)\n",
        "\n",
        "model = Model(inputs = inp_layer, outputs = output)\n",
        "\n",
        "model.summary()"
      ],
      "metadata": {
        "colab": {
          "base_uri": "https://localhost:8080/"
        },
        "id": "zGVp-VxlkZCo",
        "outputId": "f41edd82-b5c3-4add-d523-e818c2c3c994"
      },
      "execution_count": null,
      "outputs": [
        {
          "output_type": "stream",
          "name": "stdout",
          "text": [
            "Model: \"model_2\"\n",
            "_________________________________________________________________\n",
            " Layer (type)                Output Shape              Param #   \n",
            "=================================================================\n",
            " input_5 (InputLayer)        [(None, 85, 85, 3)]       0         \n",
            "                                                                 \n",
            " resnet50 (Functional)       (None, 3, 3, 2048)        23587712  \n",
            "                                                                 \n",
            " flatten_2 (Flatten)         (None, 18432)             0         \n",
            "                                                                 \n",
            " dense_2 (Dense)             (None, 200)               3686600   \n",
            "                                                                 \n",
            "=================================================================\n",
            "Total params: 27,274,312\n",
            "Trainable params: 27,221,192\n",
            "Non-trainable params: 53,120\n",
            "_________________________________________________________________\n"
          ]
        }
      ]
    },
    {
      "cell_type": "code",
      "source": [
        "from tensorflow.keras.losses import categorical_crossentropy\n",
        "from tensorflow.keras.optimizers import Adam\n",
        "\n",
        "opt = Adam(learning_rate = 0.001)\n",
        "BCE = categorical_crossentropy\n",
        "model.compile(optimizer = opt, loss=BCE, metrics = 'acc')"
      ],
      "metadata": {
        "id": "Z0RKyeY_kZCo"
      },
      "execution_count": null,
      "outputs": []
    },
    {
      "cell_type": "code",
      "source": [
        "results = model.fit(train_generator,\n",
        "                    epochs = 10,\n",
        "                    validation_data=validation_generator)"
      ],
      "metadata": {
        "colab": {
          "base_uri": "https://localhost:8080/"
        },
        "id": "ChiyyESskZCo",
        "outputId": "186a7d37-4825-4b5c-a03a-85be7aa11026"
      },
      "execution_count": null,
      "outputs": [
        {
          "output_type": "stream",
          "name": "stdout",
          "text": [
            "Epoch 1/10\n",
            "782/782 [==============================] - 234s 290ms/step - loss: 5.2717 - acc: 0.0552 - val_loss: 4.5103 - val_acc: 0.0898\n",
            "Epoch 2/10\n",
            "782/782 [==============================] - 225s 288ms/step - loss: 3.8576 - acc: 0.1666 - val_loss: 5.9357 - val_acc: 0.1308\n",
            "Epoch 3/10\n",
            "782/782 [==============================] - 225s 288ms/step - loss: 3.3114 - acc: 0.2527 - val_loss: 4.2761 - val_acc: 0.1860\n",
            "Epoch 4/10\n",
            "782/782 [==============================] - 225s 288ms/step - loss: 2.9036 - acc: 0.3250 - val_loss: 3.9582 - val_acc: 0.1962\n",
            "Epoch 5/10\n",
            "782/782 [==============================] - 226s 288ms/step - loss: 2.5124 - acc: 0.3959 - val_loss: 7.0794 - val_acc: 0.1887\n",
            "Epoch 6/10\n",
            "782/782 [==============================] - 226s 288ms/step - loss: 2.1037 - acc: 0.4767 - val_loss: 5.1515 - val_acc: 0.2493\n",
            "Epoch 7/10\n",
            "782/782 [==============================] - 225s 288ms/step - loss: 1.5801 - acc: 0.5899 - val_loss: 7.2899 - val_acc: 0.2634\n",
            "Epoch 8/10\n",
            "782/782 [==============================] - 225s 288ms/step - loss: 0.9886 - acc: 0.7337 - val_loss: 5.3216 - val_acc: 0.2432\n",
            "Epoch 9/10\n",
            "782/782 [==============================] - 225s 288ms/step - loss: 0.5324 - acc: 0.8525 - val_loss: 18.3515 - val_acc: 0.2526\n",
            "Epoch 10/10\n",
            "782/782 [==============================] - 225s 288ms/step - loss: 0.3616 - acc: 0.8982 - val_loss: 48.7343 - val_acc: 0.2201\n"
          ]
        }
      ]
    },
    {
      "cell_type": "code",
      "source": [
        "import matplotlib.pyplot as plt\n",
        "%matplotlib inline \n",
        "\n",
        "train_loss = results.history['loss']\n",
        "val_loss = results.history['val_loss']\n",
        "train_acc = results.history['acc']\n",
        "val_acc = results.history['val_acc']\n",
        "\n",
        "plt.subplots(figsize=(10, 10))\n",
        "\n",
        "plt.subplot(2, 1, 1)\n",
        "plt.semilogy(train_loss)\n",
        "plt.semilogy(val_loss)\n",
        "\n",
        "plt.legend(['training loss', 'validation loss'])\n",
        "plt.xlabel('epochs')\n",
        "plt.ylabel('BCE')\n",
        "\n",
        "plt.subplot(2, 1, 2)\n",
        "plt.plot(train_acc)\n",
        "plt.plot(val_acc)\n",
        "\n",
        "plt.legend(['training accuracy', 'validation accuracy'])\n",
        "plt.xlabel('epochs')\n",
        "plt.ylabel('accuracy')\n",
        "\n",
        "plt.show()"
      ],
      "metadata": {
        "colab": {
          "base_uri": "https://localhost:8080/",
          "height": 606
        },
        "id": "uRgebtlJkZCp",
        "outputId": "1f19964f-109f-4b6e-cba7-7093e929d386"
      },
      "execution_count": null,
      "outputs": [
        {
          "output_type": "display_data",
          "data": {
            "text/plain": [
              "<Figure size 720x720 with 2 Axes>"
            ],
            "image/png": "[encoded data removed]"
          },
          "metadata": {
            "needs_background": "light"
          }
        }
      ]
    },
    {
      "cell_type": "code",
      "source": [
        "y_hat = validation_generator.classes\n",
        "\n",
        "from tensorflow.keras.utils import to_categorical\n",
        "y_hat = to_categorical(y_hat,num_classes = 200)\n",
        "\n",
        "y_pred_valid_resnet = model.predict(validation_generator)\n",
        "\n",
        "from sklearn.metrics import classification_report\n",
        "cls_report = classification_report(y_hat.argmax(axis=1), y_pred_valid_resnet.argmax(axis=1))\n",
        "\n",
        "print(cls_report)"
      ],
      "metadata": {
        "colab": {
          "base_uri": "https://localhost:8080/"
        },
        "id": "qWdWK4d3kZCp",
        "outputId": "6abc10b5-0309-418a-f340-6575a47ca8d6"
      },
      "execution_count": null,
      "outputs": [
        {
          "output_type": "stream",
          "name": "stdout",
          "text": [
            "              precision    recall  f1-score   support\n",
            "\n",
            "           0       0.62      0.50      0.56        50\n",
            "           1       0.72      0.36      0.48        50\n",
            "           2       0.34      0.20      0.25        50\n",
            "           3       0.25      0.08      0.12        50\n",
            "           4       0.21      0.14      0.17        50\n",
            "           5       0.09      0.08      0.09        50\n",
            "           6       0.78      0.14      0.24        50\n",
            "           7       0.21      0.10      0.14        50\n",
            "           8       0.74      0.40      0.52        50\n",
            "           9       0.13      0.10      0.11        50\n",
            "          10       0.18      0.06      0.09        50\n",
            "          11       0.27      0.34      0.30        50\n",
            "          12       0.39      0.28      0.33        50\n",
            "          13       0.42      0.10      0.16        50\n",
            "          14       0.50      0.18      0.26        50\n",
            "          15       0.46      0.12      0.19        50\n",
            "          16       0.00      0.00      0.00        50\n",
            "          17       0.67      0.16      0.26        50\n",
            "          18       0.19      0.20      0.20        50\n",
            "          19       0.44      0.24      0.31        50\n",
            "          20       0.33      0.26      0.29        50\n",
            "          21       0.73      0.32      0.44        50\n",
            "          22       0.59      0.34      0.43        50\n",
            "          23       0.53      0.16      0.25        50\n",
            "          24       0.08      0.04      0.05        50\n",
            "          25       0.26      0.16      0.20        50\n",
            "          26       0.15      0.10      0.12        50\n",
            "          27       0.00      0.00      0.00        50\n",
            "          28       0.18      0.20      0.19        50\n",
            "          29       0.02      0.04      0.03        50\n",
            "          30       0.12      0.14      0.13        50\n",
            "          31       0.53      0.20      0.29        50\n",
            "          32       0.04      0.04      0.04        50\n",
            "          33       0.09      0.10      0.10        50\n",
            "          34       0.27      0.36      0.31        50\n",
            "          35       0.18      0.30      0.23        50\n",
            "          36       0.75      0.48      0.59        50\n",
            "          37       0.35      0.18      0.24        50\n",
            "          38       0.48      0.32      0.39        50\n",
            "          39       0.23      0.14      0.18        50\n",
            "          40       0.31      0.10      0.15        50\n",
            "          41       0.25      0.06      0.10        50\n",
            "          42       0.29      0.18      0.22        50\n",
            "          43       0.38      0.22      0.28        50\n",
            "          44       0.69      0.54      0.61        50\n",
            "          45       0.56      0.50      0.53        50\n",
            "          46       0.30      0.12      0.17        50\n",
            "          47       0.53      0.16      0.25        50\n",
            "          48       0.06      0.10      0.08        50\n",
            "          49       0.09      0.10      0.10        50\n",
            "          50       0.46      0.36      0.40        50\n",
            "          51       0.14      0.20      0.16        50\n",
            "          52       0.22      0.52      0.31        50\n",
            "          53       0.38      0.30      0.33        50\n",
            "          54       0.33      0.18      0.23        50\n",
            "          55       0.16      0.46      0.24        50\n",
            "          56       0.08      0.14      0.10        50\n",
            "          57       0.23      0.36      0.28        50\n",
            "          58       0.64      0.28      0.39        50\n",
            "          59       0.10      0.18      0.13        50\n",
            "          60       0.34      0.28      0.31        50\n",
            "          61       0.22      0.54      0.31        50\n",
            "          62       0.04      0.14      0.07        50\n",
            "          63       0.20      0.28      0.23        50\n",
            "          64       0.05      0.06      0.05        50\n",
            "          65       0.10      0.20      0.13        50\n",
            "          66       0.28      0.24      0.26        50\n",
            "          67       0.11      0.16      0.13        50\n",
            "          68       0.24      0.28      0.26        50\n",
            "          69       0.20      0.20      0.20        50\n",
            "          70       0.28      0.10      0.15        50\n",
            "          71       0.28      0.22      0.25        50\n",
            "          72       0.14      0.14      0.14        50\n",
            "          73       0.16      0.14      0.15        50\n",
            "          74       0.27      0.24      0.26        50\n",
            "          75       0.09      0.10      0.09        50\n",
            "          76       0.07      0.08      0.07        50\n",
            "          77       0.12      0.10      0.11        50\n",
            "          78       0.33      0.56      0.41        50\n",
            "          79       0.17      0.08      0.11        50\n",
            "          80       0.08      0.04      0.05        50\n",
            "          81       0.54      0.58      0.56        50\n",
            "          82       0.20      0.34      0.25        50\n",
            "          83       0.24      0.20      0.22        50\n",
            "          84       0.10      0.10      0.10        50\n",
            "          85       0.18      0.12      0.14        50\n",
            "          86       0.15      0.18      0.17        50\n",
            "          87       0.27      0.08      0.12        50\n",
            "          88       0.06      0.04      0.05        50\n",
            "          89       0.29      0.26      0.27        50\n",
            "          90       0.56      0.18      0.27        50\n",
            "          91       0.27      0.36      0.31        50\n",
            "          92       0.24      0.16      0.19        50\n",
            "          93       0.22      0.48      0.30        50\n",
            "          94       0.44      0.22      0.29        50\n",
            "          95       0.16      0.18      0.17        50\n",
            "          96       0.18      0.18      0.18        50\n",
            "          97       0.24      0.22      0.23        50\n",
            "          98       0.33      0.38      0.35        50\n",
            "          99       0.11      0.10      0.10        50\n",
            "         100       0.08      0.10      0.09        50\n",
            "         101       0.12      0.08      0.10        50\n",
            "         102       0.21      0.20      0.21        50\n",
            "         103       0.62      0.60      0.61        50\n",
            "         104       0.13      0.06      0.08        50\n",
            "         105       0.09      0.12      0.11        50\n",
            "         106       0.20      0.08      0.11        50\n",
            "         107       0.60      0.42      0.49        50\n",
            "         108       0.53      0.16      0.25        50\n",
            "         109       0.15      0.12      0.13        50\n",
            "         110       0.39      0.14      0.21        50\n",
            "         111       0.17      0.60      0.27        50\n",
            "         112       0.18      0.20      0.19        50\n",
            "         113       0.17      0.20      0.19        50\n",
            "         114       0.20      0.16      0.18        50\n",
            "         115       0.72      0.56      0.63        50\n",
            "         116       0.21      0.32      0.26        50\n",
            "         117       0.62      0.16      0.25        50\n",
            "         118       0.53      0.32      0.40        50\n",
            "         119       0.09      0.08      0.09        50\n",
            "         120       0.09      0.14      0.11        50\n",
            "         121       0.30      0.26      0.28        50\n",
            "         122       0.20      0.04      0.07        50\n",
            "         123       0.09      0.14      0.11        50\n",
            "         124       0.49      0.36      0.41        50\n",
            "         125       0.12      0.26      0.16        50\n",
            "         126       0.38      0.32      0.35        50\n",
            "         127       0.15      0.16      0.15        50\n",
            "         128       0.14      0.34      0.20        50\n",
            "         129       0.16      0.46      0.24        50\n",
            "         130       0.16      0.10      0.12        50\n",
            "         131       0.00      0.00      0.00        50\n",
            "         132       0.04      0.10      0.06        50\n",
            "         133       0.42      0.56      0.48        50\n",
            "         134       0.42      0.10      0.16        50\n",
            "         135       0.08      0.10      0.09        50\n",
            "         136       0.12      0.16      0.14        50\n",
            "         137       0.10      0.12      0.11        50\n",
            "         138       0.11      0.08      0.09        50\n",
            "         139       0.13      0.14      0.14        50\n",
            "         140       0.12      0.20      0.15        50\n",
            "         141       0.14      0.02      0.04        50\n",
            "         142       0.27      0.20      0.23        50\n",
            "         143       0.64      0.58      0.61        50\n",
            "         144       0.24      0.10      0.14        50\n",
            "         145       0.43      0.62      0.51        50\n",
            "         146       0.14      0.58      0.23        50\n",
            "         147       0.17      0.30      0.21        50\n",
            "         148       0.18      0.10      0.13        50\n",
            "         149       0.58      0.14      0.23        50\n",
            "         150       0.30      0.20      0.24        50\n",
            "         151       0.43      0.06      0.11        50\n",
            "         152       0.29      0.12      0.17        50\n",
            "         153       0.29      0.32      0.30        50\n",
            "         154       0.16      0.18      0.17        50\n",
            "         155       0.36      0.18      0.24        50\n",
            "         156       0.10      0.04      0.06        50\n",
            "         157       0.25      0.10      0.14        50\n",
            "         158       0.20      0.20      0.20        50\n",
            "         159       0.09      0.02      0.03        50\n",
            "         160       0.20      0.18      0.19        50\n",
            "         161       0.15      0.14      0.14        50\n",
            "         162       0.25      0.12      0.16        50\n",
            "         163       0.25      0.26      0.25        50\n",
            "         164       0.23      0.26      0.25        50\n",
            "         165       0.15      0.64      0.25        50\n",
            "         166       0.48      0.50      0.49        50\n",
            "         167       0.18      0.40      0.25        50\n",
            "         168       0.05      0.06      0.05        50\n",
            "         169       0.16      0.34      0.22        50\n",
            "         170       0.30      0.30      0.30        50\n",
            "         171       0.23      0.42      0.29        50\n",
            "         172       0.01      0.06      0.01        50\n",
            "         173       0.28      0.22      0.24        50\n",
            "         174       0.23      0.20      0.21        50\n",
            "         175       0.12      0.06      0.08        50\n",
            "         176       0.48      0.52      0.50        50\n",
            "         177       0.31      0.24      0.27        50\n",
            "         178       0.45      0.34      0.39        50\n",
            "         179       0.04      0.10      0.05        50\n",
            "         180       0.19      0.12      0.15        50\n",
            "         181       0.17      0.18      0.17        50\n",
            "         182       0.33      0.10      0.15        50\n",
            "         183       0.22      0.22      0.22        50\n",
            "         184       0.49      0.38      0.43        50\n",
            "         185       0.33      0.36      0.35        50\n",
            "         186       0.38      0.44      0.41        50\n",
            "         187       0.28      0.20      0.23        50\n",
            "         188       0.43      0.06      0.11        50\n",
            "         189       0.61      0.22      0.32        50\n",
            "         190       0.35      0.16      0.22        50\n",
            "         191       0.42      0.66      0.51        50\n",
            "         192       0.27      0.16      0.20        50\n",
            "         193       0.80      0.48      0.60        50\n",
            "         194       0.18      0.18      0.18        50\n",
            "         195       0.42      0.10      0.16        50\n",
            "         196       0.32      0.14      0.19        50\n",
            "         197       0.17      0.14      0.15        50\n",
            "         198       0.24      0.16      0.19        50\n",
            "         199       0.21      0.06      0.09        50\n",
            "\n",
            "    accuracy                           0.22     10000\n",
            "   macro avg       0.27      0.22      0.22     10000\n",
            "weighted avg       0.27      0.22      0.22     10000\n",
            "\n"
          ]
        }
      ]
    },
    {
      "cell_type": "code",
      "source": [
        "from sklearn.metrics import confusion_matrix\n",
        "cnf = confusion_matrix(y_hat.argmax(axis=1), y_pred_valid_resnet.argmax(axis=1))\n",
        "print(cnf)"
      ],
      "metadata": {
        "colab": {
          "base_uri": "https://localhost:8080/"
        },
        "id": "VKmzWD_kkZCp",
        "outputId": "6562f1ff-da16-4981-e3ef-7a97ecacde7c"
      },
      "execution_count": null,
      "outputs": [
        {
          "output_type": "stream",
          "name": "stdout",
          "text": [
            "[[25  0  0 ...  0  0  0]\n",
            " [ 0 18  0 ...  0  0  1]\n",
            " [ 0  0 10 ...  0  0  0]\n",
            " ...\n",
            " [ 0  0  0 ...  7  1  0]\n",
            " [ 1  0  0 ...  2  8  0]\n",
            " [ 0  0  0 ...  0  0  3]]\n"
          ]
        }
      ]
    },
    {
      "cell_type": "code",
      "source": [
        "from tensorflow.keras import Model\n",
        "from tensorflow.keras.layers import Dense, Input, Flatten"
      ],
      "metadata": {
        "id": "WSEHvysPb8eY"
      },
      "execution_count": null,
      "outputs": []
    },
    {
      "cell_type": "markdown",
      "source": [
        "**Inception v3**"
      ],
      "metadata": {
        "id": "OOnEIgdWIchI"
      }
    },
    {
      "cell_type": "code",
      "source": [
        "feature_extractor_Inception_v3 = tf.keras.applications.inception_v3.InceptionV3(weights='imagenet'\n",
        "                                      , input_shape=(85, 85, 3) ,include_top=False)\n",
        "feature_extractor_Inception_v3.summary()"
      ],
      "metadata": {
        "id": "2ZQL6leazGnD"
      },
      "execution_count": null,
      "outputs": []
    },
    {
      "cell_type": "code",
      "source": [
        "for layer in feature_extractor_Inception_v3.layers[0:-2]:\n",
        "    layer.trainable = False"
      ],
      "metadata": {
        "id": "faf2a8zA_iCc"
      },
      "execution_count": null,
      "outputs": []
    },
    {
      "cell_type": "code",
      "source": [
        "inp_layer = Input(shape = (85, 85, 3))\n",
        "features = feature_extractor_Inception_v3(inp_layer)\n",
        "flat = Flatten()(features)\n",
        "output = Dense(units = 200, activation = 'softmax')(flat)\n",
        "\n",
        "model = Model(inputs = inp_layer, outputs = output)\n",
        "\n",
        "model.summary()"
      ],
      "metadata": {
        "colab": {
          "base_uri": "https://localhost:8080/"
        },
        "id": "2hjPVHihAP33",
        "outputId": "1eaa8032-b6a1-43e1-8c99-39ce4b495566"
      },
      "execution_count": null,
      "outputs": [
        {
          "output_type": "stream",
          "name": "stdout",
          "text": [
            "Model: \"model_3\"\n",
            "_________________________________________________________________\n",
            " Layer (type)                Output Shape              Param #   \n",
            "=================================================================\n",
            " input_7 (InputLayer)        [(None, 85, 85, 3)]       0         \n",
            "                                                                 \n",
            " inception_v3 (Functional)   (None, 1, 1, 2048)        21802784  \n",
            "                                                                 \n",
            " flatten_3 (Flatten)         (None, 2048)              0         \n",
            "                                                                 \n",
            " dense_3 (Dense)             (None, 200)               409800    \n",
            "                                                                 \n",
            "=================================================================\n",
            "Total params: 22,212,584\n",
            "Trainable params: 409,800\n",
            "Non-trainable params: 21,802,784\n",
            "_________________________________________________________________\n"
          ]
        }
      ]
    },
    {
      "cell_type": "code",
      "source": [
        "from tensorflow.keras.losses import categorical_crossentropy\n",
        "from tensorflow.keras.optimizers import Adam\n",
        "\n",
        "opt = Adam(learning_rate = 0.001)\n",
        "BCE = categorical_crossentropy\n",
        "model.compile(optimizer = opt, loss=BCE, metrics = 'acc')"
      ],
      "metadata": {
        "id": "NcnqAeGcAhKN"
      },
      "execution_count": null,
      "outputs": []
    },
    {
      "cell_type": "code",
      "source": [
        "results = model.fit(train_generator2,\n",
        "                    epochs = 10,\n",
        "                    validation_data=validation_generator2)"
      ],
      "metadata": {
        "id": "JkfP1s64Ao6v"
      },
      "execution_count": null,
      "outputs": []
    },
    {
      "cell_type": "code",
      "source": [
        "import matplotlib.pyplot as plt\n",
        "%matplotlib inline \n",
        "\n",
        "train_loss = results.history['loss']\n",
        "val_loss = results.history['val_loss']\n",
        "train_acc = results.history['acc']\n",
        "val_acc = results.history['val_acc']\n",
        "\n",
        "plt.subplots(figsize=(10, 10))\n",
        "\n",
        "plt.subplot(2, 1, 1)\n",
        "plt.semilogy(train_loss)\n",
        "plt.semilogy(val_loss)\n",
        "\n",
        "plt.legend(['training loss', 'validation loss'])\n",
        "plt.xlabel('epochs')\n",
        "plt.ylabel('BCE')\n",
        "\n",
        "plt.subplot(2, 1, 2)\n",
        "plt.plot(train_acc)\n",
        "plt.plot(val_acc)\n",
        "\n",
        "plt.legend(['training accuracy', 'validation accuracy'])\n",
        "plt.xlabel('epochs')\n",
        "plt.ylabel('accuracy')\n",
        "\n",
        "plt.show()"
      ],
      "metadata": {
        "id": "7ZCI1GJQU0h-"
      },
      "execution_count": null,
      "outputs": []
    },
    {
      "cell_type": "code",
      "source": [
        "y_hat = validation_generator2.classes\n",
        "\n",
        "from tensorflow.keras.utils import to_categorical\n",
        "y_hat = to_categorical(y_hat,num_classes = 200)\n",
        "\n",
        "y_pred_valid_inception = model.predict(validation_generator2)\n",
        "\n",
        "from sklearn.metrics import classification_report\n",
        "cls_report = classification_report(y_hat.argmax(axis=1), y_pred_valid_inception.argmax(axis=1))\n",
        "\n",
        "print(cls_report)\n",
        "\n"
      ],
      "metadata": {
        "id": "hP6Gj9GogOQj"
      },
      "execution_count": null,
      "outputs": []
    },
    {
      "cell_type": "code",
      "source": [
        "from sklearn.metrics import confusion_matrix\n",
        "cnf = confusion_matrix(y_hat.argmax(axis=1), y_pred_valid_inception.argmax(axis=1))\n",
        "print(cnf)"
      ],
      "metadata": {
        "id": "1X2V0l-ngse8"
      },
      "execution_count": null,
      "outputs": []
    },
    {
      "cell_type": "markdown",
      "source": [
        "**inception without transfer learning**"
      ],
      "metadata": {
        "id": "0LZAIPF2h3t3"
      }
    },
    {
      "cell_type": "code",
      "source": [
        "feature_extractor_Inception_v3 = tf.keras.applications.efficientnet.EfficientNetB7(weights=None\n",
        "                                      , input_shape=(85, 85, 3) ,include_top=False)\n",
        "feature_extractor_Inception_v3.summary()"
      ],
      "metadata": {
        "id": "zaJrxAS1hWHT"
      },
      "execution_count": null,
      "outputs": []
    },
    {
      "cell_type": "code",
      "source": [
        "inp_layer = Input(shape = (85, 85, 3))\n",
        "features = feature_extractor_Inception_v3(inp_layer)\n",
        "flat = Flatten()(features)\n",
        "output = Dense(units = 200, activation = 'softmax')(flat)\n",
        "\n",
        "model = Model(inputs = inp_layer, outputs = output)\n",
        "\n",
        "model.summary()"
      ],
      "metadata": {
        "id": "acBlcjTth8GV"
      },
      "execution_count": null,
      "outputs": []
    },
    {
      "cell_type": "code",
      "source": [
        "from tensorflow.keras.losses import categorical_crossentropy\n",
        "from tensorflow.keras.optimizers import Adam\n",
        "\n",
        "opt = Adam(learning_rate = 0.001)\n",
        "BCE = categorical_crossentropy\n",
        "model.compile(optimizer = opt, loss=BCE, metrics = 'acc')"
      ],
      "metadata": {
        "id": "mo_Y3wRGiJec"
      },
      "execution_count": null,
      "outputs": []
    },
    {
      "cell_type": "code",
      "source": [
        "results = model.fit(train_generator,\n",
        "                    epochs = 7,\n",
        "                    validation_data=validation_generator)"
      ],
      "metadata": {
        "id": "_j6QcHtUisPY"
      },
      "execution_count": null,
      "outputs": []
    },
    {
      "cell_type": "markdown",
      "source": [
        "**Efficientnet**"
      ],
      "metadata": {
        "id": "LiBYcI1OiRQt"
      }
    },
    {
      "cell_type": "code",
      "source": [
        "feature_extractor_efficientnet = tf.keras.applications.efficientnet.EfficientNetB7(weights='imagenet'\n",
        "                                      , input_shape=(85, 85, 3) ,include_top=False)\n",
        "feature_extractor_efficientnet.summary()"
      ],
      "metadata": {
        "id": "VFyCciVrhcXc"
      },
      "execution_count": null,
      "outputs": []
    },
    {
      "cell_type": "code",
      "source": [
        "for layer in feature_extractor_efficientnet.layers[0:-2]:\n",
        "    layer.trainable = False"
      ],
      "metadata": {
        "id": "_ljThxT5iqYx"
      },
      "execution_count": null,
      "outputs": []
    },
    {
      "cell_type": "code",
      "source": [
        "inp_layer = Input(shape = (85, 85, 3))\n",
        "features = feature_extractor_efficientnet(inp_layer)\n",
        "flat = Flatten()(features)\n",
        "output = Dense(units = 200, activation = 'softmax')(flat)\n",
        "\n",
        "model = Model(inputs = inp_layer, outputs = output)\n",
        "\n",
        "model.summary()"
      ],
      "metadata": {
        "id": "z--Gn97Li4LN"
      },
      "execution_count": null,
      "outputs": []
    },
    {
      "cell_type": "code",
      "source": [
        "from tensorflow.keras.losses import categorical_crossentropy\n",
        "from tensorflow.keras.optimizers import Adam\n",
        "\n",
        "opt = Adam(learning_rate = 0.001)\n",
        "BCE = categorical_crossentropy\n",
        "model.compile(optimizer = opt, loss=BCE, metrics = 'acc')"
      ],
      "metadata": {
        "id": "1p4iNBwTjDY-"
      },
      "execution_count": null,
      "outputs": []
    },
    {
      "cell_type": "code",
      "source": [
        "results = model.fit(train_generator,\n",
        "                    epochs = 10,\n",
        "                    validation_data=validation_generator)"
      ],
      "metadata": {
        "id": "TTPFqsvqjLJp"
      },
      "execution_count": null,
      "outputs": []
    },
    {
      "cell_type": "code",
      "source": [
        "import matplotlib.pyplot as plt\n",
        "%matplotlib inline \n",
        "\n",
        "train_loss = results.history['loss']\n",
        "val_loss = results.history['val_loss']\n",
        "train_acc = results.history['acc']\n",
        "val_acc = results.history['val_acc']\n",
        "\n",
        "plt.subplots(figsize=(10, 10))\n",
        "\n",
        "plt.subplot(2, 1, 1)\n",
        "plt.semilogy(train_loss)\n",
        "plt.semilogy(val_loss)\n",
        "\n",
        "plt.legend(['training loss', 'validation loss'])\n",
        "plt.xlabel('epochs')\n",
        "plt.ylabel('BCE')\n",
        "\n",
        "plt.subplot(2, 1, 2)\n",
        "plt.plot(train_acc)\n",
        "plt.plot(val_acc)\n",
        "\n",
        "plt.legend(['training accuracy', 'validation accuracy'])\n",
        "plt.xlabel('epochs')\n",
        "plt.ylabel('accuracy')\n",
        "\n",
        "plt.show()"
      ],
      "metadata": {
        "id": "OjDTvgAVjWb5"
      },
      "execution_count": null,
      "outputs": []
    },
    {
      "cell_type": "code",
      "source": [
        "y_hat = validation_generator.classes\n",
        "\n",
        "from tensorflow.keras.utils import to_categorical\n",
        "y_hat = to_categorical(y_hat,num_classes = 200)\n",
        "\n",
        "y_pred_valid_efficientnet = model.predict(validation_generator)\n",
        "\n",
        "from sklearn.metrics import classification_report\n",
        "cls_report = classification_report(y_hat.argmax(axis=1), y_pred_valid_efficientnet.argmax(axis=1))\n",
        "\n",
        "print(cls_report)"
      ],
      "metadata": {
        "id": "AUVNLIW8uPNh"
      },
      "execution_count": null,
      "outputs": []
    },
    {
      "cell_type": "code",
      "source": [
        "from sklearn.metrics import confusion_matrix\n",
        "cnf = confusion_matrix(y_hat.argmax(axis=1), y_pred_valid_efficientnet.argmax(axis=1))\n",
        "print(cnf)"
      ],
      "metadata": {
        "id": "_cE5roDKunZ-"
      },
      "execution_count": null,
      "outputs": []
    },
    {
      "cell_type": "markdown",
      "source": [
        "**Efficientnet without transfer learning**"
      ],
      "metadata": {
        "id": "7V4v_WxsSxlT"
      }
    },
    {
      "cell_type": "code",
      "source": [
        "feature_extractor_efficientnet = tf.keras.applications.efficientnet.EfficientNetB7(weights=None\n",
        "                                      , input_shape=(85, 85, 3) ,include_top=False)\n",
        "feature_extractor_efficientnet.summary()"
      ],
      "metadata": {
        "id": "YwfpGPHlUs0v"
      },
      "execution_count": null,
      "outputs": []
    },
    {
      "cell_type": "code",
      "source": [
        "inp_layer = Input(shape = (85, 85, 3))\n",
        "features = feature_extractor_efficientnet(inp_layer)\n",
        "flat = Flatten()(features)\n",
        "output = Dense(units = 200, activation = 'softmax')(flat)\n",
        "\n",
        "model = Model(inputs = inp_layer, outputs = output)\n",
        "\n",
        "model.summary()"
      ],
      "metadata": {
        "id": "MIY-BtUBYBls"
      },
      "execution_count": null,
      "outputs": []
    },
    {
      "cell_type": "code",
      "source": [
        "from tensorflow.keras.losses import categorical_crossentropy\n",
        "from tensorflow.keras.optimizers import Adam\n",
        "\n",
        "opt = Adam(learning_rate = 0.001)\n",
        "BCE = categorical_crossentropy\n",
        "model.compile(optimizer = opt, loss=BCE, metrics = 'acc')"
      ],
      "metadata": {
        "id": "jJ5bOjY6YIqV"
      },
      "execution_count": null,
      "outputs": []
    },
    {
      "cell_type": "code",
      "source": [
        "results = model.fit(train_generator2,\n",
        "                    epochs = 7,\n",
        "                    validation_data=validation_generator2)"
      ],
      "metadata": {
        "id": "Z7OvebFkkO97"
      },
      "execution_count": null,
      "outputs": []
    },
    {
      "cell_type": "markdown",
      "source": [
        "**Densenet**"
      ],
      "metadata": {
        "id": "d8lWLbXEvoKP"
      }
    },
    {
      "cell_type": "code",
      "source": [
        "feature_extractor_dencenet = tf.keras.applications.DenseNet121(weights='imagenet'\n",
        "                                      , input_shape=(85, 85, 3) ,include_top=False)\n",
        "feature_extractor_dencenet.summary()"
      ],
      "metadata": {
        "id": "A1ytH4vGvl-x"
      },
      "execution_count": null,
      "outputs": []
    },
    {
      "cell_type": "code",
      "source": [
        "for layer in feature_extractor_dencenet.layers[0:-2]:\n",
        "    layer.trainable = False"
      ],
      "metadata": {
        "id": "O7Mj04hev36V"
      },
      "execution_count": null,
      "outputs": []
    },
    {
      "cell_type": "code",
      "source": [
        "inp_layer = Input(shape = (85, 85, 3))\n",
        "features = feature_extractor_dencenet(inp_layer)\n",
        "flat = Flatten()(features)\n",
        "output = Dense(units = 200, activation = 'softmax')(flat)\n",
        "\n",
        "model = Model(inputs = inp_layer, outputs = output)\n",
        "\n",
        "model.summary()"
      ],
      "metadata": {
        "id": "iCf8JXgzwEu9"
      },
      "execution_count": null,
      "outputs": []
    },
    {
      "cell_type": "code",
      "source": [
        "from tensorflow.keras.losses import categorical_crossentropy\n",
        "from tensorflow.keras.optimizers import Adam\n",
        "\n",
        "opt = Adam(learning_rate = 0.001)\n",
        "BCE = categorical_crossentropy\n",
        "model.compile(optimizer = opt, loss=BCE, metrics = 'acc')"
      ],
      "metadata": {
        "id": "tosHlftBwUVH"
      },
      "execution_count": null,
      "outputs": []
    },
    {
      "cell_type": "code",
      "source": [
        "results = model.fit(train_generator2,\n",
        "                    epochs = 10,\n",
        "                    validation_data=validation_generator2)"
      ],
      "metadata": {
        "id": "p45dhQjEwafe"
      },
      "execution_count": null,
      "outputs": []
    },
    {
      "cell_type": "code",
      "source": [
        "import matplotlib.pyplot as plt\n",
        "%matplotlib inline \n",
        "\n",
        "train_loss = results.history['loss']\n",
        "val_loss = results.history['val_loss']\n",
        "train_acc = results.history['acc']\n",
        "val_acc = results.history['val_acc']\n",
        "\n",
        "plt.subplots(figsize=(10, 10))\n",
        "\n",
        "plt.subplot(2, 1, 1)\n",
        "plt.semilogy(train_loss)\n",
        "plt.semilogy(val_loss)\n",
        "\n",
        "plt.legend(['training loss', 'validation loss'])\n",
        "plt.xlabel('epochs')\n",
        "plt.ylabel('BCE')\n",
        "\n",
        "plt.subplot(2, 1, 2)\n",
        "plt.plot(train_acc)\n",
        "plt.plot(val_acc)\n",
        "\n",
        "plt.legend(['training accuracy', 'validation accuracy'])\n",
        "plt.xlabel('epochs')\n",
        "plt.ylabel('accuracy')\n",
        "\n",
        "plt.show()"
      ],
      "metadata": {
        "id": "3i9jMSAHwigC"
      },
      "execution_count": null,
      "outputs": []
    },
    {
      "cell_type": "code",
      "source": [
        "y_hat = validation_generator.classes\n",
        "\n",
        "from tensorflow.keras.utils import to_categorical\n",
        "y_hat = to_categorical(y_hat,num_classes = 200)\n",
        "\n",
        "y_pred_valid_dencenet = model.predict(validation_generator2)\n",
        "\n",
        "from sklearn.metrics import classification_report\n",
        "cls_report = classification_report(y_hat.argmax(axis=1), y_pred_valid_dencenet.argmax(axis=1))\n",
        "\n",
        "print(cls_report)"
      ],
      "metadata": {
        "id": "m1-3xJaKF7YZ"
      },
      "execution_count": null,
      "outputs": []
    },
    {
      "cell_type": "code",
      "source": [
        "from sklearn.metrics import confusion_matrix\n",
        "cnf = confusion_matrix(y_hat.argmax(axis=1), y_pred_valid_dencenet.argmax(axis=1))\n",
        "print(cnf)"
      ],
      "metadata": {
        "id": "-FMvsijPGJKz"
      },
      "execution_count": null,
      "outputs": []
    },
    {
      "cell_type": "code",
      "source": [
        "model.save('/content/drive/MyDrive/hw3_model/dencenet/dencenet.h5')\n"
      ],
      "metadata": {
        "id": "LyvxsdMDGX9K"
      },
      "execution_count": null,
      "outputs": []
    },
    {
      "cell_type": "markdown",
      "source": [
        "**Dencenet without transfer learning**"
      ],
      "metadata": {
        "id": "Ly6DwuSaY9Ew"
      }
    },
    {
      "cell_type": "code",
      "source": [
        "feature_extractor_dencenet = tf.keras.applications.DenseNet121(weights=None\n",
        "                                      , input_shape=(85, 85, 3) ,include_top=False)\n",
        "feature_extractor_dencenet.summary()"
      ],
      "metadata": {
        "id": "g7HlfY5GYhRP"
      },
      "execution_count": null,
      "outputs": []
    },
    {
      "cell_type": "code",
      "source": [
        "inp_layer = Input(shape = (85, 85, 3))\n",
        "features = feature_extractor_dencenet(inp_layer)\n",
        "flat = Flatten()(features)\n",
        "output = Dense(units = 200, activation = 'softmax')(flat)\n",
        "\n",
        "model = Model(inputs = inp_layer, outputs = output)\n",
        "\n",
        "model.summary()"
      ],
      "metadata": {
        "id": "FdDUH-rNZBcW"
      },
      "execution_count": null,
      "outputs": []
    },
    {
      "cell_type": "code",
      "source": [
        "from tensorflow.keras.losses import categorical_crossentropy\n",
        "from tensorflow.keras.optimizers import Adam\n",
        "\n",
        "opt = Adam(learning_rate = 0.001)\n",
        "BCE = categorical_crossentropy\n",
        "model.compile(optimizer = opt, loss=BCE, metrics = 'acc')"
      ],
      "metadata": {
        "id": "lH0ATb9pZJlX"
      },
      "execution_count": null,
      "outputs": []
    },
    {
      "cell_type": "code",
      "source": [
        "results = model.fit(train_generator2,\n",
        "                    epochs = 7,\n",
        "                    validation_data=validation_generator2)"
      ],
      "metadata": {
        "id": "srK_um5PZRBv"
      },
      "execution_count": null,
      "outputs": []
    },
    {
      "cell_type": "code",
      "source": [
        "import matplotlib.pyplot as plt\n",
        "%matplotlib inline \n",
        "\n",
        "train_loss = results.history['loss']\n",
        "val_loss = results.history['val_loss']\n",
        "train_acc = results.history['acc']\n",
        "val_acc = results.history['val_acc']\n",
        "\n",
        "plt.subplots(figsize=(10, 10))\n",
        "\n",
        "plt.subplot(2, 1, 1)\n",
        "plt.semilogy(train_loss)\n",
        "plt.semilogy(val_loss)\n",
        "\n",
        "plt.legend(['training loss', 'validation loss'])\n",
        "plt.xlabel('epochs')\n",
        "plt.ylabel('BCE')\n",
        "\n",
        "plt.subplot(2, 1, 2)\n",
        "plt.plot(train_acc)\n",
        "plt.plot(val_acc)\n",
        "\n",
        "plt.legend(['training accuracy', 'validation accuracy'])\n",
        "plt.xlabel('epochs')\n",
        "plt.ylabel('accuracy')\n",
        "\n",
        "plt.show()"
      ],
      "metadata": {
        "id": "2_UMEMQvZcPe"
      },
      "execution_count": null,
      "outputs": []
    },
    {
      "cell_type": "code",
      "source": [
        "y_hat = validation_generator.classes\n",
        "\n",
        "from tensorflow.keras.utils import to_categorical\n",
        "y_hat = to_categorical(y_hat,num_classes = 200)\n",
        "\n",
        "y_pred_valid_densenet = model.predict(validation_generator2)\n",
        "\n",
        "from sklearn.metrics import classification_report\n",
        "cls_report = classification_report(y_hat.argmax(axis=1), y_pred_valid_densenet.argmax(axis=1))\n",
        "\n",
        "print(cls_report)"
      ],
      "metadata": {
        "id": "zLslsxp6g5TE"
      },
      "execution_count": null,
      "outputs": []
    },
    {
      "cell_type": "code",
      "source": [
        "from sklearn.metrics import confusion_matrix\n",
        "cnf = confusion_matrix(y_hat.argmax(axis=1), y_pred_valid_densenet.argmax(axis=1))\n",
        "print(cnf)"
      ],
      "metadata": {
        "id": "tFJCfAvGhNBe"
      },
      "execution_count": null,
      "outputs": []
    },
    {
      "cell_type": "markdown",
      "source": [
        "**Mobile net**"
      ],
      "metadata": {
        "id": "zaTak9-lWSVX"
      }
    },
    {
      "cell_type": "code",
      "source": [
        "feature_extractor_Mobilenet = tf.keras.applications.MobileNetV2(weights='imagenet'\n",
        "                                      , input_shape=(85, 85, 3) ,include_top=False)\n",
        "feature_extractor_Mobilenet.summary()"
      ],
      "metadata": {
        "id": "oOPtG9MvbuHk"
      },
      "execution_count": null,
      "outputs": []
    },
    {
      "cell_type": "code",
      "source": [
        "for layer in feature_extractor_Mobilenet.layers:\n",
        "    layer.trainable = False\n",
        "\n",
        "feature_extractor_Mobilenet.summary()"
      ],
      "metadata": {
        "id": "od5g5uuRblcv"
      },
      "execution_count": null,
      "outputs": []
    },
    {
      "cell_type": "code",
      "source": [
        "from tensorflow.keras import Model\n",
        "from tensorflow.keras.layers import Dense, Input, Flatten"
      ],
      "metadata": {
        "id": "gMKe6b4cyY11"
      },
      "execution_count": null,
      "outputs": []
    },
    {
      "cell_type": "code",
      "source": [
        "inp_layer = Input(shape = (85, 85, 3))\n",
        "features = feature_extractor_Mobilenet(inp_layer)\n",
        "flat = Flatten()(features)\n",
        "output = Dense(units = 200, activation = 'softmax')(flat)\n",
        "\n",
        "model = Model(inputs = inp_layer, outputs = output)\n",
        "\n",
        "model.summary()"
      ],
      "metadata": {
        "id": "VHD3lMxZcHRU"
      },
      "execution_count": null,
      "outputs": []
    },
    {
      "cell_type": "code",
      "source": [
        "from tensorflow.keras.losses import categorical_crossentropy\n",
        "from tensorflow.keras.optimizers import Adam\n",
        "\n",
        "opt = Adam(learning_rate = 0.001)\n",
        "BCE = categorical_crossentropy\n",
        "model.compile(optimizer = opt, loss=BCE, metrics = 'acc')"
      ],
      "metadata": {
        "id": "Iw1zVQEycjr-"
      },
      "execution_count": null,
      "outputs": []
    },
    {
      "cell_type": "code",
      "source": [
        "results = model.fit(train_generator2,\n",
        "                    epochs = 10,\n",
        "                    validation_data=validation_generator2)"
      ],
      "metadata": {
        "id": "jYol-K57dIcE"
      },
      "execution_count": null,
      "outputs": []
    },
    {
      "cell_type": "code",
      "source": [
        "import matplotlib.pyplot as plt\n",
        "%matplotlib inline \n",
        "\n",
        "train_loss = results.history['loss']\n",
        "val_loss = results.history['val_loss']\n",
        "train_acc = results.history['acc']\n",
        "val_acc = results.history['val_acc']\n",
        "\n",
        "plt.subplots(figsize=(10, 10))\n",
        "\n",
        "plt.subplot(2, 1, 1)\n",
        "plt.semilogy(train_loss)\n",
        "plt.semilogy(val_loss)\n",
        "\n",
        "plt.legend(['training loss', 'validation loss'])\n",
        "plt.xlabel('epochs')\n",
        "plt.ylabel('BCE')\n",
        "\n",
        "plt.subplot(2, 1, 2)\n",
        "plt.plot(train_acc)\n",
        "plt.plot(val_acc)\n",
        "\n",
        "plt.legend(['training accuracy', 'validation accuracy'])\n",
        "plt.xlabel('epochs')\n",
        "plt.ylabel('accuracy')\n",
        "\n",
        "plt.show()"
      ],
      "metadata": {
        "id": "TYSWCfNvdTM7"
      },
      "execution_count": null,
      "outputs": []
    },
    {
      "cell_type": "code",
      "source": [
        "y_hat = validation_generator2.classes\n",
        "\n",
        "from tensorflow.keras.utils import to_categorical\n",
        "y_hat = to_categorical(y_hat,num_classes = 200)\n",
        "\n",
        "y_pred_valid_Mobilenet = model.predict(validation_generator2)"
      ],
      "metadata": {
        "id": "dDhK9LDlr99K"
      },
      "execution_count": null,
      "outputs": []
    },
    {
      "cell_type": "code",
      "source": [
        "from sklearn.metrics import classification_report\n",
        "cls_report = classification_report(y_hat.argmax(axis=1), y_pred_valid_Mobilenet.argmax(axis=1))\n",
        "\n",
        "print(cls_report)"
      ],
      "metadata": {
        "id": "hMflWMh6suex"
      },
      "execution_count": null,
      "outputs": []
    },
    {
      "cell_type": "code",
      "source": [
        "from sklearn.metrics import confusion_matrix\n",
        "cnf = confusion_matrix(y_hat.argmax(axis=1), y_pred_valid_Mobilenet.argmax(axis=1))\n",
        "print(cnf)"
      ],
      "metadata": {
        "id": "7T-XfZc9sqTc"
      },
      "execution_count": null,
      "outputs": []
    },
    {
      "cell_type": "code",
      "source": [
        "import sys\n",
        "import numpy\n",
        "numpy.set_printoptions(threshold=sys.maxsize)\n",
        "print(cnf)"
      ],
      "metadata": {
        "id": "wiq3l8BStdJ6"
      },
      "execution_count": null,
      "outputs": []
    },
    {
      "cell_type": "markdown",
      "source": [
        "**Mobilenet withput transfer learning**"
      ],
      "metadata": {
        "id": "LfL5GP_uLzJ_"
      }
    },
    {
      "cell_type": "code",
      "source": [
        "feature_extractor_Mobilenet = tf.keras.applications.MobileNetV2(weights=None\n",
        "                                      , input_shape=(85, 85, 3) ,include_top=False)\n",
        "feature_extractor_Mobilenet.summary()"
      ],
      "metadata": {
        "id": "aaWUhTcULyL9"
      },
      "execution_count": null,
      "outputs": []
    },
    {
      "cell_type": "code",
      "source": [
        "inp_layer = Input(shape = (85, 85, 3))\n",
        "features = feature_extractor_Mobilenet(inp_layer)\n",
        "flat = Flatten()(features)\n",
        "output = Dense(units = 200, activation = 'softmax')(flat)\n",
        "\n",
        "model = Model(inputs = inp_layer, outputs = output)\n",
        "\n",
        "model.summary()"
      ],
      "metadata": {
        "id": "7EYhEPQmL7TJ"
      },
      "execution_count": null,
      "outputs": []
    },
    {
      "cell_type": "code",
      "source": [
        "from tensorflow.keras.losses import categorical_crossentropy\n",
        "from tensorflow.keras.optimizers import Adam\n",
        "\n",
        "opt = Adam(learning_rate = 0.001)\n",
        "BCE = categorical_crossentropy\n",
        "model.compile(optimizer = opt, loss=BCE, metrics = 'acc')"
      ],
      "metadata": {
        "id": "rB7TN1rIMOrt"
      },
      "execution_count": null,
      "outputs": []
    },
    {
      "cell_type": "code",
      "source": [
        "results = model.fit(train_generator2,\n",
        "                    epochs = 10,\n",
        "                    validation_data=validation_generator2)"
      ],
      "metadata": {
        "id": "ub-_aftqMDBh"
      },
      "execution_count": null,
      "outputs": []
    },
    {
      "cell_type": "code",
      "source": [
        "import matplotlib.pyplot as plt\n",
        "%matplotlib inline \n",
        "\n",
        "train_loss = results.history['loss']\n",
        "val_loss = results.history['val_loss']\n",
        "train_acc = results.history['acc']\n",
        "val_acc = results.history['val_acc']\n",
        "\n",
        "plt.subplots(figsize=(10, 10))\n",
        "\n",
        "plt.subplot(2, 1, 1)\n",
        "plt.semilogy(train_loss)\n",
        "plt.semilogy(val_loss)\n",
        "\n",
        "plt.legend(['training loss', 'validation loss'])\n",
        "plt.xlabel('epochs')\n",
        "plt.ylabel('BCE')\n",
        "\n",
        "plt.subplot(2, 1, 2)\n",
        "plt.plot(train_acc)\n",
        "plt.plot(val_acc)\n",
        "\n",
        "plt.legend(['training accuracy', 'validation accuracy'])\n",
        "plt.xlabel('epochs')\n",
        "plt.ylabel('accuracy')\n",
        "\n",
        "plt.show()"
      ],
      "metadata": {
        "id": "FMUJoK_IMQXJ"
      },
      "execution_count": null,
      "outputs": []
    },
    {
      "cell_type": "code",
      "source": [
        "y_hat = validation_generator2.classes\n",
        "\n",
        "from tensorflow.keras.utils import to_categorical\n",
        "y_hat = to_categorical(y_hat,num_classes = 200)\n",
        "\n",
        "y_pred_valid_mobilenet = model.predict(validation_generator2)"
      ],
      "metadata": {
        "id": "j_rzSai7VjrE"
      },
      "execution_count": null,
      "outputs": []
    },
    {
      "cell_type": "code",
      "source": [
        "from sklearn.metrics import classification_report\n",
        "cls_report = classification_report(y_hat.argmax(axis=1), y_pred_valid_mobilenet.argmax(axis=1))\n",
        "\n",
        "print(cls_report)"
      ],
      "metadata": {
        "id": "Du9gFoVwV5qO"
      },
      "execution_count": null,
      "outputs": []
    },
    {
      "cell_type": "code",
      "source": [
        "from sklearn.metrics import confusion_matrix\n",
        "cnf = confusion_matrix(y_hat.argmax(axis=1), y_pred_valid_mobilenet.argmax(axis=1))\n",
        "print(cnf)"
      ],
      "metadata": {
        "id": "tg7Ax_RcWC_G"
      },
      "execution_count": null,
      "outputs": []
    },
    {
      "cell_type": "markdown",
      "source": [
        "**VGG 19**"
      ],
      "metadata": {
        "id": "8SCNHfNvRZ-W"
      }
    },
    {
      "cell_type": "code",
      "source": [
        "feature_extractor_vgg19 = tf.keras.applications.vgg19.VGG19(weights='imagenet'\n",
        "                                      , input_shape=(85, 85, 3) ,include_top=False)\n",
        "feature_extractor_vgg19.summary()"
      ],
      "metadata": {
        "id": "DU_wdBZyAwsi"
      },
      "execution_count": null,
      "outputs": []
    },
    {
      "cell_type": "code",
      "source": [
        "for layer in feature_extractor_vgg19.layers[0:-2]:\n",
        "    layer.trainable = False"
      ],
      "metadata": {
        "id": "HuqyxnTHGth8"
      },
      "execution_count": null,
      "outputs": []
    },
    {
      "cell_type": "code",
      "source": [
        "inp_layer = Input(shape = (85, 85, 3))\n",
        "features = feature_extractor_vgg19(inp_layer)\n",
        "flat = Flatten()(features)\n",
        "output = Dense(units = 200, activation = 'softmax')(flat)\n",
        "\n",
        "model = Model(inputs = inp_layer, outputs = output)\n"
      ],
      "metadata": {
        "id": "N2Qp7HybHJlv"
      },
      "execution_count": null,
      "outputs": []
    },
    {
      "cell_type": "code",
      "source": [
        "from tensorflow.keras.losses import categorical_crossentropy\n",
        "from tensorflow.keras.optimizers import Adam\n",
        "\n",
        "opt = Adam(learning_rate = 0.001)\n",
        "BCE = categorical_crossentropy\n",
        "model.compile(optimizer = opt, loss=BCE, metrics = 'acc')"
      ],
      "metadata": {
        "id": "Tz9kr8PNHS9z"
      },
      "execution_count": null,
      "outputs": []
    },
    {
      "cell_type": "code",
      "source": [
        "results = model.fit(train_generator2,\n",
        "                    epochs = 15,\n",
        "                    validation_data=validation_generator2)"
      ],
      "metadata": {
        "id": "qbM8zds_HYvM"
      },
      "execution_count": null,
      "outputs": []
    },
    {
      "cell_type": "code",
      "source": [
        "import matplotlib.pyplot as plt\n",
        "%matplotlib inline \n",
        "\n",
        "train_loss = results.history['loss']\n",
        "val_loss = results.history['val_loss']\n",
        "train_acc = results.history['acc']\n",
        "val_acc = results.history['val_acc']\n",
        "\n",
        "plt.subplots(figsize=(10, 10))\n",
        "\n",
        "plt.subplot(2, 1, 1)\n",
        "plt.semilogy(train_loss)\n",
        "plt.semilogy(val_loss)\n",
        "\n",
        "plt.legend(['training loss', 'validation loss'])\n",
        "plt.xlabel('epochs')\n",
        "plt.ylabel('BCE')\n",
        "\n",
        "plt.subplot(2, 1, 2)\n",
        "plt.plot(train_acc)\n",
        "plt.plot(val_acc)\n",
        "\n",
        "plt.legend(['training accuracy', 'validation accuracy'])\n",
        "plt.xlabel('epochs')\n",
        "plt.ylabel('accuracy')\n",
        "\n",
        "plt.show()"
      ],
      "metadata": {
        "id": "_GyIcIIJHfvt"
      },
      "execution_count": null,
      "outputs": []
    },
    {
      "cell_type": "code",
      "source": [
        "y_hat = validation_generator2.classes\n",
        "\n",
        "from tensorflow.keras.utils import to_categorical\n",
        "y_hat = to_categorical(y_hat,num_classes = 200)\n",
        "\n",
        "y_pred_valid_VGG19 = model.predict(validation_generator2)"
      ],
      "metadata": {
        "id": "t6a0byGIZM_Y"
      },
      "execution_count": null,
      "outputs": []
    },
    {
      "cell_type": "code",
      "source": [
        "from sklearn.metrics import classification_report\n",
        "cls_report = classification_report(y_hat.argmax(axis=1), y_pred_valid_VGG19.argmax(axis=1))\n",
        "\n",
        "print(cls_report)"
      ],
      "metadata": {
        "id": "1S0tLyScZYHa"
      },
      "execution_count": null,
      "outputs": []
    },
    {
      "cell_type": "code",
      "source": [
        "from sklearn.metrics import confusion_matrix\n",
        "cnf = confusion_matrix(y_hat.argmax(axis=1), y_pred_valid_VGG19.argmax(axis=1))\n",
        "print(cnf)"
      ],
      "metadata": {
        "id": "8V2azTNbZkF3"
      },
      "execution_count": null,
      "outputs": []
    },
    {
      "cell_type": "markdown",
      "source": [
        "**VGG19 without transfer learning**"
      ],
      "metadata": {
        "id": "eHs4JpxVWqoy"
      }
    },
    {
      "cell_type": "code",
      "source": [
        "feature_extractor_vgg19 = tf.keras.applications.vgg19.VGG19(weights=None\n",
        "                                      , input_shape=(85, 85, 3) ,include_top=False)\n",
        "feature_extractor_vgg19.summary()"
      ],
      "metadata": {
        "id": "xD1KgGSLWOO-"
      },
      "execution_count": null,
      "outputs": []
    },
    {
      "cell_type": "code",
      "source": [
        "inp_layer = Input(shape = (85, 85, 3))\n",
        "features = feature_extractor_vgg19(inp_layer)\n",
        "flat = Flatten()(features)\n",
        "output = Dense(units = 200, activation = 'softmax')(flat)\n",
        "\n",
        "model = Model(inputs = inp_layer, outputs = output)\n"
      ],
      "metadata": {
        "id": "BrRKxuMkXErB"
      },
      "execution_count": null,
      "outputs": []
    },
    {
      "cell_type": "code",
      "source": [
        "from tensorflow.keras.losses import categorical_crossentropy\n",
        "from tensorflow.keras.optimizers import Adam\n",
        "\n",
        "opt = Adam(learning_rate = 0.001)\n",
        "BCE = categorical_crossentropy\n",
        "model.compile(optimizer = opt, loss=BCE, metrics = 'acc')"
      ],
      "metadata": {
        "id": "6l4bG7FMXI7m"
      },
      "execution_count": null,
      "outputs": []
    },
    {
      "cell_type": "code",
      "source": [
        "results = model.fit(train_generator2,\n",
        "                    epochs = 7,\n",
        "                    validation_data=validation_generator2)"
      ],
      "metadata": {
        "id": "lvnEC6xpXSR5"
      },
      "execution_count": null,
      "outputs": []
    },
    {
      "cell_type": "code",
      "source": [
        "import matplotlib.pyplot as plt\n",
        "%matplotlib inline \n",
        "\n",
        "train_loss = results.history['loss']\n",
        "val_loss = results.history['val_loss']\n",
        "train_acc = results.history['acc']\n",
        "val_acc = results.history['val_acc']\n",
        "\n",
        "plt.subplots(figsize=(10, 10))\n",
        "\n",
        "plt.subplot(2, 1, 1)\n",
        "plt.semilogy(train_loss)\n",
        "plt.semilogy(val_loss)\n",
        "\n",
        "plt.legend(['training loss', 'validation loss'])\n",
        "plt.xlabel('epochs')\n",
        "plt.ylabel('BCE')\n",
        "\n",
        "plt.subplot(2, 1, 2)\n",
        "plt.plot(train_acc)\n",
        "plt.plot(val_acc)\n",
        "\n",
        "plt.legend(['training accuracy', 'validation accuracy'])\n",
        "plt.xlabel('epochs')\n",
        "plt.ylabel('accuracy')\n",
        "\n",
        "plt.show()"
      ],
      "metadata": {
        "id": "U5BEZDSTXZEF"
      },
      "execution_count": null,
      "outputs": []
    },
    {
      "cell_type": "code",
      "source": [
        "y_hat = validation_generator2.classes\n",
        "\n",
        "from tensorflow.keras.utils import to_categorical\n",
        "y_hat = to_categorical(y_hat,num_classes = 200)\n",
        "\n",
        "y_pred_valid_vgg19 = model.predict(validation_generator2)"
      ],
      "metadata": {
        "id": "tDZUYUnsi668"
      },
      "execution_count": null,
      "outputs": []
    },
    {
      "cell_type": "code",
      "source": [
        "from sklearn.metrics import classification_report\n",
        "cls_report = classification_report(y_hat.argmax(axis=1), y_pred_valid_vgg19.argmax(axis=1))\n",
        "\n",
        "print(cls_report)"
      ],
      "metadata": {
        "id": "jMzPnbsrjD_a"
      },
      "execution_count": null,
      "outputs": []
    },
    {
      "cell_type": "code",
      "source": [
        "from sklearn.metrics import confusion_matrix\n",
        "cnf = confusion_matrix(y_hat.argmax(axis=1), y_pred_valid_vgg19.argmax(axis=1))\n",
        "print(cnf)"
      ],
      "metadata": {
        "id": "je-FdND_jI9y"
      },
      "execution_count": null,
      "outputs": []
    },
    {
      "cell_type": "markdown",
      "source": [
        "**Xception**"
      ],
      "metadata": {
        "id": "w75o-MCqoPCL"
      }
    },
    {
      "cell_type": "code",
      "source": [
        "feature_extractor_Xception = tf.keras.applications.Xception(weights='imagenet'\n",
        "                                      , input_shape=(85, 85, 3) ,include_top=False)\n",
        "feature_extractor_Xception.summary()"
      ],
      "metadata": {
        "id": "LTgN-8XlaJ82"
      },
      "execution_count": null,
      "outputs": []
    },
    {
      "cell_type": "code",
      "source": [
        "for layer in feature_extractor_Xception.layers[0:-2]:\n",
        "    layer.trainable = False"
      ],
      "metadata": {
        "id": "N-4e0V27ogSA"
      },
      "execution_count": null,
      "outputs": []
    },
    {
      "cell_type": "code",
      "source": [
        "inp_layer = Input(shape = (85, 85, 3))\n",
        "features = feature_extractor_Xception(inp_layer)\n",
        "flat = Flatten()(features)\n",
        "output = Dense(units = 200, activation = 'softmax')(flat)\n",
        "\n",
        "model = Model(inputs = inp_layer, outputs = output)"
      ],
      "metadata": {
        "id": "z53wYE_dooMi"
      },
      "execution_count": null,
      "outputs": []
    },
    {
      "cell_type": "code",
      "source": [
        "from tensorflow.keras.losses import categorical_crossentropy\n",
        "from tensorflow.keras.optimizers import Adam\n",
        "\n",
        "opt = Adam(learning_rate = 0.001)\n",
        "BCE = categorical_crossentropy\n",
        "model.compile(optimizer = opt, loss=BCE, metrics = 'acc')"
      ],
      "metadata": {
        "id": "xyPibkH6owlk"
      },
      "execution_count": null,
      "outputs": []
    },
    {
      "cell_type": "code",
      "source": [
        "results = model.fit(train_generator2,\n",
        "                    epochs = 15,\n",
        "                    validation_data=validation_generator2)"
      ],
      "metadata": {
        "id": "wav0tFejo2Ki"
      },
      "execution_count": null,
      "outputs": []
    },
    {
      "cell_type": "code",
      "source": [
        "import matplotlib.pyplot as plt\n",
        "%matplotlib inline \n",
        "\n",
        "train_loss = results.history['loss']\n",
        "val_loss = results.history['val_loss']\n",
        "train_acc = results.history['acc']\n",
        "val_acc = results.history['val_acc']\n",
        "\n",
        "plt.subplots(figsize=(10, 10))\n",
        "\n",
        "plt.subplot(2, 1, 1)\n",
        "plt.semilogy(train_loss)\n",
        "plt.semilogy(val_loss)\n",
        "\n",
        "plt.legend(['training loss', 'validation loss'])\n",
        "plt.xlabel('epochs')\n",
        "plt.ylabel('BCE')\n",
        "\n",
        "plt.subplot(2, 1, 2)\n",
        "plt.plot(train_acc)\n",
        "plt.plot(val_acc)\n",
        "\n",
        "plt.legend(['training accuracy', 'validation accuracy'])\n",
        "plt.xlabel('epochs')\n",
        "plt.ylabel('accuracy')\n",
        "\n",
        "plt.show()"
      ],
      "metadata": {
        "id": "S_KrAyRQo7t0"
      },
      "execution_count": null,
      "outputs": []
    },
    {
      "cell_type": "code",
      "source": [
        "y_hat = validation_generator2.classes\n",
        "\n",
        "from tensorflow.keras.utils import to_categorical\n",
        "y_hat = to_categorical(y_hat,num_classes = 200)\n",
        "\n",
        "y_pred_valid_xception = model.predict(validation_generator2)"
      ],
      "metadata": {
        "id": "JJabOlCN7W_4"
      },
      "execution_count": null,
      "outputs": []
    },
    {
      "cell_type": "code",
      "source": [
        "from sklearn.metrics import classification_report\n",
        "cls_report = classification_report(y_hat.argmax(axis=1), y_pred_valid_xception.argmax(axis=1))\n",
        "\n",
        "print(cls_report)"
      ],
      "metadata": {
        "id": "nR8xfPaA7cR8"
      },
      "execution_count": null,
      "outputs": []
    },
    {
      "cell_type": "code",
      "source": [
        "from sklearn.metrics import confusion_matrix\n",
        "cnf = confusion_matrix(y_hat.argmax(axis=1), y_pred_valid_xception.argmax(axis=1))\n",
        "print(cnf)"
      ],
      "metadata": {
        "id": "s0JwPgOM9asS"
      },
      "execution_count": null,
      "outputs": []
    },
    {
      "cell_type": "markdown",
      "source": [
        "**Xception without transfer learning**"
      ],
      "metadata": {
        "id": "4EhDAzjsEKaA"
      }
    },
    {
      "cell_type": "code",
      "source": [
        "feature_extractor_Xception = tf.keras.applications.Xception(weights=None\n",
        "                                      , input_shape=(85, 85, 3) ,include_top=False)\n",
        "feature_extractor_Xception.summary()"
      ],
      "metadata": {
        "id": "hX9XgTVo-Pr3"
      },
      "execution_count": null,
      "outputs": []
    },
    {
      "cell_type": "code",
      "source": [
        "inp_layer = Input(shape = (85, 85, 3))\n",
        "features = feature_extractor_Xception(inp_layer)\n",
        "flat = Flatten()(features)\n",
        "output = Dense(units = 200, activation = 'softmax')(flat)\n",
        "\n",
        "model = Model(inputs = inp_layer, outputs = output)"
      ],
      "metadata": {
        "id": "n0vEZI-b-fKP"
      },
      "execution_count": null,
      "outputs": []
    },
    {
      "cell_type": "code",
      "source": [
        "from tensorflow.keras.losses import categorical_crossentropy\n",
        "from tensorflow.keras.optimizers import Adam\n",
        "\n",
        "opt = Adam(learning_rate = 0.001)\n",
        "BCE = categorical_crossentropy\n",
        "model.compile(optimizer = opt, loss=BCE, metrics = 'acc')"
      ],
      "metadata": {
        "id": "asGfxDLG-mD7"
      },
      "execution_count": null,
      "outputs": []
    },
    {
      "cell_type": "code",
      "source": [
        "results = model.fit(train_generator2,\n",
        "                    epochs = 10,\n",
        "                    validation_data=validation_generator2)"
      ],
      "metadata": {
        "id": "-HMMWFWL-rLN"
      },
      "execution_count": null,
      "outputs": []
    },
    {
      "cell_type": "code",
      "source": [
        "import matplotlib.pyplot as plt\n",
        "%matplotlib inline \n",
        "\n",
        "train_loss = results.history['loss']\n",
        "val_loss = results.history['val_loss']\n",
        "train_acc = results.history['acc']\n",
        "val_acc = results.history['val_acc']\n",
        "\n",
        "plt.subplots(figsize=(10, 10))\n",
        "\n",
        "plt.subplot(2, 1, 1)\n",
        "plt.semilogy(train_loss)\n",
        "plt.semilogy(val_loss)\n",
        "\n",
        "plt.legend(['training loss', 'validation loss'])\n",
        "plt.xlabel('epochs')\n",
        "plt.ylabel('BCE')\n",
        "\n",
        "plt.subplot(2, 1, 2)\n",
        "plt.plot(train_acc)\n",
        "plt.plot(val_acc)\n",
        "\n",
        "plt.legend(['training accuracy', 'validation accuracy'])\n",
        "plt.xlabel('epochs')\n",
        "plt.ylabel('accuracy')\n",
        "\n",
        "plt.show()"
      ],
      "metadata": {
        "id": "1Z8TXmTW-v1b"
      },
      "execution_count": null,
      "outputs": []
    },
    {
      "cell_type": "code",
      "source": [
        "y_hat = validation_generator2.classes\n",
        "\n",
        "from tensorflow.keras.utils import to_categorical\n",
        "y_hat = to_categorical(y_hat,num_classes = 200)\n",
        "\n",
        "y_pred_valid_xception = model.predict(validation_generator2)"
      ],
      "metadata": {
        "id": "aRuTb6P2JBXI"
      },
      "execution_count": null,
      "outputs": []
    },
    {
      "cell_type": "code",
      "source": [
        "from sklearn.metrics import classification_report\n",
        "cls_report = classification_report(y_hat.argmax(axis=1), y_pred_valid_xception.argmax(axis=1))\n",
        "\n",
        "print(cls_report)"
      ],
      "metadata": {
        "id": "0GuwO8PQJOA5"
      },
      "execution_count": null,
      "outputs": []
    },
    {
      "cell_type": "code",
      "source": [
        "from sklearn.metrics import confusion_matrix\n",
        "cnf = confusion_matrix(y_hat.argmax(axis=1), y_pred_valid_xception.argmax(axis=1))\n",
        "print(cnf)"
      ],
      "metadata": {
        "id": "pJV9Kk4kLAB6"
      },
      "execution_count": null,
      "outputs": []
    }
  ]
}