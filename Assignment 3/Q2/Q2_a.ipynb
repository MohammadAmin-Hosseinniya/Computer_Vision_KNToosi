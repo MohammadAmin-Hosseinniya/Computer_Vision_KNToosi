{
  "nbformat": 4,
  "nbformat_minor": 0,
  "metadata": {
    "colab": {
      "name": "Q2_a.ipynb",
      "provenance": [],
      "collapsed_sections": []
    },
    "kernelspec": {
      "name": "python3",
      "display_name": "Python 3"
    },
    "language_info": {
      "name": "python"
    }
  },
  "cells": [
    {
      "cell_type": "code",
      "source": [
        "import numpy as np\n",
        "import tensorflow as tf\n",
        "from tensorflow.keras import Model\n",
        "from tensorflow.keras.layers import Conv2D, Flatten, Dense, MaxPooling2D, Input\n",
        "from tensorflow.keras.optimizers import Adam\n",
        "from tensorflow.keras.losses import categorical_crossentropy\n",
        "from tensorflow.keras.utils import to_categorical"
      ],
      "metadata": {
        "id": "_7hIkMhjIJwp"
      },
      "execution_count": 17,
      "outputs": []
    },
    {
      "cell_type": "code",
      "execution_count": 18,
      "metadata": {
        "id": "zrN7kVCUIDmF"
      },
      "outputs": [],
      "source": [
        "accuracy = np.zeros((1,6))"
      ]
    },
    {
      "cell_type": "code",
      "metadata": {
        "id": "fZPr1yFNMslb",
        "colab": {
          "base_uri": "https://localhost:8080/"
        },
        "outputId": "9e144013-bc96-4490-90a8-b54883ad14f5"
      },
      "source": [
        "for i in range(6):\n",
        "  from keras.datasets import cifar10\n",
        "  (x_train, y_train), (x_test, y_test) = cifar10.load_data()\n",
        "  \n",
        "  inp_layer = Input(shape = (32, 32, 3))\n",
        "  conv1 = Conv2D(filters = 8*2^i, kernel_size=(5, 5), strides = (1, 1), padding = 'same',activation = 'relu')(inp_layer)\n",
        "  maxp1 = MaxPooling2D(pool_size=(2, 2), strides = (2, 2))(conv1)\n",
        "  flat = tf.keras.layers.GlobalAveragePooling2D()(maxp1)\n",
        "  output = Dense(units = 10, activation = 'softmax')(flat)\n",
        "\n",
        "  Model1 = Model(inputs = inp_layer, outputs = output)\n",
        "  opt = Adam(learning_rate=0.001)\n",
        "  loss = categorical_crossentropy\n",
        "  Model1.compile(optimizer=opt, loss = loss, metrics = 'acc')\n",
        "  opt = Adam(learning_rate=0.001)\n",
        "  loss = categorical_crossentropy\n",
        "  \n",
        "  Model1.compile(optimizer=opt, loss = loss, metrics = 'acc')\n",
        "  \n",
        "  y_train = to_categorical(y_train, num_classes = 10)\n",
        "  y_test = to_categorical(y_test, num_classes = 10)\n",
        "  x_train = x_train.reshape((50000, 32, 32, 3))\n",
        "  x_test = x_test.reshape((10000, 32, 32, 3))\n",
        "  \n",
        "  results_1 = Model1.fit(x_train, y_train,\n",
        "                    batch_size=32,\n",
        "                    epochs = 10,\n",
        "                    validation_data=(x_test, y_test))\n",
        "  accuracy[0][i] = results_1.history['val_acc'][-1]\n",
        "print(accuracy)"
      ],
      "execution_count": 19,
      "outputs": [
        {
          "output_type": "stream",
          "name": "stdout",
          "text": [
            "Epoch 1/10\n",
            "1563/1563 [==============================] - 39s 25ms/step - loss: 3.0758 - acc: 0.1903 - val_loss: 2.0084 - val_acc: 0.2397\n",
            "Epoch 2/10\n",
            "1563/1563 [==============================] - 39s 25ms/step - loss: 1.9217 - acc: 0.2893 - val_loss: 1.8659 - val_acc: 0.3154\n",
            "Epoch 3/10\n",
            "1563/1563 [==============================] - 39s 25ms/step - loss: 1.8260 - acc: 0.3252 - val_loss: 1.8412 - val_acc: 0.3034\n",
            "Epoch 4/10\n",
            "1563/1563 [==============================] - 39s 25ms/step - loss: 1.7596 - acc: 0.3549 - val_loss: 1.7156 - val_acc: 0.3810\n",
            "Epoch 5/10\n",
            "1563/1563 [==============================] - 39s 25ms/step - loss: 1.7033 - acc: 0.3830 - val_loss: 1.6656 - val_acc: 0.3979\n",
            "Epoch 6/10\n",
            "1563/1563 [==============================] - 39s 25ms/step - loss: 1.6719 - acc: 0.3937 - val_loss: 1.6302 - val_acc: 0.4089\n",
            "Epoch 7/10\n",
            "1563/1563 [==============================] - 39s 25ms/step - loss: 1.6388 - acc: 0.4066 - val_loss: 1.6206 - val_acc: 0.4166\n",
            "Epoch 8/10\n",
            "1563/1563 [==============================] - 39s 25ms/step - loss: 1.6174 - acc: 0.4133 - val_loss: 1.6274 - val_acc: 0.4258\n",
            "Epoch 9/10\n",
            "1563/1563 [==============================] - 39s 25ms/step - loss: 1.6031 - acc: 0.4190 - val_loss: 1.5549 - val_acc: 0.4373\n",
            "Epoch 10/10\n",
            "1563/1563 [==============================] - 40s 25ms/step - loss: 1.5910 - acc: 0.4217 - val_loss: 1.5700 - val_acc: 0.4382\n",
            "Epoch 1/10\n",
            "1563/1563 [==============================] - 45s 29ms/step - loss: 2.9097 - acc: 0.2196 - val_loss: 2.1715 - val_acc: 0.2294\n",
            "Epoch 2/10\n",
            "1563/1563 [==============================] - 45s 29ms/step - loss: 1.9634 - acc: 0.2822 - val_loss: 1.8100 - val_acc: 0.3421\n",
            "Epoch 3/10\n",
            "1563/1563 [==============================] - 45s 29ms/step - loss: 1.8032 - acc: 0.3420 - val_loss: 1.8359 - val_acc: 0.3426\n",
            "Epoch 4/10\n",
            "1563/1563 [==============================] - 44s 28ms/step - loss: 1.7421 - acc: 0.3663 - val_loss: 1.6655 - val_acc: 0.3931\n",
            "Epoch 5/10\n",
            "1563/1563 [==============================] - 44s 28ms/step - loss: 1.7020 - acc: 0.3822 - val_loss: 1.7352 - val_acc: 0.3830\n",
            "Epoch 6/10\n",
            "1563/1563 [==============================] - 44s 28ms/step - loss: 1.6640 - acc: 0.3971 - val_loss: 1.8154 - val_acc: 0.3440\n",
            "Epoch 7/10\n",
            "1563/1563 [==============================] - 44s 28ms/step - loss: 1.6325 - acc: 0.4103 - val_loss: 1.5938 - val_acc: 0.4143\n",
            "Epoch 8/10\n",
            "1563/1563 [==============================] - 44s 28ms/step - loss: 1.6106 - acc: 0.4206 - val_loss: 1.5955 - val_acc: 0.4231\n",
            "Epoch 9/10\n",
            "1563/1563 [==============================] - 44s 28ms/step - loss: 1.5897 - acc: 0.4266 - val_loss: 1.5995 - val_acc: 0.4290\n",
            "Epoch 10/10\n",
            "1563/1563 [==============================] - 44s 28ms/step - loss: 1.5843 - acc: 0.4303 - val_loss: 1.5262 - val_acc: 0.4514\n",
            "Epoch 1/10\n",
            "1563/1563 [==============================] - 46s 29ms/step - loss: 2.6827 - acc: 0.2082 - val_loss: 2.0169 - val_acc: 0.2557\n",
            "Epoch 2/10\n",
            "1563/1563 [==============================] - 46s 29ms/step - loss: 1.8918 - acc: 0.2993 - val_loss: 1.7992 - val_acc: 0.3220\n",
            "Epoch 3/10\n",
            "1563/1563 [==============================] - 46s 29ms/step - loss: 1.7786 - acc: 0.3419 - val_loss: 1.7377 - val_acc: 0.3602\n",
            "Epoch 4/10\n",
            "1563/1563 [==============================] - 47s 30ms/step - loss: 1.7266 - acc: 0.3685 - val_loss: 1.7559 - val_acc: 0.3591\n",
            "Epoch 5/10\n",
            "1563/1563 [==============================] - 48s 31ms/step - loss: 1.6990 - acc: 0.3822 - val_loss: 1.7428 - val_acc: 0.3771\n",
            "Epoch 6/10\n",
            "1563/1563 [==============================] - 46s 30ms/step - loss: 1.6671 - acc: 0.4000 - val_loss: 1.6249 - val_acc: 0.4140\n",
            "Epoch 7/10\n",
            "1563/1563 [==============================] - 46s 29ms/step - loss: 1.6455 - acc: 0.4099 - val_loss: 1.6307 - val_acc: 0.4016\n",
            "Epoch 8/10\n",
            "1563/1563 [==============================] - 48s 31ms/step - loss: 1.6238 - acc: 0.4166 - val_loss: 1.6224 - val_acc: 0.4175\n",
            "Epoch 9/10\n",
            "1563/1563 [==============================] - 47s 30ms/step - loss: 1.6015 - acc: 0.4260 - val_loss: 1.5652 - val_acc: 0.4394\n",
            "Epoch 10/10\n",
            "1563/1563 [==============================] - 46s 29ms/step - loss: 1.5872 - acc: 0.4305 - val_loss: 1.5621 - val_acc: 0.4383\n",
            "Epoch 1/10\n",
            "1563/1563 [==============================] - 46s 29ms/step - loss: 2.5291 - acc: 0.2209 - val_loss: 1.8940 - val_acc: 0.2799\n",
            "Epoch 2/10\n",
            "1563/1563 [==============================] - 47s 30ms/step - loss: 1.8523 - acc: 0.3096 - val_loss: 1.8583 - val_acc: 0.3114\n",
            "Epoch 3/10\n",
            "1563/1563 [==============================] - 45s 29ms/step - loss: 1.7912 - acc: 0.3379 - val_loss: 1.7265 - val_acc: 0.3670\n",
            "Epoch 4/10\n",
            "1563/1563 [==============================] - 47s 30ms/step - loss: 1.7342 - acc: 0.3631 - val_loss: 1.6640 - val_acc: 0.4037\n",
            "Epoch 5/10\n",
            "1563/1563 [==============================] - 45s 29ms/step - loss: 1.6855 - acc: 0.3901 - val_loss: 1.6356 - val_acc: 0.4274\n",
            "Epoch 6/10\n",
            "1563/1563 [==============================] - 45s 29ms/step - loss: 1.6454 - acc: 0.4048 - val_loss: 1.6679 - val_acc: 0.3917\n",
            "Epoch 7/10\n",
            "1563/1563 [==============================] - 46s 29ms/step - loss: 1.6202 - acc: 0.4164 - val_loss: 1.5625 - val_acc: 0.4482\n",
            "Epoch 8/10\n",
            "1563/1563 [==============================] - 46s 30ms/step - loss: 1.5985 - acc: 0.4245 - val_loss: 1.5573 - val_acc: 0.4490\n",
            "Epoch 9/10\n",
            "1563/1563 [==============================] - 47s 30ms/step - loss: 1.5791 - acc: 0.4309 - val_loss: 1.5833 - val_acc: 0.4281\n",
            "Epoch 10/10\n",
            "1563/1563 [==============================] - 47s 30ms/step - loss: 1.5685 - acc: 0.4354 - val_loss: 1.6088 - val_acc: 0.4189\n",
            "Epoch 1/10\n",
            "1563/1563 [==============================] - 48s 30ms/step - loss: 2.5120 - acc: 0.2073 - val_loss: 1.9259 - val_acc: 0.2777\n",
            "Epoch 2/10\n",
            "1563/1563 [==============================] - 47s 30ms/step - loss: 1.8779 - acc: 0.2972 - val_loss: 1.8456 - val_acc: 0.3057\n",
            "Epoch 3/10\n",
            "1563/1563 [==============================] - 49s 31ms/step - loss: 1.7836 - acc: 0.3375 - val_loss: 1.7476 - val_acc: 0.3597\n",
            "Epoch 4/10\n",
            "1563/1563 [==============================] - 49s 31ms/step - loss: 1.7312 - acc: 0.3629 - val_loss: 1.7085 - val_acc: 0.3797\n",
            "Epoch 5/10\n",
            "1563/1563 [==============================] - 48s 31ms/step - loss: 1.6864 - acc: 0.3880 - val_loss: 1.7569 - val_acc: 0.3547\n",
            "Epoch 6/10\n",
            "1563/1563 [==============================] - 49s 31ms/step - loss: 1.6493 - acc: 0.4077 - val_loss: 1.6064 - val_acc: 0.4160\n",
            "Epoch 7/10\n",
            "1563/1563 [==============================] - 49s 31ms/step - loss: 1.6202 - acc: 0.4187 - val_loss: 1.6172 - val_acc: 0.4225\n",
            "Epoch 8/10\n",
            "1563/1563 [==============================] - 47s 30ms/step - loss: 1.6001 - acc: 0.4266 - val_loss: 1.5737 - val_acc: 0.4393\n",
            "Epoch 9/10\n",
            "1563/1563 [==============================] - 48s 31ms/step - loss: 1.5811 - acc: 0.4382 - val_loss: 1.6198 - val_acc: 0.4313\n",
            "Epoch 10/10\n",
            "1563/1563 [==============================] - 47s 30ms/step - loss: 1.5698 - acc: 0.4397 - val_loss: 1.5632 - val_acc: 0.4340\n",
            "Epoch 1/10\n",
            "1563/1563 [==============================] - 48s 30ms/step - loss: 2.7229 - acc: 0.2033 - val_loss: 2.0050 - val_acc: 0.2428\n",
            "Epoch 2/10\n",
            "1563/1563 [==============================] - 46s 30ms/step - loss: 1.9345 - acc: 0.2896 - val_loss: 1.8508 - val_acc: 0.3336\n",
            "Epoch 3/10\n",
            "1563/1563 [==============================] - 46s 30ms/step - loss: 1.7982 - acc: 0.3428 - val_loss: 1.7567 - val_acc: 0.3551\n",
            "Epoch 4/10\n",
            "1563/1563 [==============================] - 46s 29ms/step - loss: 1.7223 - acc: 0.3725 - val_loss: 1.6904 - val_acc: 0.3973\n",
            "Epoch 5/10\n",
            "1563/1563 [==============================] - 46s 29ms/step - loss: 1.6748 - acc: 0.3953 - val_loss: 1.7012 - val_acc: 0.3767\n",
            "Epoch 6/10\n",
            "1563/1563 [==============================] - 47s 30ms/step - loss: 1.6419 - acc: 0.4074 - val_loss: 1.6036 - val_acc: 0.4221\n",
            "Epoch 7/10\n",
            "1563/1563 [==============================] - 49s 31ms/step - loss: 1.6048 - acc: 0.4208 - val_loss: 1.6206 - val_acc: 0.4271\n",
            "Epoch 8/10\n",
            "1563/1563 [==============================] - 46s 29ms/step - loss: 1.5835 - acc: 0.4299 - val_loss: 1.5811 - val_acc: 0.4323\n",
            "Epoch 9/10\n",
            "1563/1563 [==============================] - 48s 31ms/step - loss: 1.5647 - acc: 0.4392 - val_loss: 1.5294 - val_acc: 0.4523\n",
            "Epoch 10/10\n",
            "1563/1563 [==============================] - 48s 31ms/step - loss: 1.5534 - acc: 0.4411 - val_loss: 1.5823 - val_acc: 0.4302\n",
            "[[0.4382     0.45140001 0.43830001 0.41890001 0.43399999 0.43020001]]\n"
          ]
        }
      ]
    },
    {
      "cell_type": "code",
      "source": [
        "print(accuracy)"
      ],
      "metadata": {
        "colab": {
          "base_uri": "https://localhost:8080/"
        },
        "id": "cuD4_KOouuwe",
        "outputId": "d68a7124-c210-460b-f278-799eb15c0be6"
      },
      "execution_count": 20,
      "outputs": [
        {
          "output_type": "stream",
          "name": "stdout",
          "text": [
            "[[0.4382     0.45140001 0.43830001 0.41890001 0.43399999 0.43020001]]\n"
          ]
        }
      ]
    },
    {
      "cell_type": "code",
      "source": [
        "import matplotlib.pyplot as plt\n",
        "%matplotlib inline"
      ],
      "metadata": {
        "id": "bglGbadluwAa"
      },
      "execution_count": 24,
      "outputs": []
    },
    {
      "cell_type": "code",
      "source": [
        "x = [8, 16, 64, 128, 256, 512]\n",
        "y = [0.4382 ,    0.45140001, 0.43830001, 0.41890001, 0.43399999, 0.43020001]\n",
        "# y = np.array(accuracy)\n",
        "plt.plot(x,y, linestyle='-', marker='o')\n",
        "plt.xlabel('number of filters')\n",
        "plt.ylabel('Validation Accuracy')\n",
        "plt.show()"
      ],
      "metadata": {
        "colab": {
          "base_uri": "https://localhost:8080/",
          "height": 279
        },
        "id": "c5cFEfmV6-sF",
        "outputId": "1284a4f0-ab31-4ad6-d791-c3b2fe2bbf91"
      },
      "execution_count": 45,
      "outputs": [
        {
          "output_type": "display_data",
          "data": {
            "text/plain": [
              "<Figure size 432x288 with 1 Axes>"
            ],
            "image/png": "[encoded data removed]"
          },
          "metadata": {
            "needs_background": "light"
          }
        }
      ]
    }
  ]
}